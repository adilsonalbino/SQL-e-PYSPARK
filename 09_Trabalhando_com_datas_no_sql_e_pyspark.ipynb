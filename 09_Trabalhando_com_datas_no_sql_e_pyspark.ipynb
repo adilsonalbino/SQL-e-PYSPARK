{
  "nbformat": 4,
  "nbformat_minor": 0,
  "metadata": {
    "colab": {
      "provenance": [],
      "mount_file_id": "1GSWKeRO3f8EWfuFzYE8mJEPV9_4IX9E1",
      "authorship_tag": "ABX9TyPSBfb5hU0uqHa8mNJ5Gqvu",
      "include_colab_link": true
    },
    "kernelspec": {
      "name": "python3",
      "display_name": "Python 3"
    },
    "language_info": {
      "name": "python"
    }
  },
  "cells": [
    {
      "cell_type": "markdown",
      "metadata": {
        "id": "view-in-github",
        "colab_type": "text"
      },
      "source": [
        "<a href=\"https://colab.research.google.com/github/adilsonalbino/SQL-e-PYSPARK/blob/main/09_Trabalhando_com_datas_no_sql_e_pyspark.ipynb\" target=\"_parent\"><img src=\"https://colab.research.google.com/assets/colab-badge.svg\" alt=\"Open In Colab\"/></a>"
      ]
    },
    {
      "cell_type": "markdown",
      "source": [
        "#09-Trabalhando com datas no sql e pyspark\n",
        "\n",
        "by Adilson Albino"
      ],
      "metadata": {
        "id": "Ugk9uhiHSdwY"
      }
    },
    {
      "cell_type": "code",
      "execution_count": null,
      "metadata": {
        "id": "TOSFZnAm5Zma"
      },
      "outputs": [],
      "source": [
        "\n",
        "#Instalando pyspark no ambiente\n",
        "!pip install pyspark\n",
        "\n",
        "#Importando as bibliotecas\n",
        "from pyspark.sql import SparkSession\n",
        "from pyspark.sql.functions import *\n",
        "\n",
        "#Criando uma sparksession\n",
        "spark = SparkSession.builder\\\n",
        ".appName(\"Spark Engine\")\\\n",
        ".getOrCreate()\n"
      ]
    },
    {
      "cell_type": "code",
      "source": [
        "#Criando dataset de teste\n",
        "df_datas_1 = spark.createDataFrame([\"2021-07-05T10:00:00.000+0000\",\n",
        "                                    \"2020-12-05T00:09:00.000+0000\",\n",
        "                                    \"2017-02-23T16:23:00.000-0000\"],\n",
        "                                    \"string\").toDF(\"datas\")\n",
        "\n",
        "df_datas_2 = spark.createDataFrame([\"05/07/2021 10:41\",\n",
        "                                    \"05/12/2020 14:50\",\n",
        "                                    \"23/02/2017 23:22\"],\n",
        "                                   \"string\").toDF(\"datas\")\n",
        "\n",
        "df_datas_1.show()\n",
        "df_datas_2.show()\n"
      ],
      "metadata": {
        "colab": {
          "base_uri": "https://localhost:8080/"
        },
        "id": "-J7N21wE5o4X",
        "outputId": "17af031d-93a3-4cdd-85e5-88049c53ded5"
      },
      "execution_count": null,
      "outputs": [
        {
          "output_type": "stream",
          "name": "stdout",
          "text": [
            "+--------------------+\n",
            "|               datas|\n",
            "+--------------------+\n",
            "|2021-07-05T10:00:...|\n",
            "|2020-12-05T00:09:...|\n",
            "|2017-02-23T16:23:...|\n",
            "+--------------------+\n",
            "\n",
            "+----------------+\n",
            "|           datas|\n",
            "+----------------+\n",
            "|05/07/2021 10:41|\n",
            "|05/12/2020 14:50|\n",
            "|23/02/2017 23:22|\n",
            "+----------------+\n",
            "\n"
          ]
        }
      ]
    },
    {
      "cell_type": "markdown",
      "source": [
        "#Utilizando SQL"
      ],
      "metadata": {
        "id": "VqFr5rRPkyYU"
      }
    },
    {
      "cell_type": "code",
      "source": [
        "#Criando tabelas temporárias\n",
        "df_datas_1.createOrReplaceTempView(\"df_datas_1\")\n",
        "df_datas_2.createOrReplaceTempView(\"df_datas_2\")"
      ],
      "metadata": {
        "id": "Te2UActd-HoJ"
      },
      "execution_count": null,
      "outputs": []
    },
    {
      "cell_type": "code",
      "source": [
        "#Duplo check na tipagem dos dataframes\n",
        "df_datas_1.printSchema()\n",
        "df_datas_2.printSchema()"
      ],
      "metadata": {
        "colab": {
          "base_uri": "https://localhost:8080/"
        },
        "id": "yvbuWzOHAKE-",
        "outputId": "0fa9b7c5-d141-4446-9eee-32a16336fb64"
      },
      "execution_count": null,
      "outputs": [
        {
          "output_type": "stream",
          "name": "stdout",
          "text": [
            "root\n",
            " |-- datas: string (nullable = true)\n",
            "\n",
            "root\n",
            " |-- datas: string (nullable = true)\n",
            "\n"
          ]
        }
      ]
    },
    {
      "cell_type": "code",
      "source": [
        "df_datas_1_sql = spark.sql(\"\"\"\n",
        "    SELECT\n",
        "      datas,\n",
        "      CAST(datas AS DATE) AS date,\n",
        "      CAST(datas AS TIMESTAMP) AS timestamp,\n",
        "      TO_DATE(datas) AS to_date,\n",
        "      TO_TIMESTAMP(datas) AS to_timestamp\n",
        "    FROM df_datas_1\n",
        "\"\"\")\n",
        "\n",
        "df_datas_1_sql.show(truncate=False)"
      ],
      "metadata": {
        "colab": {
          "base_uri": "https://localhost:8080/"
        },
        "id": "EDGLabFBAgfq",
        "outputId": "b577a117-af2f-43c5-822e-753f5d1f3965"
      },
      "execution_count": null,
      "outputs": [
        {
          "output_type": "stream",
          "name": "stdout",
          "text": [
            "+----------------------------+----------+-------------------+----------+-------------------+\n",
            "|datas                       |date      |timestamp          |to_date   |to_timestamp       |\n",
            "+----------------------------+----------+-------------------+----------+-------------------+\n",
            "|2021-07-05T10:00:00.000+0000|2021-07-05|2021-07-05 10:00:00|2021-07-05|2021-07-05 10:00:00|\n",
            "|2020-12-05T00:09:00.000+0000|2020-12-05|2020-12-05 00:09:00|2020-12-05|2020-12-05 00:09:00|\n",
            "|2017-02-23T16:23:00.000-0000|2017-02-23|2017-02-23 16:23:00|2017-02-23|2017-02-23 16:23:00|\n",
            "+----------------------------+----------+-------------------+----------+-------------------+\n",
            "\n"
          ]
        }
      ]
    },
    {
      "cell_type": "code",
      "source": [
        "#Checando o tipo de dados novamente\n",
        "df_datas_1.printSchema()\n"
      ],
      "metadata": {
        "colab": {
          "base_uri": "https://localhost:8080/"
        },
        "id": "KxexoyCgI6TQ",
        "outputId": "0328408b-f398-4ada-cd30-6fc71b7eb991"
      },
      "execution_count": null,
      "outputs": [
        {
          "output_type": "stream",
          "name": "stdout",
          "text": [
            "root\n",
            " |-- datas: string (nullable = true)\n",
            "\n"
          ]
        }
      ]
    },
    {
      "cell_type": "code",
      "source": [
        "#Vamos tipar o campo data do dataset que tem apenas datas e colocar o padrão dd/mm/yyyyy\n",
        "df_datas_2_sql = spark.sql(\"\"\"\n",
        "    SELECT\n",
        "      datas,\n",
        "      TO_TIMESTAMP(datas, \"dd/MM/yyyy HH:mm\") AS TIMESATAMP\n",
        "    FROM df_datas_2\n",
        "\"\"\")\n",
        "\n",
        "df_datas_2_sql.show(truncate=False)"
      ],
      "metadata": {
        "colab": {
          "base_uri": "https://localhost:8080/"
        },
        "id": "Jxrwgyh8JKg7",
        "outputId": "2f8a125e-1f5f-43a0-8e4b-f837f864d919"
      },
      "execution_count": null,
      "outputs": [
        {
          "output_type": "stream",
          "name": "stdout",
          "text": [
            "+----------------+-------------------+\n",
            "|datas           |TIMESATAMP         |\n",
            "+----------------+-------------------+\n",
            "|05/07/2021 10:41|2021-07-05 10:41:00|\n",
            "|05/12/2020 14:50|2020-12-05 14:50:00|\n",
            "|23/02/2017 23:22|2017-02-23 23:22:00|\n",
            "+----------------+-------------------+\n",
            "\n"
          ]
        }
      ]
    },
    {
      "cell_type": "code",
      "source": [
        "#Checando o tipo de dados novamente\n",
        "df_datas_2_sql.printSchema()"
      ],
      "metadata": {
        "colab": {
          "base_uri": "https://localhost:8080/"
        },
        "id": "oaaOQL2lKRLK",
        "outputId": "f7a6c376-eaa0-48f2-ba74-27afd9139499"
      },
      "execution_count": null,
      "outputs": [
        {
          "output_type": "stream",
          "name": "stdout",
          "text": [
            "root\n",
            " |-- datas: string (nullable = true)\n",
            " |-- TIMESATAMP: timestamp (nullable = true)\n",
            "\n"
          ]
        }
      ]
    },
    {
      "cell_type": "markdown",
      "source": [
        "#Utilizando pyspark"
      ],
      "metadata": {
        "id": "umwiI5DPOh2R"
      }
    },
    {
      "cell_type": "code",
      "source": [
        "df_datas_1_spark = df_datas_1\n",
        "df_datas_1_spark = df_datas_1_spark\\\n",
        "  .withColumn(\"date\", to_date(\"datas\"))\\\n",
        "  .withColumn(\"timestamp\", to_timestamp(\"datas\"))\n",
        "df_datas_1_spark.show(truncate=False)"
      ],
      "metadata": {
        "colab": {
          "base_uri": "https://localhost:8080/"
        },
        "id": "m0d_i5byOpeP",
        "outputId": "145120f4-59c3-4557-afb3-528543064dab"
      },
      "execution_count": null,
      "outputs": [
        {
          "output_type": "stream",
          "name": "stdout",
          "text": [
            "+----------------------------+----------+-------------------+\n",
            "|datas                       |date      |timestamp          |\n",
            "+----------------------------+----------+-------------------+\n",
            "|2021-07-05T10:00:00.000+0000|2021-07-05|2021-07-05 10:00:00|\n",
            "|2020-12-05T00:09:00.000+0000|2020-12-05|2020-12-05 00:09:00|\n",
            "|2017-02-23T16:23:00.000-0000|2017-02-23|2017-02-23 16:23:00|\n",
            "+----------------------------+----------+-------------------+\n",
            "\n"
          ]
        }
      ]
    },
    {
      "cell_type": "code",
      "source": [
        "df_datas_1_spark.printSchema()"
      ],
      "metadata": {
        "colab": {
          "base_uri": "https://localhost:8080/"
        },
        "id": "V7-MKfjSQPoM",
        "outputId": "db20c178-15dc-4cca-c48f-acbd48764a4e"
      },
      "execution_count": null,
      "outputs": [
        {
          "output_type": "stream",
          "name": "stdout",
          "text": [
            "root\n",
            " |-- datas: string (nullable = true)\n",
            " |-- date: date (nullable = true)\n",
            " |-- timestamp: timestamp (nullable = true)\n",
            "\n"
          ]
        }
      ]
    },
    {
      "cell_type": "code",
      "source": [
        "df_datas_2_spark = df_datas_2\n",
        "df_datas_2_spark = df_datas_2_spark\\\n",
        "  .withColumn(\"date\", to_date(\"datas\", \"dd/MM/yyyy HH:mm\"))\\\n",
        "  .withColumn(\"timestamp\", to_timestamp(\"datas\", \"dd/MM/yyyy HH:mm\"))\n",
        "df_datas_2_spark.show(truncate=False)"
      ],
      "metadata": {
        "colab": {
          "base_uri": "https://localhost:8080/"
        },
        "id": "JyfLzz11QXoc",
        "outputId": "8c8a51d8-7912-4426-90b0-c596088bc7cd"
      },
      "execution_count": null,
      "outputs": [
        {
          "output_type": "stream",
          "name": "stdout",
          "text": [
            "+----------------+----------+-------------------+\n",
            "|datas           |date      |timestamp          |\n",
            "+----------------+----------+-------------------+\n",
            "|05/07/2021 10:41|2021-07-05|2021-07-05 10:41:00|\n",
            "|05/12/2020 14:50|2020-12-05|2020-12-05 14:50:00|\n",
            "|23/02/2017 23:22|2017-02-23|2017-02-23 23:22:00|\n",
            "+----------------+----------+-------------------+\n",
            "\n"
          ]
        }
      ]
    },
    {
      "cell_type": "code",
      "source": [
        "df_datas_2_spark.printSchema()"
      ],
      "metadata": {
        "colab": {
          "base_uri": "https://localhost:8080/"
        },
        "id": "rL24mfGTR4VC",
        "outputId": "cd45e2e4-7e08-4bbb-f1f3-6cfc941bc81f"
      },
      "execution_count": null,
      "outputs": [
        {
          "output_type": "stream",
          "name": "stdout",
          "text": [
            "root\n",
            " |-- datas: string (nullable = true)\n",
            " |-- date: date (nullable = true)\n",
            " |-- timestamp: timestamp (nullable = true)\n",
            "\n"
          ]
        }
      ]
    }
  ]
}