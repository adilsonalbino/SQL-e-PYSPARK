{
 "cells": [
  {
   "cell_type": "markdown",
   "metadata": {
    "application/vnd.databricks.v1+cell": {
     "cellMetadata": {},
     "inputWidgets": {},
     "nuid": "0976aea0-7f36-448f-91af-f1bc3ddf3625",
     "showTitle": false,
     "title": ""
    }
   },
   "source": [
    "#07-Like e Between com SQL e Pyspark\n",
    "by Adilson Albino"
   ]
  },
  {
   "cell_type": "code",
   "execution_count": 0,
   "metadata": {
    "application/vnd.databricks.v1+cell": {
     "cellMetadata": {
      "byteLimit": 2048000,
      "rowLimit": 10000
     },
     "inputWidgets": {},
     "nuid": "96ae3194-741d-4cef-9860-6c591230d362",
     "showTitle": false,
     "title": ""
    }
   },
   "outputs": [],
   "source": [
    "from pyspark.sql.functions import *"
   ]
  },
  {
   "cell_type": "code",
   "execution_count": 0,
   "metadata": {
    "application/vnd.databricks.v1+cell": {
     "cellMetadata": {
      "byteLimit": 2048000,
      "rowLimit": 10000
     },
     "inputWidgets": {},
     "nuid": "79e8f59d-3bbc-48ea-a8ac-f54885e8199b",
     "showTitle": false,
     "title": ""
    }
   },
   "outputs": [
    {
     "output_type": "stream",
     "name": "stdout",
     "output_type": "stream",
     "text": [
      "+--------+------------+---------+---------+\n|id_carro|modelo_carro|    preco|cod_marca|\n+--------+------------+---------+---------+\n|       1|      Avalon|$78401.95|       54|\n|       2|         RDX|$95987.38|        1|\n|       3|        Golf|$61274.55|       55|\n|       4|          EX|$84981.12|       23|\n|       5|      Escort|$77466.89|       17|\n|       6|  Expedition|$84698.71|       17|\n|       7|     Voyager|$95567.75|       42|\n|       8|       Civic|$84749.22|       20|\n|       9|    Defender|$98600.79|       29|\n|      10|V8 Vantage S|$94791.61|        2|\n+--------+------------+---------+---------+\nonly showing top 10 rows\n\n"
     ]
    }
   ],
   "source": [
    "#Lendo o dataset\n",
    "df_carros = spark \\\n",
    ".read.format(\"csv\")\\\n",
    ".option(\"header\",True)\\\n",
    ".load(\"/aprendizado/modelo_carro\")\n",
    "df_carros.show(10)"
   ]
  },
  {
   "cell_type": "markdown",
   "metadata": {
    "application/vnd.databricks.v1+cell": {
     "cellMetadata": {},
     "inputWidgets": {},
     "nuid": "b12e052e-298f-4f56-8428-b8e5eb83f066",
     "showTitle": false,
     "title": ""
    }
   },
   "source": [
    "#Utilizando SQL"
   ]
  },
  {
   "cell_type": "code",
   "execution_count": 0,
   "metadata": {
    "application/vnd.databricks.v1+cell": {
     "cellMetadata": {
      "byteLimit": 2048000,
      "rowLimit": 10000
     },
     "inputWidgets": {},
     "nuid": "bdd895f9-a8d9-4b96-8d8d-33f7d32d9675",
     "showTitle": false,
     "title": ""
    }
   },
   "outputs": [],
   "source": [
    "df_carros.createOrReplaceTempView(\"carros\")"
   ]
  },
  {
   "cell_type": "code",
   "execution_count": 0,
   "metadata": {
    "application/vnd.databricks.v1+cell": {
     "cellMetadata": {
      "byteLimit": 2048000,
      "implicitDf": true,
      "rowLimit": 10000
     },
     "inputWidgets": {},
     "nuid": "7b1c50ad-53e6-405b-8c02-6e5bbb1a94c2",
     "showTitle": false,
     "title": ""
    }
   },
   "outputs": [
    {
     "output_type": "display_data",
     "data": {
      "text/html": [
       "<style scoped>\n",
       "  .table-result-container {\n",
       "    max-height: 300px;\n",
       "    overflow: auto;\n",
       "  }\n",
       "  table, th, td {\n",
       "    border: 1px solid black;\n",
       "    border-collapse: collapse;\n",
       "  }\n",
       "  th, td {\n",
       "    padding: 5px;\n",
       "  }\n",
       "  th {\n",
       "    text-align: left;\n",
       "  }\n",
       "</style><div class='table-result-container'><table class='table-result'><thead style='background-color: white'><tr><th>id_carro</th><th>modelo_carro</th><th>preco</th><th>cod_marca</th></tr></thead><tbody><tr><td>32</td><td>Boxster</td><td>$76967.22</td><td>44</td></tr><tr><td>621</td><td>Boxster</td><td>$46049.05</td><td>44</td></tr></tbody></table></div>"
      ]
     },
     "metadata": {
      "application/vnd.databricks.v1+output": {
       "addedWidgets": {},
       "aggData": [],
       "aggError": "",
       "aggOverflow": false,
       "aggSchema": [],
       "aggSeriesLimitReached": false,
       "aggType": "",
       "arguments": {},
       "columnCustomDisplayInfos": {},
       "data": [
        [
         "32",
         "Boxster",
         "$76967.22",
         "44"
        ],
        [
         "621",
         "Boxster",
         "$46049.05",
         "44"
        ]
       ],
       "datasetInfos": [],
       "dbfsResultPath": null,
       "isJsonSchema": true,
       "metadata": {},
       "overflow": false,
       "plotOptions": {
        "customPlotOptions": {},
        "displayType": "table",
        "pivotAggregation": null,
        "pivotColumns": null,
        "xColumns": null,
        "yColumns": null
       },
       "removedWidgets": [],
       "schema": [
        {
         "metadata": "{}",
         "name": "id_carro",
         "type": "\"string\""
        },
        {
         "metadata": "{}",
         "name": "modelo_carro",
         "type": "\"string\""
        },
        {
         "metadata": "{}",
         "name": "preco",
         "type": "\"string\""
        },
        {
         "metadata": "{}",
         "name": "cod_marca",
         "type": "\"string\""
        }
       ],
       "type": "table"
      }
     },
     "output_type": "display_data"
    }
   ],
   "source": [
    "%sql\n",
    "select \n",
    "*\n",
    "from carros\n",
    "where modelo_carro like \"%Box%\""
   ]
  },
  {
   "cell_type": "code",
   "execution_count": 0,
   "metadata": {
    "application/vnd.databricks.v1+cell": {
     "cellMetadata": {
      "byteLimit": 2048000,
      "implicitDf": true,
      "rowLimit": 10000
     },
     "inputWidgets": {},
     "nuid": "d542784d-2179-4d4c-891a-7af57c8f6e9e",
     "showTitle": false,
     "title": ""
    }
   },
   "outputs": [
    {
     "output_type": "display_data",
     "data": {
      "text/html": [
       "<style scoped>\n",
       "  .table-result-container {\n",
       "    max-height: 300px;\n",
       "    overflow: auto;\n",
       "  }\n",
       "  table, th, td {\n",
       "    border: 1px solid black;\n",
       "    border-collapse: collapse;\n",
       "  }\n",
       "  th, td {\n",
       "    padding: 5px;\n",
       "  }\n",
       "  th {\n",
       "    text-align: left;\n",
       "  }\n",
       "</style><div class='table-result-container'><table class='table-result'><thead style='background-color: white'><tr><th>id_carro</th><th>modelo_carro</th><th>preco</th><th>cod_marca</th></tr></thead><tbody><tr><td>40</td><td>Fit</td><td>$55448.35</td><td>20</td></tr><tr><td>41</td><td>Vandura 2500</td><td>$87010.01</td><td>18</td></tr><tr><td>42</td><td>B-Series</td><td>$88693.03</td><td>36</td></tr><tr><td>43</td><td>Continental</td><td>$83230.01</td><td>6</td></tr><tr><td>44</td><td>Express 2500</td><td>$56653.51</td><td>10</td></tr><tr><td>45</td><td>MKZ</td><td>$53358.67</td><td>31</td></tr></tbody></table></div>"
      ]
     },
     "metadata": {
      "application/vnd.databricks.v1+output": {
       "addedWidgets": {},
       "aggData": [],
       "aggError": "",
       "aggOverflow": false,
       "aggSchema": [],
       "aggSeriesLimitReached": false,
       "aggType": "",
       "arguments": {},
       "columnCustomDisplayInfos": {},
       "data": [
        [
         "40",
         "Fit",
         "$55448.35",
         "20"
        ],
        [
         "41",
         "Vandura 2500",
         "$87010.01",
         "18"
        ],
        [
         "42",
         "B-Series",
         "$88693.03",
         "36"
        ],
        [
         "43",
         "Continental",
         "$83230.01",
         "6"
        ],
        [
         "44",
         "Express 2500",
         "$56653.51",
         "10"
        ],
        [
         "45",
         "MKZ",
         "$53358.67",
         "31"
        ]
       ],
       "datasetInfos": [],
       "dbfsResultPath": null,
       "isJsonSchema": true,
       "metadata": {},
       "overflow": false,
       "plotOptions": {
        "customPlotOptions": {},
        "displayType": "table",
        "pivotAggregation": null,
        "pivotColumns": null,
        "xColumns": null,
        "yColumns": null
       },
       "removedWidgets": [],
       "schema": [
        {
         "metadata": "{}",
         "name": "id_carro",
         "type": "\"string\""
        },
        {
         "metadata": "{}",
         "name": "modelo_carro",
         "type": "\"string\""
        },
        {
         "metadata": "{}",
         "name": "preco",
         "type": "\"string\""
        },
        {
         "metadata": "{}",
         "name": "cod_marca",
         "type": "\"string\""
        }
       ],
       "type": "table"
      }
     },
     "output_type": "display_data"
    }
   ],
   "source": [
    "%sql\n",
    "select \n",
    "*\n",
    "from carros\n",
    "where id_carro between 40 and 45"
   ]
  },
  {
   "cell_type": "markdown",
   "metadata": {
    "application/vnd.databricks.v1+cell": {
     "cellMetadata": {},
     "inputWidgets": {},
     "nuid": "ac438480-6258-42ca-8d6a-2ff379d9d66b",
     "showTitle": false,
     "title": ""
    }
   },
   "source": [
    "#Utilizando Pyspark"
   ]
  },
  {
   "cell_type": "code",
   "execution_count": 0,
   "metadata": {
    "application/vnd.databricks.v1+cell": {
     "cellMetadata": {
      "byteLimit": 2048000,
      "rowLimit": 10000
     },
     "inputWidgets": {},
     "nuid": "4620b0cb-713b-4fa1-ad74-db5f7b14c789",
     "showTitle": false,
     "title": ""
    }
   },
   "outputs": [
    {
     "output_type": "stream",
     "name": "stdout",
     "output_type": "stream",
     "text": [
      "+--------+-------------+---------+---------+\n|id_carro| modelo_carro|    preco|cod_marca|\n+--------+-------------+---------+---------+\n|      12|G-Series 1500|$71638.24|       10|\n|      26|Yukon XL 1500|$62798.89|       18|\n|      34|Ram 1500 Club|$95066.12|       14|\n|      50|Suburban 1500|$51716.15|       10|\n|      57|         1500|$70293.96|       10|\n+--------+-------------+---------+---------+\nonly showing top 5 rows\n\n"
     ]
    }
   ],
   "source": [
    "#utilizando a função like com where para filtros\n",
    "from pyspark.sql.functions import *\n",
    "df_carros_spark = df_carros\n",
    "df_carros_spark = df_carros_spark.where(\n",
    "    col(\"modelo_carro\").like(\"%1500%\") \n",
    "\n",
    ")\n",
    "df_carros_spark.show(5)"
   ]
  },
  {
   "cell_type": "code",
   "execution_count": 0,
   "metadata": {
    "application/vnd.databricks.v1+cell": {
     "cellMetadata": {
      "byteLimit": 2048000,
      "rowLimit": 10000
     },
     "inputWidgets": {},
     "nuid": "8c092db5-2253-45ca-bf2f-d139e64ad6b6",
     "showTitle": false,
     "title": ""
    }
   },
   "outputs": [
    {
     "output_type": "stream",
     "name": "stdout",
     "output_type": "stream",
     "text": [
      "+--------+------------+---------+---------+\n|id_carro|modelo_carro|    preco|cod_marca|\n+--------+------------+---------+---------+\n|      40|         Fit|$55448.35|       20|\n|      41|Vandura 2500|$87010.01|       18|\n|      42|    B-Series|$88693.03|       36|\n|      43| Continental|$83230.01|        6|\n|      44|Express 2500|$56653.51|       10|\n+--------+------------+---------+---------+\nonly showing top 5 rows\n\n"
     ]
    }
   ],
   "source": [
    "#utilizando a função between com where\n",
    "from pyspark.sql.functions import *\n",
    "df_carros_spark = df_carros\n",
    "df_carros_spark = df_carros_spark.where(\n",
    "    col(\"id_carro\").between(40,45)\n",
    "\n",
    ")\n",
    "df_carros_spark.show(5)"
   ]
  }
 ],
 "metadata": {
  "application/vnd.databricks.v1+notebook": {
   "dashboards": [],
   "environmentMetadata": null,
   "language": "python",
   "notebookMetadata": {
    "mostRecentlyExecutedCommandWithImplicitDF": {
     "commandId": 3957233398489033,
     "dataframes": [
      "_sqldf"
     ]
    },
    "pythonIndentUnit": 4
   },
   "notebookName": "07-Like e Between com SQL e Pyspark",
   "widgets": {}
  }
 },
 "nbformat": 4,
 "nbformat_minor": 0
}
