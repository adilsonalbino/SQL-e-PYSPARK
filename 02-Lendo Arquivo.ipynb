{
 "cells": [
  {
   "cell_type": "markdown",
   "metadata": {
    "application/vnd.databricks.v1+cell": {
     "cellMetadata": {
      "byteLimit": 2048000,
      "rowLimit": 10000
     },
     "inputWidgets": {},
     "nuid": "98625d1b-26a9-484d-9f27-6cff5b6fbe53",
     "showTitle": false,
     "title": ""
    }
   },
   "source": [
    "#02-Lendo Arquivos\n",
    "by Adilson Albino"
   ]
  },
  {
   "cell_type": "code",
   "execution_count": 0,
   "metadata": {
    "application/vnd.databricks.v1+cell": {
     "cellMetadata": {
      "byteLimit": 2048000,
      "rowLimit": 10000
     },
     "inputWidgets": {},
     "nuid": "08715ca4-4da3-47a3-8163-2b7ecc0fc1eb",
     "showTitle": false,
     "title": ""
    }
   },
   "outputs": [
    {
     "output_type": "stream",
     "name": "stdout",
     "output_type": "stream",
     "text": [
      "+--------+------------+---------+---------+\n|     _c0|         _c1|      _c2|      _c3|\n+--------+------------+---------+---------+\n|id_carro|modelo_carro|    preco|cod_marca|\n|       1|      Avalon|$78401.95|       54|\n|       2|         RDX|$95987.38|        1|\n|       3|        Golf|$61274.55|       55|\n|       4|          EX|$84981.12|       23|\n|       5|      Escort|$77466.89|       17|\n|       6|  Expedition|$84698.71|       17|\n|       7|     Voyager|$95567.75|       42|\n+--------+------------+---------+---------+\nonly showing top 8 rows\n\n"
     ]
    }
   ],
   "source": [
    "#Carregando o arquivo salvo dentro do dbfs\n",
    "df_carro = spark.read.format(\"csv\").load(\"/aprendizado/modelo_carro\")\n",
    "df_carro.show(8)"
   ]
  },
  {
   "cell_type": "code",
   "execution_count": 0,
   "metadata": {
    "application/vnd.databricks.v1+cell": {
     "cellMetadata": {
      "byteLimit": 2048000,
      "rowLimit": 10000
     },
     "inputWidgets": {},
     "nuid": "ad5074d4-2294-4d73-8459-2db1eefe4689",
     "showTitle": false,
     "title": ""
    }
   },
   "outputs": [
    {
     "output_type": "stream",
     "name": "stdout",
     "output_type": "stream",
     "text": [
      "+--------+------------+---------+---------+\n|id_carro|modelo_carro|    preco|cod_marca|\n+--------+------------+---------+---------+\n|       1|      Avalon|$78401.95|       54|\n|       2|         RDX|$95987.38|        1|\n|       3|        Golf|$61274.55|       55|\n|       4|          EX|$84981.12|       23|\n|       5|      Escort|$77466.89|       17|\n|       6|  Expedition|$84698.71|       17|\n|       7|     Voyager|$95567.75|       42|\n|       8|       Civic|$84749.22|       20|\n|       9|    Defender|$98600.79|       29|\n|      10|V8 Vantage S|$94791.61|        2|\n+--------+------------+---------+---------+\nonly showing top 10 rows\n\n"
     ]
    }
   ],
   "source": [
    "#O cabeçalho não foi identificado corretamente\n",
    "#Ajustando o cabeçalho passando o parâmetro OPTION(\"header, True\")\n",
    "df_carro = spark \\\n",
    ".read.format(\"csv\") \\\n",
    ".option(\"header\", True)\\\n",
    ".load(\"/aprendizado/modelo_carro\")\n",
    "\n",
    "df_carro.show(10)"
   ]
  },
  {
   "cell_type": "code",
   "execution_count": 0,
   "metadata": {
    "application/vnd.databricks.v1+cell": {
     "cellMetadata": {
      "byteLimit": 2048000,
      "rowLimit": 10000
     },
     "inputWidgets": {},
     "nuid": "2f49e9a6-1565-42e7-a102-3541c6efe733",
     "showTitle": false,
     "title": ""
    }
   },
   "outputs": [
    {
     "output_type": "stream",
     "name": "stdout",
     "output_type": "stream",
     "text": [
      "+-------------------------------------+\n|id_carro,modelo_carro,preco,cod_marca|\n+-------------------------------------+\n|                 1,Avalon,$78401.9...|\n|                    2,RDX,$95987.38,1|\n|                  3,Golf,$61274.55,55|\n|                    4,EX,$84981.12,23|\n|                 5,Escort,$77466.8...|\n|                 6,Expedition,$846...|\n|                 7,Voyager,$95567....|\n|                 8,Civic,$84749.22,20|\n|                 9,Defender,$98600...|\n|                 10,V8 Vantage S,$...|\n+-------------------------------------+\nonly showing top 10 rows\n\n"
     ]
    }
   ],
   "source": [
    "#Caso estejamos trabalhando com arquivo delimitado com separdor \",\" ou \";\" etc... Podemos usar o comando OPTION para isso também\n",
    "df_carro = spark \\\n",
    ".read.format(\"csv\") \\\n",
    ".option(\"delimiter\", \";\") \\\n",
    ".option(\"header\", True) \\\n",
    ".load(\"/aprendizado/modelo_carro\") \n",
    "df_carro.show(10)"
   ]
  },
  {
   "cell_type": "code",
   "execution_count": 0,
   "metadata": {
    "application/vnd.databricks.v1+cell": {
     "cellMetadata": {
      "byteLimit": 2048000,
      "rowLimit": 10000
     },
     "inputWidgets": {},
     "nuid": "39c42ca5-8008-4918-bda5-ad5ef4581952",
     "showTitle": false,
     "title": ""
    }
   },
   "outputs": [
    {
     "output_type": "stream",
     "name": "stdout",
     "output_type": "stream",
     "text": [
      "+--------+------------+---------+---------+\n|id_carro|modelo_carro|    preco|cod_marca|\n+--------+------------+---------+---------+\n|       1|      Avalon|$78401.95|       54|\n|       2|         RDX|$95987.38|        1|\n|       3|        Golf|$61274.55|       55|\n|       4|          EX|$84981.12|       23|\n|       5|      Escort|$77466.89|       17|\n+--------+------------+---------+---------+\nonly showing top 5 rows\n\n"
     ]
    }
   ],
   "source": [
    "#O delimitador também pode ser passado no final do comando com o parametro \"sep\"\n",
    "df_carro = spark \\\n",
    ".read.format(\"csv\") \\\n",
    ".option(\"header\", True) \\\n",
    ".load(\"/aprendizado/modelo_carro\",sep = \",\")\n",
    "df_carro.show(5)"
   ]
  },
  {
   "cell_type": "code",
   "execution_count": 0,
   "metadata": {
    "application/vnd.databricks.v1+cell": {
     "cellMetadata": {
      "byteLimit": 2048000,
      "rowLimit": 10000
     },
     "inputWidgets": {},
     "nuid": "7e136e97-949f-4676-932d-472d0218ece1",
     "showTitle": false,
     "title": ""
    }
   },
   "outputs": [
    {
     "output_type": "stream",
     "name": "stdout",
     "output_type": "stream",
     "text": [
      "+--------+------------+---------+---------+\n|id_carro|modelo_carro|    preco|cod_marca|\n+--------+------------+---------+---------+\n|       1|      Avalon|$78401.95|       54|\n|       2|         RDX|$95987.38|        1|\n|       3|        Golf|$61274.55|       55|\n|       4|          EX|$84981.12|       23|\n|       5|      Escort|$77466.89|       17|\n+--------+------------+---------+---------+\nonly showing top 5 rows\n\n"
     ]
    }
   ],
   "source": [
    "#Podemos tambem definir o ENCODE dos dados principalmente para aceitar letras ou palavras com acentuação\n",
    "df_carro = spark \\\n",
    ".read.format(\"csv\") \\\n",
    ".option(\"header\", True) \\\n",
    ".option(\"enconding\", \"utf=8\") \\\n",
    ".load(\"/aprendizado/modelo_carro\",sep = \",\")\n",
    "df_carro.show(5)\n"
   ]
  },
  {
   "cell_type": "code",
   "execution_count": 0,
   "metadata": {
    "application/vnd.databricks.v1+cell": {
     "cellMetadata": {
      "byteLimit": 2048000,
      "rowLimit": 10000
     },
     "inputWidgets": {},
     "nuid": "f0ea3cbe-852c-42a4-993c-68b364ac8638",
     "showTitle": false,
     "title": ""
    }
   },
   "outputs": [],
   "source": [
    "#Escrevendo ou gerando o mesmo arquivo para outros formatos\n",
    "\n",
    "#arquivo parquet\n",
    "df_carro.write.format(\"parquet\").save(\"/aprendizado/modelo_carro_parquet\")\n",
    "\n",
    "#arquivo avro\n",
    "df_carro.write.format(\"avro\").save(\"/aprendizado/modelo_carro_avro\")\n",
    "\n",
    "#arquivo json\n",
    "df_carro.write.format(\"avro\").save(\"/aprendizado/modelo_carro_json\")"
   ]
  },
  {
   "cell_type": "code",
   "execution_count": 0,
   "metadata": {
    "application/vnd.databricks.v1+cell": {
     "cellMetadata": {
      "byteLimit": 2048000,
      "rowLimit": 10000
     },
     "inputWidgets": {},
     "nuid": "adf8f6c9-2156-442b-b0db-438ec617a9c8",
     "showTitle": false,
     "title": ""
    }
   },
   "outputs": [
    {
     "output_type": "stream",
     "name": "stdout",
     "output_type": "stream",
     "text": [
      "+--------+------------+---------+---------+\n|id_carro|modelo_carro|    preco|cod_marca|\n+--------+------------+---------+---------+\n|       1|      Avalon|$78401.95|       54|\n|       2|         RDX|$95987.38|        1|\n|       3|        Golf|$61274.55|       55|\n|       4|          EX|$84981.12|       23|\n|       5|      Escort|$77466.89|       17|\n|       6|  Expedition|$84698.71|       17|\n|       7|     Voyager|$95567.75|       42|\n|       8|       Civic|$84749.22|       20|\n|       9|    Defender|$98600.79|       29|\n|      10|V8 Vantage S|$94791.61|        2|\n+--------+------------+---------+---------+\nonly showing top 10 rows\n\n"
     ]
    }
   ],
   "source": [
    "#Lendo arquivo parquet\n",
    "df_parquet = spark \\\n",
    ".read.format(\"parquet\")\\\n",
    ".load(\"/aprendizado/modelo_carro_parquet\")\n",
    "df_parquet.show(10)"
   ]
  },
  {
   "cell_type": "code",
   "execution_count": 0,
   "metadata": {
    "application/vnd.databricks.v1+cell": {
     "cellMetadata": {
      "byteLimit": 2048000,
      "rowLimit": 10000
     },
     "inputWidgets": {},
     "nuid": "fb7f9f72-3e7b-404f-a222-22b33223627d",
     "showTitle": false,
     "title": ""
    }
   },
   "outputs": [
    {
     "output_type": "stream",
     "name": "stdout",
     "output_type": "stream",
     "text": [
      "+--------+------------+---------+---------+\n|id_carro|modelo_carro|    preco|cod_marca|\n+--------+------------+---------+---------+\n|       1|      Avalon|$78401.95|       54|\n|       2|         RDX|$95987.38|        1|\n|       3|        Golf|$61274.55|       55|\n|       4|          EX|$84981.12|       23|\n|       5|      Escort|$77466.89|       17|\n+--------+------------+---------+---------+\nonly showing top 5 rows\n\n"
     ]
    }
   ],
   "source": [
    "#Lendo arquivo parquet\n",
    "df_avro = spark \\\n",
    ".read.format(\"avro\")\\\n",
    ".load(\"/aprendizado/modelo_carro_avro\")\n",
    "df_avro.show(5)"
   ]
  }
 ],
 "metadata": {
  "application/vnd.databricks.v1+notebook": {
   "dashboards": [],
   "environmentMetadata": null,
   "language": "python",
   "notebookMetadata": {
    "pythonIndentUnit": 4
   },
   "notebookName": "02-Lendo Arquivo",
   "widgets": {}
  }
 },
 "nbformat": 4,
 "nbformat_minor": 0
}
