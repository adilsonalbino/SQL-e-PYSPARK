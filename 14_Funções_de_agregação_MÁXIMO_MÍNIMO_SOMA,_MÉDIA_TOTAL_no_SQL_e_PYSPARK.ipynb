{
  "nbformat": 4,
  "nbformat_minor": 0,
  "metadata": {
    "colab": {
      "provenance": [],
      "mount_file_id": "1mXb-WrIRWOxRM617q_8hnACR7zoEm9xQ",
      "authorship_tag": "ABX9TyPgUsuu9DxQuWeGEJTTQpAY",
      "include_colab_link": true
    },
    "kernelspec": {
      "name": "python3",
      "display_name": "Python 3"
    },
    "language_info": {
      "name": "python"
    }
  },
  "cells": [
    {
      "cell_type": "markdown",
      "metadata": {
        "id": "view-in-github",
        "colab_type": "text"
      },
      "source": [
        "<a href=\"https://colab.research.google.com/github/adilsonalbino/SQL-e-PYSPARK/blob/main/14_Fun%C3%A7%C3%B5es_de_agrega%C3%A7%C3%A3o_M%C3%81XIMO_M%C3%8DNIMO_SOMA%2C_M%C3%89DIA_TOTAL_no_SQL_e_PYSPARK.ipynb\" target=\"_parent\"><img src=\"https://colab.research.google.com/assets/colab-badge.svg\" alt=\"Open In Colab\"/></a>"
      ]
    },
    {
      "cell_type": "markdown",
      "source": [
        "\n",
        "#14-Funções de agregação no SQL e PYSPARK\n",
        "by Adilson Albino"
      ],
      "metadata": {
        "id": "wlfmZi3qNyJO"
      }
    },
    {
      "cell_type": "code",
      "execution_count": 8,
      "metadata": {
        "colab": {
          "base_uri": "https://localhost:8080/"
        },
        "id": "uXLGSJTYNqDJ",
        "outputId": "68bbe472-0ecf-4cc4-a992-f90a7f5fc33c"
      },
      "outputs": [
        {
          "output_type": "stream",
          "name": "stdout",
          "text": [
            "Requirement already satisfied: pyspark in /usr/local/lib/python3.10/dist-packages (3.5.1)\n",
            "Requirement already satisfied: py4j==0.10.9.7 in /usr/local/lib/python3.10/dist-packages (from pyspark) (0.10.9.7)\n"
          ]
        }
      ],
      "source": [
        "#instalando pyspark\n",
        "!pip install pyspark\n",
        "\n",
        "#importando bibliotecas\n",
        "from pyspark.sql import SparkSession\n",
        "from pyspark.sql.functions import *\n",
        "from pyspark.sql.types import *\n",
        "\n",
        "#Criando app spark\n",
        "spark = SparkSession.builder \\\n",
        ".appName(\"Spark\")\\\n",
        ".getOrCreate()"
      ]
    },
    {
      "cell_type": "code",
      "source": [
        "#Variavel com a informação do caminho do dataset\n",
        "file_path_carros = \"/content/drive/MyDrive/Colab Notebooks/PySpark_SQL/DATASET_CARROS/modelo_carro.csv\""
      ],
      "metadata": {
        "id": "jI7JhUq6O3h9"
      },
      "execution_count": 2,
      "outputs": []
    },
    {
      "cell_type": "code",
      "source": [
        "#Carregando o dataset\n",
        "df_carros = spark\\\n",
        ".read.format(\"csv\")\\\n",
        ".option(\"header\", True)\\\n",
        ".load(file_path_carros)\\\n",
        "\n",
        "df_carros = df_carros.withColumn(\n",
        "    \"preco\",\n",
        "    regexp_replace(\"preco\", \"\\$\", \"\")\n",
        "    .cast(DoubleType())\n",
        ")\n",
        "\n",
        "\n",
        "df_carros.show(10)"
      ],
      "metadata": {
        "colab": {
          "base_uri": "https://localhost:8080/"
        },
        "id": "JAclbLHyO81o",
        "outputId": "284a853b-f071-40ab-949a-10d60bcadc1b"
      },
      "execution_count": 10,
      "outputs": [
        {
          "output_type": "stream",
          "name": "stdout",
          "text": [
            "+--------+------------+--------+---------+\n",
            "|id_carro|modelo_carro|   preco|cod_marca|\n",
            "+--------+------------+--------+---------+\n",
            "|       1|      Avalon|78401.95|       54|\n",
            "|       2|         RDX|95987.38|        1|\n",
            "|       3|        Golf|61274.55|       55|\n",
            "|       4|          EX|84981.12|       23|\n",
            "|       5|      Escort|77466.89|       17|\n",
            "|       6|  Expedition|84698.71|       17|\n",
            "|       7|     Voyager|95567.75|       42|\n",
            "|       8|       Civic|84749.22|       20|\n",
            "|       9|    Defender|98600.79|       29|\n",
            "|      10|V8 Vantage S|94791.61|        2|\n",
            "+--------+------------+--------+---------+\n",
            "only showing top 10 rows\n",
            "\n"
          ]
        }
      ]
    },
    {
      "cell_type": "markdown",
      "source": [
        "#Utilizando SQL"
      ],
      "metadata": {
        "id": "EbnrmkT_RpzE"
      }
    },
    {
      "cell_type": "code",
      "source": [
        "#Criando tabela temporária\n",
        "df_carros_sql = df_carros.createOrReplaceTempView(\"carros\")"
      ],
      "metadata": {
        "id": "awI9Skl-QEsw"
      },
      "execution_count": 11,
      "outputs": []
    },
    {
      "cell_type": "code",
      "source": [
        "#Utilizando MAX, MIN, SUM, AVG, COUNT\n",
        "df_carros_sql = spark.sql(\"\"\"\n",
        "  SELECT\n",
        "\n",
        "      MAX(preco) AS MAIOR,\n",
        "      MIN(preco) AS MENOR,\n",
        "      SUM(preco) AS SOMA,\n",
        "      AVG(preco) AS MEDIA,\n",
        "      COUNT(*) AS TOTAL_CARROS\n",
        "\n",
        "  FROM carros\n",
        "\"\"\")\n",
        "df_carros_sql.show()"
      ],
      "metadata": {
        "colab": {
          "base_uri": "https://localhost:8080/"
        },
        "id": "JS7EaysjR9j5",
        "outputId": "a26b748b-704d-4a84-ebed-5c523741041c"
      },
      "execution_count": 42,
      "outputs": [
        {
          "output_type": "stream",
          "name": "stdout",
          "text": [
            "+--------+--------+-------------------+-----------------+------------+\n",
            "|   MAIOR|   MENOR|               SOMA|            MEDIA|TOTAL_CARROS|\n",
            "+--------+--------+-------------------+-----------------+------------+\n",
            "|99938.89|45082.42|7.266464454000008E7|72664.64454000008|        1000|\n",
            "+--------+--------+-------------------+-----------------+------------+\n",
            "\n"
          ]
        }
      ]
    },
    {
      "cell_type": "code",
      "source": [
        "#Fazendo agrupamento (GROUP BY)\n",
        "df_carros_sql = spark.sql(\"\"\"\n",
        "  SELECT\n",
        "      modelo_carro,\n",
        "      MAX(preco) AS MAIOR,\n",
        "      MIN(preco) AS MENOR,\n",
        "      SUM(preco) AS SOMA,\n",
        "      AVG(preco) AS MEDIA,\n",
        "      COUNT(*) AS TOTAL_CARROS\n",
        "  FROM carros\n",
        "  GROUP BY modelo_carro\n",
        "\"\"\")\n",
        "df_carros_sql.show()"
      ],
      "metadata": {
        "colab": {
          "base_uri": "https://localhost:8080/"
        },
        "id": "L7plSjQgWX71",
        "outputId": "ad8f4617-2544-4a2c-a847-ff6d3e585d34"
      },
      "execution_count": 44,
      "outputs": [
        {
          "output_type": "stream",
          "name": "stdout",
          "text": [
            "+------------+--------+--------+------------------+------------------+------------+\n",
            "|modelo_carro|   MAIOR|   MENOR|              SOMA|             MEDIA|TOTAL_CARROS|\n",
            "+------------+--------+--------+------------------+------------------+------------+\n",
            "| Savana 1500|85392.12|49351.82|         324443.83|         64888.766|           5|\n",
            "|      Cirrus|81784.17|81784.17|          81784.17|          81784.17|           1|\n",
            "|         944|87930.76|87930.76|          87930.76|          87930.76|           1|\n",
            "|      Avanti|98629.28|98629.28|          98629.28|          98629.28|           1|\n",
            "|     Outlook|68318.15|49510.92|117829.06999999999|58914.534999999996|           2|\n",
            "|     Contour|72937.19|72937.19|          72937.19|          72937.19|           1|\n",
            "|         S60|85793.33| 48719.1|         377417.08| 62902.84666666667|           6|\n",
            "|        1500|70293.96|45539.22|115833.18000000001|57916.590000000004|           2|\n",
            "|       XLR-V|75537.75|50360.58|         125898.33|         62949.165|           2|\n",
            "|          SC|93119.36|59469.43|         387392.13|         77478.426|           5|\n",
            "|         DBS|67440.68|57147.38|         191579.03|63859.676666666666|           3|\n",
            "|         MR2|99005.49|46715.51|         311583.23|        77895.8075|           4|\n",
            "| Mini Cooper|48429.24|48429.24|          48429.24|          48429.24|           1|\n",
            "|        Omni|86783.48|86783.48|          86783.48|          86783.48|           1|\n",
            "|       Camry|93307.39|66976.98|243290.40000000002|           81096.8|           3|\n",
            "|         940| 83004.3| 83004.3|           83004.3|           83004.3|           1|\n",
            "|    GL-Class|81406.44|81406.44|          81406.44|          81406.44|           1|\n",
            "|     Seville|96507.84|96507.84|          96507.84|          96507.84|           1|\n",
            "|      Sonoma| 85602.7| 85602.7|           85602.7|           85602.7|           1|\n",
            "|   CLK-Class|86193.93|86193.93|          86193.93|          86193.93|           1|\n",
            "+------------+--------+--------+------------------+------------------+------------+\n",
            "only showing top 20 rows\n",
            "\n"
          ]
        }
      ]
    },
    {
      "cell_type": "code",
      "source": [
        "#Ordenando com ORDER BY\n",
        "df_carros_sql = spark.sql(\"\"\"\n",
        "\n",
        "  SELECT\n",
        "      modelo_carro,\n",
        "      MAX(preco) AS MAIOR,\n",
        "      MIN(preco) AS MENOR,\n",
        "      SUM(preco) AS SOMA,\n",
        "      AVG(preco) AS MEDIA,\n",
        "      COUNT(*) AS TOTAL_CARROS\n",
        "  FROM carros\n",
        "  GROUP BY modelo_carro\n",
        "  ORDER by MAIOR desc\n",
        "\"\"\")\n",
        "df_carros_sql.show()"
      ],
      "metadata": {
        "colab": {
          "base_uri": "https://localhost:8080/"
        },
        "id": "SKaqkZ2VVMyc",
        "outputId": "8943dd8d-474e-4c9e-ea4c-5925a9d8263a"
      },
      "execution_count": 45,
      "outputs": [
        {
          "output_type": "stream",
          "name": "stdout",
          "text": [
            "+-----------------+--------+--------+------------------+-----------------+------------+\n",
            "|     modelo_carro|   MAIOR|   MENOR|              SOMA|            MEDIA|TOTAL_CARROS|\n",
            "+-----------------+--------+--------+------------------+-----------------+------------+\n",
            "|           Carens|99938.89|99938.89|          99938.89|         99938.89|           1|\n",
            "|               X5|99866.05|93976.05|         289115.56|96371.85333333333|           3|\n",
            "|     Express 2500|99803.08|56653.51|         156456.59|        78228.295|           2|\n",
            "|           Sephia|99726.07|96908.44|         196634.51|        98317.255|           2|\n",
            "|           S-Type|99692.82|92520.76|192213.58000000002|96106.79000000001|           2|\n",
            "|              Fit|99627.45|55448.35|          155075.8|          77537.9|           2|\n",
            "|            Regal|99624.12|78089.06|         369555.66|        92388.915|           4|\n",
            "|               62|99574.51|99574.51|          99574.51|         99574.51|           1|\n",
            "|            Space|99528.78|99528.78|          99528.78|         99528.78|           1|\n",
            "|Range Rover Sport|99487.16|57338.51|         246813.59|82271.19666666667|           3|\n",
            "|               A3|99413.38|74369.37|         258683.97|         86227.99|           3|\n",
            "|               SJ|99323.96|85019.05|         184343.01|        92171.505|           2|\n",
            "|           Impala|99214.95|65246.97|         234234.12|         78078.04|           3|\n",
            "|           Cougar|99169.86|46991.94|         272434.45|       68108.6125|           4|\n",
            "|         E-Series| 99167.0| 54544.3|         221537.93|73845.97666666667|           3|\n",
            "|                G|99072.71|79570.83|         178643.54|         89321.77|           2|\n",
            "|         Aerostar|99069.39|83764.41|         269887.53|89962.51000000001|           3|\n",
            "|              MR2|99005.49|46715.51|         311583.23|       77895.8075|           4|\n",
            "|             Xtra|98916.51|70630.25|         169546.76|         84773.38|           2|\n",
            "|               A8|98846.64|68241.86|         323368.32|         80842.08|           4|\n",
            "+-----------------+--------+--------+------------------+-----------------+------------+\n",
            "only showing top 20 rows\n",
            "\n"
          ]
        }
      ]
    },
    {
      "cell_type": "markdown",
      "source": [
        "#Utilizando PYSPARK\n"
      ],
      "metadata": {
        "id": "xAFpO7RlXR7L"
      }
    },
    {
      "cell_type": "code",
      "source": [
        "#AGREGANDO OS DADOS\n",
        "df_carros_spark = df_carros.agg(\n",
        "     max(\"preco\").alias(\"MAIOR\"),\n",
        "     min(\"preco\").alias(\"MENOR\"),\n",
        "     sum(\"preco\").alias(\"SOMA\"),\n",
        "     avg(\"preco\").alias(\"MEDIA\"),\n",
        "     count(\"*\").alias(\"TOTAL_CARROS\")\n",
        ")\n",
        "df_carros_spark.show()"
      ],
      "metadata": {
        "colab": {
          "base_uri": "https://localhost:8080/"
        },
        "id": "RP5PqwLUXWgO",
        "outputId": "b6605d72-b593-4878-cdf0-789c97d3f83d"
      },
      "execution_count": 55,
      "outputs": [
        {
          "output_type": "stream",
          "name": "stdout",
          "text": [
            "+--------+--------+-------------------+-----------------+------------+\n",
            "|   MAIOR|   MENOR|               SOMA|            MEDIA|TOTAL_CARROS|\n",
            "+--------+--------+-------------------+-----------------+------------+\n",
            "|99938.89|45082.42|7.266464454000008E7|72664.64454000008|        1000|\n",
            "+--------+--------+-------------------+-----------------+------------+\n",
            "\n"
          ]
        }
      ]
    },
    {
      "cell_type": "code",
      "source": [
        "#AGRUPANDO OS DADOS COM GROUPBY\n",
        "df_carros_spark = df_carros.groupBy(\"modelo_carro\"\n",
        ").agg(\n",
        "     max(\"preco\").alias(\"MAIOR\"),\n",
        "     min(\"preco\").alias(\"MENOR\"),\n",
        "     sum(\"preco\").alias(\"SOMA\"),\n",
        "     avg(\"preco\").alias(\"MEDIA\"),\n",
        "     count(\"*\").alias(\"TOTAL_CARROS\")\n",
        ")\n",
        "df_carros_spark.show()"
      ],
      "metadata": {
        "colab": {
          "base_uri": "https://localhost:8080/"
        },
        "id": "DGQC8cFSZ3lU",
        "outputId": "61b07936-1a98-4087-be97-e2b84ff8132d"
      },
      "execution_count": 59,
      "outputs": [
        {
          "output_type": "stream",
          "name": "stdout",
          "text": [
            "+------------+--------+--------+------------------+------------------+------------+\n",
            "|modelo_carro|   MAIOR|   MENOR|              SOMA|             MEDIA|TOTAL_CARROS|\n",
            "+------------+--------+--------+------------------+------------------+------------+\n",
            "| Savana 1500|85392.12|49351.82|         324443.83|         64888.766|           5|\n",
            "|      Cirrus|81784.17|81784.17|          81784.17|          81784.17|           1|\n",
            "|         944|87930.76|87930.76|          87930.76|          87930.76|           1|\n",
            "|      Avanti|98629.28|98629.28|          98629.28|          98629.28|           1|\n",
            "|     Outlook|68318.15|49510.92|117829.06999999999|58914.534999999996|           2|\n",
            "|     Contour|72937.19|72937.19|          72937.19|          72937.19|           1|\n",
            "|         S60|85793.33| 48719.1|         377417.08| 62902.84666666667|           6|\n",
            "|        1500|70293.96|45539.22|115833.18000000001|57916.590000000004|           2|\n",
            "|       XLR-V|75537.75|50360.58|         125898.33|         62949.165|           2|\n",
            "|          SC|93119.36|59469.43|         387392.13|         77478.426|           5|\n",
            "|         DBS|67440.68|57147.38|         191579.03|63859.676666666666|           3|\n",
            "|         MR2|99005.49|46715.51|         311583.23|        77895.8075|           4|\n",
            "| Mini Cooper|48429.24|48429.24|          48429.24|          48429.24|           1|\n",
            "|        Omni|86783.48|86783.48|          86783.48|          86783.48|           1|\n",
            "|       Camry|93307.39|66976.98|243290.40000000002|           81096.8|           3|\n",
            "|         940| 83004.3| 83004.3|           83004.3|           83004.3|           1|\n",
            "|    GL-Class|81406.44|81406.44|          81406.44|          81406.44|           1|\n",
            "|     Seville|96507.84|96507.84|          96507.84|          96507.84|           1|\n",
            "|      Sonoma| 85602.7| 85602.7|           85602.7|           85602.7|           1|\n",
            "|   CLK-Class|86193.93|86193.93|          86193.93|          86193.93|           1|\n",
            "+------------+--------+--------+------------------+------------------+------------+\n",
            "only showing top 20 rows\n",
            "\n"
          ]
        }
      ]
    },
    {
      "cell_type": "code",
      "source": [
        "#Ordenando os dados com ORDER BY\n",
        "df_carros_spark = df_carros.groupBy(\"modelo_carro\"\n",
        ").agg(\n",
        "     max(\"preco\").alias(\"MAIOR\"),\n",
        "     min(\"preco\").alias(\"MENOR\"),\n",
        "     sum(\"preco\").alias(\"SOMA\"),\n",
        "     avg(\"preco\").alias(\"MEDIA\"),\n",
        "     count(\"*\").alias(\"TOTAL_CARROS\")\n",
        ").orderBy(desc(\"MAIOR\"))\n",
        "df_carros_spark.show()"
      ],
      "metadata": {
        "colab": {
          "base_uri": "https://localhost:8080/"
        },
        "id": "AQ6CsbyMZcaI",
        "outputId": "8594193f-422a-42bd-bef7-f7fc66fb0fa6"
      },
      "execution_count": 60,
      "outputs": [
        {
          "output_type": "stream",
          "name": "stdout",
          "text": [
            "+-----------------+--------+--------+------------------+-----------------+------------+\n",
            "|     modelo_carro|   MAIOR|   MENOR|              SOMA|            MEDIA|TOTAL_CARROS|\n",
            "+-----------------+--------+--------+------------------+-----------------+------------+\n",
            "|           Carens|99938.89|99938.89|          99938.89|         99938.89|           1|\n",
            "|               X5|99866.05|93976.05|         289115.56|96371.85333333333|           3|\n",
            "|     Express 2500|99803.08|56653.51|         156456.59|        78228.295|           2|\n",
            "|           Sephia|99726.07|96908.44|         196634.51|        98317.255|           2|\n",
            "|           S-Type|99692.82|92520.76|192213.58000000002|96106.79000000001|           2|\n",
            "|              Fit|99627.45|55448.35|          155075.8|          77537.9|           2|\n",
            "|            Regal|99624.12|78089.06|         369555.66|        92388.915|           4|\n",
            "|               62|99574.51|99574.51|          99574.51|         99574.51|           1|\n",
            "|            Space|99528.78|99528.78|          99528.78|         99528.78|           1|\n",
            "|Range Rover Sport|99487.16|57338.51|         246813.59|82271.19666666667|           3|\n",
            "|               A3|99413.38|74369.37|         258683.97|         86227.99|           3|\n",
            "|               SJ|99323.96|85019.05|         184343.01|        92171.505|           2|\n",
            "|           Impala|99214.95|65246.97|         234234.12|         78078.04|           3|\n",
            "|           Cougar|99169.86|46991.94|         272434.45|       68108.6125|           4|\n",
            "|         E-Series| 99167.0| 54544.3|         221537.93|73845.97666666667|           3|\n",
            "|                G|99072.71|79570.83|         178643.54|         89321.77|           2|\n",
            "|         Aerostar|99069.39|83764.41|         269887.53|89962.51000000001|           3|\n",
            "|              MR2|99005.49|46715.51|         311583.23|       77895.8075|           4|\n",
            "|             Xtra|98916.51|70630.25|         169546.76|         84773.38|           2|\n",
            "|               A8|98846.64|68241.86|         323368.32|         80842.08|           4|\n",
            "+-----------------+--------+--------+------------------+-----------------+------------+\n",
            "only showing top 20 rows\n",
            "\n"
          ]
        }
      ]
    }
  ]
}