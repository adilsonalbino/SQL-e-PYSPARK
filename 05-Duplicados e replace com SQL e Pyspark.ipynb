{
 "cells": [
  {
   "cell_type": "markdown",
   "metadata": {
    "application/vnd.databricks.v1+cell": {
     "cellMetadata": {
      "byteLimit": 2048000,
      "rowLimit": 10000
     },
     "inputWidgets": {},
     "nuid": "9a06a581-2857-4142-86b2-c40a961f0de7",
     "showTitle": false,
     "title": ""
    }
   },
   "source": [
    "#05-Duplicados e replace com SQL e pyspark\n",
    "\n",
    "by Adilson Albino"
   ]
  },
  {
   "cell_type": "code",
   "execution_count": 0,
   "metadata": {
    "application/vnd.databricks.v1+cell": {
     "cellMetadata": {
      "byteLimit": 2048000,
      "rowLimit": 10000
     },
     "inputWidgets": {},
     "nuid": "0acda97c-34c0-4891-88ca-4b8df3be9638",
     "showTitle": false,
     "title": ""
    }
   },
   "outputs": [
    {
     "output_type": "stream",
     "name": "stdout",
     "output_type": "stream",
     "text": [
      "+--------+------------+---------+---------+\n|id_carro|modelo_carro|    preco|cod_marca|\n+--------+------------+---------+---------+\n|       1|      Avalon|$78401.95|       54|\n|       2|         RDX|$95987.38|        1|\n|       3|        Golf|$61274.55|       55|\n|       4|          EX|$84981.12|       23|\n|       5|      Escort|$77466.89|       17|\n|       6|  Expedition|$84698.71|       17|\n|       7|     Voyager|$95567.75|       42|\n|       8|       Civic|$84749.22|       20|\n|       9|    Defender|$98600.79|       29|\n|      10|V8 Vantage S|$94791.61|        2|\n+--------+------------+---------+---------+\nonly showing top 10 rows\n\n"
     ]
    }
   ],
   "source": [
    "#Importando dataset\n",
    "df_carros = spark\\\n",
    ".read.format(\"csv\")\\\n",
    ".option(\"header\", True)\\\n",
    ".load(\"/aprendizado/modelo_carro\")\n",
    "\n",
    "df_carros.show(10)"
   ]
  },
  {
   "cell_type": "markdown",
   "metadata": {
    "application/vnd.databricks.v1+cell": {
     "cellMetadata": {
      "byteLimit": 2048000,
      "rowLimit": 10000
     },
     "inputWidgets": {},
     "nuid": "8eea3802-6c1d-44f8-ac78-5a9f55094549",
     "showTitle": false,
     "title": ""
    }
   },
   "source": [
    "#Utilizando SQL"
   ]
  },
  {
   "cell_type": "code",
   "execution_count": 0,
   "metadata": {
    "application/vnd.databricks.v1+cell": {
     "cellMetadata": {
      "byteLimit": 2048000,
      "rowLimit": 10000
     },
     "inputWidgets": {},
     "nuid": "ca3cb1b5-e854-4e1c-9962-263f9b67ce43",
     "showTitle": false,
     "title": ""
    }
   },
   "outputs": [],
   "source": [
    "#Criando uma tabela temporária para trabalhar com SQL\n",
    "df_carros.createOrReplaceTempView(\"carros\")"
   ]
  },
  {
   "cell_type": "code",
   "execution_count": 0,
   "metadata": {
    "application/vnd.databricks.v1+cell": {
     "cellMetadata": {
      "byteLimit": 2048000,
      "implicitDf": true,
      "rowLimit": 10000
     },
     "inputWidgets": {},
     "nuid": "4500293e-bdc1-440d-8061-b912eea1b31e",
     "showTitle": false,
     "title": ""
    }
   },
   "outputs": [
    {
     "output_type": "display_data",
     "data": {
      "text/html": [
       "<style scoped>\n",
       "  .table-result-container {\n",
       "    max-height: 300px;\n",
       "    overflow: auto;\n",
       "  }\n",
       "  table, th, td {\n",
       "    border: 1px solid black;\n",
       "    border-collapse: collapse;\n",
       "  }\n",
       "  th, td {\n",
       "    padding: 5px;\n",
       "  }\n",
       "  th {\n",
       "    text-align: left;\n",
       "  }\n",
       "</style><div class='table-result-container'><table class='table-result'><thead style='background-color: white'><tr><th>id_carro</th><th>modelo_carro</th><th>preco</th><th>cod_marca</th></tr></thead><tbody><tr><td>3</td><td>Golf</td><td>$61274.55</td><td>55</td></tr><tr><td>4</td><td>EX</td><td>$84981.12</td><td>23</td></tr><tr><td>7</td><td>Voyager</td><td>$95567.75</td><td>42</td></tr><tr><td>2</td><td>RDX</td><td>$95987.38</td><td>1</td></tr><tr><td>8</td><td>Civic</td><td>$84749.22</td><td>20</td></tr><tr><td>5</td><td>Escort</td><td>$77466.89</td><td>17</td></tr><tr><td>1</td><td>Avalon</td><td>$78401.95</td><td>54</td></tr><tr><td>6</td><td>Expedition</td><td>$84698.71</td><td>17</td></tr><tr><td>9</td><td>Defender</td><td>$98600.79</td><td>29</td></tr><tr><td>10</td><td>V8 Vantage S</td><td>$94791.61</td><td>2</td></tr></tbody></table></div>"
      ]
     },
     "metadata": {
      "application/vnd.databricks.v1+output": {
       "addedWidgets": {},
       "aggData": [],
       "aggError": "",
       "aggOverflow": false,
       "aggSchema": [],
       "aggSeriesLimitReached": false,
       "aggType": "",
       "arguments": {},
       "columnCustomDisplayInfos": {},
       "data": [
        [
         "3",
         "Golf",
         "$61274.55",
         "55"
        ],
        [
         "4",
         "EX",
         "$84981.12",
         "23"
        ],
        [
         "7",
         "Voyager",
         "$95567.75",
         "42"
        ],
        [
         "2",
         "RDX",
         "$95987.38",
         "1"
        ],
        [
         "8",
         "Civic",
         "$84749.22",
         "20"
        ],
        [
         "5",
         "Escort",
         "$77466.89",
         "17"
        ],
        [
         "1",
         "Avalon",
         "$78401.95",
         "54"
        ],
        [
         "6",
         "Expedition",
         "$84698.71",
         "17"
        ],
        [
         "9",
         "Defender",
         "$98600.79",
         "29"
        ],
        [
         "10",
         "V8 Vantage S",
         "$94791.61",
         "2"
        ]
       ],
       "datasetInfos": [],
       "dbfsResultPath": null,
       "isJsonSchema": true,
       "metadata": {},
       "overflow": false,
       "plotOptions": {
        "customPlotOptions": {},
        "displayType": "table",
        "pivotAggregation": null,
        "pivotColumns": null,
        "xColumns": null,
        "yColumns": null
       },
       "removedWidgets": [],
       "schema": [
        {
         "metadata": "{}",
         "name": "id_carro",
         "type": "\"string\""
        },
        {
         "metadata": "{}",
         "name": "modelo_carro",
         "type": "\"string\""
        },
        {
         "metadata": "{}",
         "name": "preco",
         "type": "\"string\""
        },
        {
         "metadata": "{}",
         "name": "cod_marca",
         "type": "\"string\""
        }
       ],
       "type": "table"
      }
     },
     "output_type": "display_data"
    }
   ],
   "source": [
    "%sql\n",
    "select distinct * from carros\n",
    "limit 10"
   ]
  },
  {
   "cell_type": "markdown",
   "metadata": {
    "application/vnd.databricks.v1+cell": {
     "cellMetadata": {
      "byteLimit": 2048000,
      "rowLimit": 10000
     },
     "inputWidgets": {},
     "nuid": "da1c6694-ef80-41e2-b946-24517d6894ae",
     "showTitle": false,
     "title": ""
    }
   },
   "source": [
    "####Removendo ou substituindo valores com REPLACE"
   ]
  },
  {
   "cell_type": "code",
   "execution_count": 0,
   "metadata": {
    "application/vnd.databricks.v1+cell": {
     "cellMetadata": {
      "byteLimit": 2048000,
      "implicitDf": true,
      "rowLimit": 10000
     },
     "inputWidgets": {},
     "nuid": "530964c1-adb1-4458-868f-de1c9176fdcb",
     "showTitle": false,
     "title": ""
    }
   },
   "outputs": [
    {
     "output_type": "display_data",
     "data": {
      "text/html": [
       "<style scoped>\n",
       "  .table-result-container {\n",
       "    max-height: 300px;\n",
       "    overflow: auto;\n",
       "  }\n",
       "  table, th, td {\n",
       "    border: 1px solid black;\n",
       "    border-collapse: collapse;\n",
       "  }\n",
       "  th, td {\n",
       "    padding: 5px;\n",
       "  }\n",
       "  th {\n",
       "    text-align: left;\n",
       "  }\n",
       "</style><div class='table-result-container'><table class='table-result'><thead style='background-color: white'><tr><th>preco</th></tr></thead><tbody><tr><td>R$ 78401.95</td></tr><tr><td>R$ 95987.38</td></tr><tr><td>R$ 61274.55</td></tr><tr><td>R$ 84981.12</td></tr><tr><td>R$ 77466.89</td></tr><tr><td>R$ 84698.71</td></tr><tr><td>R$ 95567.75</td></tr><tr><td>R$ 84749.22</td></tr><tr><td>R$ 98600.79</td></tr><tr><td>R$ 94791.61</td></tr></tbody></table></div>"
      ]
     },
     "metadata": {
      "application/vnd.databricks.v1+output": {
       "addedWidgets": {},
       "aggData": [],
       "aggError": "",
       "aggOverflow": false,
       "aggSchema": [],
       "aggSeriesLimitReached": false,
       "aggType": "",
       "arguments": {},
       "columnCustomDisplayInfos": {},
       "data": [
        [
         "R$ 78401.95"
        ],
        [
         "R$ 95987.38"
        ],
        [
         "R$ 61274.55"
        ],
        [
         "R$ 84981.12"
        ],
        [
         "R$ 77466.89"
        ],
        [
         "R$ 84698.71"
        ],
        [
         "R$ 95567.75"
        ],
        [
         "R$ 84749.22"
        ],
        [
         "R$ 98600.79"
        ],
        [
         "R$ 94791.61"
        ]
       ],
       "datasetInfos": [],
       "dbfsResultPath": null,
       "isJsonSchema": true,
       "metadata": {},
       "overflow": false,
       "plotOptions": {
        "customPlotOptions": {},
        "displayType": "table",
        "pivotAggregation": null,
        "pivotColumns": null,
        "xColumns": null,
        "yColumns": null
       },
       "removedWidgets": [],
       "schema": [
        {
         "metadata": "{}",
         "name": "preco",
         "type": "\"string\""
        }
       ],
       "type": "table"
      }
     },
     "output_type": "display_data"
    }
   ],
   "source": [
    "%sql\n",
    "select \n",
    "  replace(preco, '$', 'R$ ') as preco \n",
    "from carros\n",
    "limit 10"
   ]
  },
  {
   "cell_type": "markdown",
   "metadata": {
    "application/vnd.databricks.v1+cell": {
     "cellMetadata": {
      "byteLimit": 2048000,
      "rowLimit": 10000
     },
     "inputWidgets": {},
     "nuid": "afec7c5e-7381-4b0f-9e55-f21e35b18501",
     "showTitle": false,
     "title": ""
    }
   },
   "source": [
    "#Utilizando pyspark?"
   ]
  },
  {
   "cell_type": "code",
   "execution_count": 0,
   "metadata": {
    "application/vnd.databricks.v1+cell": {
     "cellMetadata": {
      "byteLimit": 2048000,
      "rowLimit": 10000
     },
     "inputWidgets": {},
     "nuid": "2cc7ce47-9f2c-48bb-b9e1-f58eb65b28a8",
     "showTitle": false,
     "title": ""
    }
   },
   "outputs": [],
   "source": [
    "#Eliminando linhas duplicadas\n",
    "df_carros_pyspark = df_carros.distinct()\n",
    "\n",
    "#Usando o drop\n",
    "df_carros_pyspark = df_carros.drop()\n",
    "\n",
    "#Os dois comando fazem a mesma coisa."
   ]
  },
  {
   "cell_type": "code",
   "execution_count": 0,
   "metadata": {
    "application/vnd.databricks.v1+cell": {
     "cellMetadata": {
      "byteLimit": 2048000,
      "rowLimit": 10000
     },
     "inputWidgets": {},
     "nuid": "0a625fa4-494a-4dfa-9642-5ae3fec5bc4e",
     "showTitle": false,
     "title": ""
    }
   },
   "outputs": [
    {
     "output_type": "stream",
     "name": "stdout",
     "output_type": "stream",
     "text": [
      "+--------+------------+--------+---------+\n|id_carro|modelo_carro|   preco|cod_marca|\n+--------+------------+--------+---------+\n|       1|      Avalon|78401.95|       54|\n|       2|         RDX|95987.38|        1|\n|       3|        Golf|61274.55|       55|\n|       4|          EX|84981.12|       23|\n|       5|      Escort|77466.89|       17|\n|       6|  Expedition|84698.71|       17|\n|       7|     Voyager|95567.75|       42|\n|       8|       Civic|84749.22|       20|\n|       9|    Defender|98600.79|       29|\n|      10|V8 Vantage S|94791.61|        2|\n+--------+------------+--------+---------+\nonly showing top 10 rows\n\n"
     ]
    }
   ],
   "source": [
    "#Realizando substituições\n",
    "from pyspark.sql.functions import *\n",
    "df_carros_pyspark2 = df_carros\n",
    "df_carros_pyspark2 = df_carros_pyspark2.withColumn(\"preco\", regexp_replace(\"preco\", \"\\$\", \"\"))\n",
    "df_carros_pyspark2.show(10)"
   ]
  }
 ],
 "metadata": {
  "application/vnd.databricks.v1+notebook": {
   "dashboards": [],
   "environmentMetadata": null,
   "language": "python",
   "notebookMetadata": {
    "mostRecentlyExecutedCommandWithImplicitDF": {
     "commandId": 428331049376292,
     "dataframes": [
      "_sqldf"
     ]
    },
    "pythonIndentUnit": 4
   },
   "notebookName": "05-Duplicados e replace com SQL e Pyspark",
   "widgets": {}
  }
 },
 "nbformat": 4,
 "nbformat_minor": 0
}
