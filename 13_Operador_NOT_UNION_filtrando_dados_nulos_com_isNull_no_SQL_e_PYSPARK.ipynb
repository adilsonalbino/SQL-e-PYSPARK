{
  "nbformat": 4,
  "nbformat_minor": 0,
  "metadata": {
    "colab": {
      "provenance": [],
      "mount_file_id": "1NSu1I395rUbN8YI2VqYCXTNlJr4s9Awu",
      "authorship_tag": "ABX9TyMJRq7/lYBtyIxyQ5psCXhh",
      "include_colab_link": true
    },
    "kernelspec": {
      "name": "python3",
      "display_name": "Python 3"
    },
    "language_info": {
      "name": "python"
    }
  },
  "cells": [
    {
      "cell_type": "markdown",
      "metadata": {
        "id": "view-in-github",
        "colab_type": "text"
      },
      "source": [
        "<a href=\"https://colab.research.google.com/github/adilsonalbino/SQL-e-PYSPARK/blob/main/13_Operador_NOT_UNION_filtrando_dados_nulos_com_isNull_no_SQL_e_PYSPARK.ipynb\" target=\"_parent\"><img src=\"https://colab.research.google.com/assets/colab-badge.svg\" alt=\"Open In Colab\"/></a>"
      ]
    },
    {
      "cell_type": "markdown",
      "source": [
        "\n",
        "#13-Operador-NOT-UNION-filtrando dados nulos com isNull no SQL e PYSPARK.ipynb\n",
        "\n",
        "by Adilson Albino\n",
        "\n"
      ],
      "metadata": {
        "id": "OtibrZLUDTCT"
      }
    },
    {
      "cell_type": "code",
      "execution_count": 1,
      "metadata": {
        "colab": {
          "base_uri": "https://localhost:8080/"
        },
        "id": "KWPRiLOPCfmG",
        "outputId": "83e3ddc1-5246-4a3c-debe-f8c6b187bf19"
      },
      "outputs": [
        {
          "output_type": "stream",
          "name": "stdout",
          "text": [
            "Collecting pyspark\n",
            "  Downloading pyspark-3.5.1.tar.gz (317.0 MB)\n",
            "\u001b[2K     \u001b[90m━━━━━━━━━━━━━━━━━━━━━━━━━━━━━━━━━━━━━━━━\u001b[0m \u001b[32m317.0/317.0 MB\u001b[0m \u001b[31m2.7 MB/s\u001b[0m eta \u001b[36m0:00:00\u001b[0m\n",
            "\u001b[?25h  Preparing metadata (setup.py) ... \u001b[?25l\u001b[?25hdone\n",
            "Requirement already satisfied: py4j==0.10.9.7 in /usr/local/lib/python3.10/dist-packages (from pyspark) (0.10.9.7)\n",
            "Building wheels for collected packages: pyspark\n",
            "  Building wheel for pyspark (setup.py) ... \u001b[?25l\u001b[?25hdone\n",
            "  Created wheel for pyspark: filename=pyspark-3.5.1-py2.py3-none-any.whl size=317488491 sha256=a7bc985e883eb0e781f0885b402edab029b8fbbaace9c90eabf8d099d05d4b90\n",
            "  Stored in directory: /root/.cache/pip/wheels/80/1d/60/2c256ed38dddce2fdd93be545214a63e02fbd8d74fb0b7f3a6\n",
            "Successfully built pyspark\n",
            "Installing collected packages: pyspark\n",
            "Successfully installed pyspark-3.5.1\n"
          ]
        }
      ],
      "source": [
        "#instalando pyspark\n",
        "!pip install pyspark\n",
        "\n",
        "#importando bibliotecas\n",
        "from pyspark.sql import SparkSession\n",
        "from pyspark.sql.functions import *\n",
        "\n",
        "#Criando app spark\n",
        "spark = SparkSession.builder \\\n",
        ".appName(\"Spark\")\\\n",
        ".getOrCreate()"
      ]
    },
    {
      "cell_type": "code",
      "source": [
        "#Variavel com a informação do caminho do dataset\n",
        "file_path_carros = \"/content/drive/MyDrive/Colab Notebooks/PySpark_SQL/DATASET_CARROS/modelo_carro.csv\""
      ],
      "metadata": {
        "id": "544MV4T4DwkC"
      },
      "execution_count": 2,
      "outputs": []
    },
    {
      "cell_type": "code",
      "source": [
        "#Carregando o dataset\n",
        "df_carros = spark\\\n",
        ".read.format(\"csv\")\\\n",
        ".option(\"header\", True)\\\n",
        ".load(file_path_carros)\\\n",
        "\n",
        "df_carros.show(5)"
      ],
      "metadata": {
        "colab": {
          "base_uri": "https://localhost:8080/"
        },
        "id": "O4NV9UodD0tv",
        "outputId": "5bfb69b8-715b-45ec-cf8a-4c6ff013fad3"
      },
      "execution_count": 8,
      "outputs": [
        {
          "output_type": "stream",
          "name": "stdout",
          "text": [
            "+--------+------------+---------+---------+\n",
            "|id_carro|modelo_carro|    preco|cod_marca|\n",
            "+--------+------------+---------+---------+\n",
            "|       1|      Avalon|$78401.95|       54|\n",
            "|       2|         RDX|$95987.38|        1|\n",
            "|       3|        Golf|$61274.55|       55|\n",
            "|       4|          EX|$84981.12|       23|\n",
            "|       5|      Escort|$77466.89|       17|\n",
            "+--------+------------+---------+---------+\n",
            "only showing top 5 rows\n",
            "\n"
          ]
        }
      ]
    },
    {
      "cell_type": "code",
      "source": [
        "#Criando dois dataframes fitrados com where()\n",
        "\n",
        "df_carros_1 = df_carros.where(\n",
        "    (col(\"id_carro\") == '1') |\n",
        "    (col(\"id_Carro\") == '2') |\n",
        "    (col(\"id_carro\") == '3')\n",
        ")\n",
        "\n",
        "df_carros_2 = df_carros.where(\n",
        "    (col(\"id_carro\") == '4')\n",
        ").withColumn(\n",
        "    \"preco\",\n",
        "    lit(None)\n",
        ")\n",
        "\n",
        "#utilizando UNION\n",
        "df_carros = df_carros_1.union(df_carros_2)\n",
        "df_carros.show()"
      ],
      "metadata": {
        "colab": {
          "base_uri": "https://localhost:8080/"
        },
        "id": "ygAFntNVES-0",
        "outputId": "5723b977-1da7-4603-a6e3-beeb7fb61968"
      },
      "execution_count": 12,
      "outputs": [
        {
          "output_type": "stream",
          "name": "stdout",
          "text": [
            "+--------+------------+---------+---------+\n",
            "|id_carro|modelo_carro|    preco|cod_marca|\n",
            "+--------+------------+---------+---------+\n",
            "|       1|      Avalon|$78401.95|       54|\n",
            "|       2|         RDX|$95987.38|        1|\n",
            "|       3|        Golf|$61274.55|       55|\n",
            "|       4|          EX|     NULL|       23|\n",
            "+--------+------------+---------+---------+\n",
            "\n"
          ]
        }
      ]
    },
    {
      "cell_type": "markdown",
      "source": [
        "#Utilizando SQL"
      ],
      "metadata": {
        "id": "gq8CVqP6Gaf7"
      }
    },
    {
      "cell_type": "code",
      "source": [
        "df_carros_sql = df_carros.createOrReplaceTempView(\"carros\")"
      ],
      "metadata": {
        "id": "BeA9-A16GbfU"
      },
      "execution_count": 16,
      "outputs": []
    },
    {
      "cell_type": "code",
      "source": [
        "#UTILIZANDO (IS NULL)\n",
        "df_carros_sql = spark.sql(\"\"\"\n",
        "SELECT\n",
        "  *\n",
        "FROM carros\n",
        "WHERE preco IS NULL\n",
        "\"\"\")\n",
        "df_carros_sql.show()"
      ],
      "metadata": {
        "colab": {
          "base_uri": "https://localhost:8080/"
        },
        "id": "nud3r3XwHAnp",
        "outputId": "6d1172af-8fdb-4db5-86fd-3774589c5f8e"
      },
      "execution_count": 35,
      "outputs": [
        {
          "output_type": "stream",
          "name": "stdout",
          "text": [
            "+--------+------------+-----+---------+\n",
            "|id_carro|modelo_carro|preco|cod_marca|\n",
            "+--------+------------+-----+---------+\n",
            "|       4|          EX| NULL|       23|\n",
            "+--------+------------+-----+---------+\n",
            "\n"
          ]
        }
      ]
    },
    {
      "cell_type": "code",
      "source": [
        "#UTILIZANDO (IS NOT NULL)\n",
        "df_carros_sql = spark.sql(\"\"\"\n",
        "SELECT\n",
        "  *\n",
        "FROM carros\n",
        "--WHERE id_carro NOT IN('1', '2', '3')\n",
        "WHERE preco IS NOT NULL\n",
        "\"\"\")\n",
        "df_carros_sql.show()"
      ],
      "metadata": {
        "colab": {
          "base_uri": "https://localhost:8080/"
        },
        "id": "3GhmtSQDIzPT",
        "outputId": "2c836312-9373-4870-99c1-70c7ddea467c"
      },
      "execution_count": 36,
      "outputs": [
        {
          "output_type": "stream",
          "name": "stdout",
          "text": [
            "+--------+------------+---------+---------+\n",
            "|id_carro|modelo_carro|    preco|cod_marca|\n",
            "+--------+------------+---------+---------+\n",
            "|       1|      Avalon|$78401.95|       54|\n",
            "|       2|         RDX|$95987.38|        1|\n",
            "|       3|        Golf|$61274.55|       55|\n",
            "+--------+------------+---------+---------+\n",
            "\n"
          ]
        }
      ]
    },
    {
      "cell_type": "code",
      "source": [
        "#UTILIZANDO (IN)\n",
        "df_carros_sql = spark.sql(\"\"\"\n",
        "SELECT\n",
        "  *\n",
        "FROM carros\n",
        "WHERE id_carro IN('1', '2')\n",
        "\"\"\")\n",
        "df_carros_sql.show()"
      ],
      "metadata": {
        "colab": {
          "base_uri": "https://localhost:8080/"
        },
        "id": "CHV9sxUmJGyK",
        "outputId": "d45901b4-6684-4aa6-8fcc-2656ccb47934"
      },
      "execution_count": 39,
      "outputs": [
        {
          "output_type": "stream",
          "name": "stdout",
          "text": [
            "+--------+------------+---------+---------+\n",
            "|id_carro|modelo_carro|    preco|cod_marca|\n",
            "+--------+------------+---------+---------+\n",
            "|       1|      Avalon|$78401.95|       54|\n",
            "|       2|         RDX|$95987.38|        1|\n",
            "+--------+------------+---------+---------+\n",
            "\n"
          ]
        }
      ]
    },
    {
      "cell_type": "code",
      "source": [
        "#UTILIZANDO (NOT IN)\n",
        "df_carros_sql = spark.sql(\"\"\"\n",
        "SELECT\n",
        "  *\n",
        "FROM carros\n",
        "WHERE id_carro NOT IN('1', '2')\n",
        "\"\"\")\n",
        "df_carros_sql.show()"
      ],
      "metadata": {
        "colab": {
          "base_uri": "https://localhost:8080/"
        },
        "id": "0pud2TjZJVN-",
        "outputId": "65e9b43a-b041-498c-8126-c5e58f9c521a"
      },
      "execution_count": 40,
      "outputs": [
        {
          "output_type": "stream",
          "name": "stdout",
          "text": [
            "+--------+------------+---------+---------+\n",
            "|id_carro|modelo_carro|    preco|cod_marca|\n",
            "+--------+------------+---------+---------+\n",
            "|       3|        Golf|$61274.55|       55|\n",
            "|       4|          EX|     NULL|       23|\n",
            "+--------+------------+---------+---------+\n",
            "\n"
          ]
        }
      ]
    },
    {
      "cell_type": "markdown",
      "source": [
        "#Utilizando PYSPARK\n"
      ],
      "metadata": {
        "id": "ay0p0fh6GkCv"
      }
    },
    {
      "cell_type": "code",
      "source": [
        "#Utilizando IS NULL\n",
        "df_carros_spark = df_carros.where(\n",
        "    col(\"preco\").isNull()\n",
        ")\n",
        "df_carros_spark.show()"
      ],
      "metadata": {
        "colab": {
          "base_uri": "https://localhost:8080/"
        },
        "id": "FtyBdWIIKMCK",
        "outputId": "9bd577d8-3e2e-4bf6-c3e6-39c12fe0ddc7"
      },
      "execution_count": 43,
      "outputs": [
        {
          "output_type": "stream",
          "name": "stdout",
          "text": [
            "+--------+------------+-----+---------+\n",
            "|id_carro|modelo_carro|preco|cod_marca|\n",
            "+--------+------------+-----+---------+\n",
            "|       4|          EX| NULL|       23|\n",
            "+--------+------------+-----+---------+\n",
            "\n"
          ]
        }
      ]
    },
    {
      "cell_type": "code",
      "source": [
        "#Utilizando IS NOT NULL\n",
        "df_carros_spark = df_carros.where(\n",
        "    col(\"preco\").isNotNull()\n",
        ")\n",
        "df_carros_spark.show()"
      ],
      "metadata": {
        "colab": {
          "base_uri": "https://localhost:8080/"
        },
        "id": "Q8383ru5Ko7h",
        "outputId": "6374e9bb-2e9b-44a0-f47c-2be7eb35e657"
      },
      "execution_count": 45,
      "outputs": [
        {
          "output_type": "stream",
          "name": "stdout",
          "text": [
            "+--------+------------+---------+---------+\n",
            "|id_carro|modelo_carro|    preco|cod_marca|\n",
            "+--------+------------+---------+---------+\n",
            "|       1|      Avalon|$78401.95|       54|\n",
            "|       2|         RDX|$95987.38|        1|\n",
            "|       3|        Golf|$61274.55|       55|\n",
            "+--------+------------+---------+---------+\n",
            "\n"
          ]
        }
      ]
    },
    {
      "cell_type": "code",
      "source": [
        "#Utilizando isin\n",
        "df_carros_spark = df_carros.where(\n",
        "    col(\"id_carro\").isin(['1', '2'])\n",
        ")\n",
        "df_carros_spark.show()"
      ],
      "metadata": {
        "colab": {
          "base_uri": "https://localhost:8080/"
        },
        "id": "3-os7CSeGlBD",
        "outputId": "f3628cdc-13c0-4dfc-a4db-fba2ee344c42"
      },
      "execution_count": 46,
      "outputs": [
        {
          "output_type": "stream",
          "name": "stdout",
          "text": [
            "+--------+------------+---------+---------+\n",
            "|id_carro|modelo_carro|    preco|cod_marca|\n",
            "+--------+------------+---------+---------+\n",
            "|       1|      Avalon|$78401.95|       54|\n",
            "|       2|         RDX|$95987.38|        1|\n",
            "+--------+------------+---------+---------+\n",
            "\n"
          ]
        }
      ]
    },
    {
      "cell_type": "code",
      "source": [
        "#Utilizando ~ para negar a condição\n",
        "df_carros_spark = df_carros.where(\n",
        "    ~(col(\"id_carro\").isin(['1', '2']))\n",
        ")\n",
        "df_carros_spark.show()"
      ],
      "metadata": {
        "colab": {
          "base_uri": "https://localhost:8080/"
        },
        "id": "STHhk22NLCeB",
        "outputId": "bc6d7cc2-9b9d-4b08-e378-45168fc6d562"
      },
      "execution_count": 51,
      "outputs": [
        {
          "output_type": "stream",
          "name": "stdout",
          "text": [
            "+--------+------------+---------+---------+\n",
            "|id_carro|modelo_carro|    preco|cod_marca|\n",
            "+--------+------------+---------+---------+\n",
            "|       3|        Golf|$61274.55|       55|\n",
            "|       4|          EX|     NULL|       23|\n",
            "+--------+------------+---------+---------+\n",
            "\n"
          ]
        }
      ]
    }
  ]
}