{
 "cells": [
  {
   "cell_type": "markdown",
   "metadata": {
    "application/vnd.databricks.v1+cell": {
     "cellMetadata": {},
     "inputWidgets": {},
     "nuid": "6300dfdf-3504-4831-9731-4cca0373bf1d",
     "showTitle": false,
     "title": ""
    }
   },
   "source": [
    "#Realizando Select com SQL e Pyspark\n",
    "by Adilson Albino"
   ]
  },
  {
   "cell_type": "code",
   "execution_count": 0,
   "metadata": {
    "application/vnd.databricks.v1+cell": {
     "cellMetadata": {
      "byteLimit": 2048000,
      "rowLimit": 10000
     },
     "inputWidgets": {},
     "nuid": "176dea71-2ebe-4322-9c2b-73c16c0d9b0d",
     "showTitle": false,
     "title": ""
    }
   },
   "outputs": [
    {
     "output_type": "stream",
     "name": "stdout",
     "output_type": "stream",
     "text": [
      "+--------+------------+---------+---------+\n|id_carro|modelo_carro|    preco|cod_marca|\n+--------+------------+---------+---------+\n|       1|      Avalon|$78401.95|       54|\n|       2|         RDX|$95987.38|        1|\n|       3|        Golf|$61274.55|       55|\n|       4|          EX|$84981.12|       23|\n|       5|      Escort|$77466.89|       17|\n+--------+------------+---------+---------+\nonly showing top 5 rows\n\n"
     ]
    }
   ],
   "source": [
    "#Lendo arquivo de modelos de carros\n",
    "df_carros = spark \\\n",
    ".read.format(\"csv\")\\\n",
    ".option(\"header\", True)\\\n",
    ".load(\"/aprendizado/modelo_carro\")\n",
    "df_carros.show(5)"
   ]
  },
  {
   "cell_type": "markdown",
   "metadata": {
    "application/vnd.databricks.v1+cell": {
     "cellMetadata": {
      "byteLimit": 2048000,
      "rowLimit": 10000
     },
     "inputWidgets": {},
     "nuid": "d03a1690-d494-4ce7-8b73-83a6cb680036",
     "showTitle": false,
     "title": ""
    }
   },
   "source": [
    "###Realizando select usando SQL"
   ]
  },
  {
   "cell_type": "code",
   "execution_count": 0,
   "metadata": {
    "application/vnd.databricks.v1+cell": {
     "cellMetadata": {
      "byteLimit": 2048000,
      "rowLimit": 10000
     },
     "inputWidgets": {},
     "nuid": "af932c9b-498a-4e4d-b89b-e91effd8b68b",
     "showTitle": false,
     "title": ""
    }
   },
   "outputs": [],
   "source": [
    "#Criando uma nova tabela temporária para usar de exemplo no SQL\n",
    "df_carros.createOrReplaceTempView(\"Carros\")"
   ]
  },
  {
   "cell_type": "code",
   "execution_count": 0,
   "metadata": {
    "application/vnd.databricks.v1+cell": {
     "cellMetadata": {
      "byteLimit": 2048000,
      "rowLimit": 10000
     },
     "inputWidgets": {},
     "nuid": "fb3ed409-6560-41b4-9a67-f249d3d3bd5a",
     "showTitle": false,
     "title": ""
    }
   },
   "outputs": [],
   "source": [
    "####-Para tornar essa celula capaz de ler comandos SQL é necessário usar o comando \"%sql\" isso server para outros comandos também.\n",
    "####-Na celula que vai usar o select não deve ter nenhuma comentário, se não ele não reconchece o código SQL "
   ]
  },
  {
   "cell_type": "code",
   "execution_count": 0,
   "metadata": {
    "application/vnd.databricks.v1+cell": {
     "cellMetadata": {
      "byteLimit": 2048000,
      "implicitDf": true,
      "rowLimit": 10000
     },
     "inputWidgets": {},
     "nuid": "e0d99f0f-1489-4c83-889c-0d7f806ea7d8",
     "showTitle": false,
     "title": ""
    }
   },
   "outputs": [],
   "source": [
    "%sql\n",
    "SELECT\n",
    "  ID_CARRO,\n",
    "  MODELO_CARRO\n",
    "FROM\n",
    "  carros"
   ]
  },
  {
   "cell_type": "code",
   "execution_count": 0,
   "metadata": {
    "application/vnd.databricks.v1+cell": {
     "cellMetadata": {
      "byteLimit": 2048000,
      "rowLimit": 10000
     },
     "inputWidgets": {},
     "nuid": "96456cd6-bfdb-4ff0-9a80-6c0724e6113c",
     "showTitle": false,
     "title": ""
    }
   },
   "outputs": [
    {
     "output_type": "stream",
     "name": "stdout",
     "output_type": "stream",
     "text": [
      "+---+----------+-----+\n| ID|    MODELO|MARCA|\n+---+----------+-----+\n|  1|    Avalon|   54|\n|  2|       RDX|    1|\n|  3|      Golf|   55|\n|  4|        EX|   23|\n|  5|    Escort|   17|\n|  6|Expedition|   17|\n+---+----------+-----+\nonly showing top 6 rows\n\n"
     ]
    }
   ],
   "source": [
    "#Criando um dataframe com os dados retornado pelo comando SQL\n",
    "df_carros_sql = spark\\\n",
    ".sql(\"\"\"\n",
    "    SELECT\n",
    "        ID_CARRO AS ID,\n",
    "        MODELO_CARRO AS MODELO,\n",
    "        COD_MARCA AS MARCA\n",
    "    FROM\n",
    "        CARROS\n",
    "     \n",
    "     \"\"\")\n",
    "df_carros_sql.show(6)"
   ]
  },
  {
   "cell_type": "markdown",
   "metadata": {
    "application/vnd.databricks.v1+cell": {
     "cellMetadata": {
      "byteLimit": 2048000,
      "rowLimit": 10000
     },
     "inputWidgets": {},
     "nuid": "55cea5b6-f708-48df-b18b-18007e031edc",
     "showTitle": false,
     "title": ""
    }
   },
   "source": [
    "###Realizando select usando SPARK"
   ]
  },
  {
   "cell_type": "code",
   "execution_count": 0,
   "metadata": {
    "application/vnd.databricks.v1+cell": {
     "cellMetadata": {
      "byteLimit": 2048000,
      "rowLimit": 10000
     },
     "inputWidgets": {},
     "nuid": "6855c988-4019-476e-ab76-68878ef0a299",
     "showTitle": false,
     "title": ""
    }
   },
   "outputs": [
    {
     "output_type": "stream",
     "name": "stdout",
     "output_type": "stream",
     "text": [
      "+--------+------------+\n|ID_CARRO|MODELO_CARRO|\n+--------+------------+\n|       1|      Avalon|\n|       2|         RDX|\n|       3|        Golf|\n|       4|          EX|\n|       5|      Escort|\n|       6|  Expedition|\n|       7|     Voyager|\n|       8|       Civic|\n|       9|    Defender|\n|      10|V8 Vantage S|\n+--------+------------+\nonly showing top 10 rows\n\n"
     ]
    }
   ],
   "source": [
    "#No caso do SPARK não precisamos criar uma tabela temporária, podemos usar o próprio dataframe já disponível com os dados\n",
    "df_carros_spark = df_carros.select(\"ID_CARRO\", \"MODELO_CARRO\")\n",
    "df_carros_spark.show(10)"
   ]
  },
  {
   "cell_type": "code",
   "execution_count": 0,
   "metadata": {
    "application/vnd.databricks.v1+cell": {
     "cellMetadata": {
      "byteLimit": 2048000,
      "rowLimit": 10000
     },
     "inputWidgets": {},
     "nuid": "be5f5241-dbfe-406f-a908-de59d4a8c57b",
     "showTitle": false,
     "title": ""
    }
   },
   "outputs": [
    {
     "output_type": "stream",
     "name": "stdout",
     "output_type": "stream",
     "text": [
      "+---+------+\n| ID|MODELO|\n+---+------+\n|  1|Avalon|\n|  2|   RDX|\n|  3|  Golf|\n|  4|    EX|\n|  5|Escort|\n+---+------+\nonly showing top 5 rows\n\n"
     ]
    }
   ],
   "source": [
    "#Como criar ALIAS com spark?\n",
    "#Para isso vamos utilizar o comando \"selectExpr\"\n",
    "df_carros_spark = df_carros.selectExpr(\"ID_CARRO as ID\", \"MODELO_CARRO AS MODELO\")\n",
    "df_carros_spark.show(5)\n"
   ]
  },
  {
   "cell_type": "code",
   "execution_count": 0,
   "metadata": {
    "application/vnd.databricks.v1+cell": {
     "cellMetadata": {
      "byteLimit": 2048000,
      "rowLimit": 10000
     },
     "inputWidgets": {},
     "nuid": "fd7fd242-77b5-43c8-9bf6-dd1f96dc2f6e",
     "showTitle": false,
     "title": ""
    }
   },
   "outputs": [
    {
     "output_type": "stream",
     "name": "stdout",
     "output_type": "stream",
     "text": [
      "+---+----------+\n| ID|   modelos|\n+---+----------+\n|  1|    Avalon|\n|  2|       RDX|\n|  3|      Golf|\n|  4|        EX|\n|  5|    Escort|\n|  6|Expedition|\n+---+----------+\nonly showing top 6 rows\n\n"
     ]
    }
   ],
   "source": [
    "#Segunda opção para usar apelidos no spark\n",
    "#Para isso precisamos que o spark entenda o que é uma coluna, então vamos usar o camando \"col().alias\"\n",
    "#Precisaremos também declarar o col(), para isso vamos importar as funções do pyspark\n",
    "from pyspark.sql.functions import *  \n",
    "\n",
    "df_carros_spark = df_carros.select(col(\"ID_CARRO\").alias(\"ID\"), col(\"MODELO_CARRO\").alias(\"modelos\"))\n",
    "df_carros_spark.show(6)\n"
   ]
  },
  {
   "cell_type": "code",
   "execution_count": 0,
   "metadata": {
    "application/vnd.databricks.v1+cell": {
     "cellMetadata": {
      "byteLimit": 2048000,
      "implicitDf": true,
      "rowLimit": 10000
     },
     "inputWidgets": {},
     "nuid": "607199a7-0025-4e07-b567-89ca56126aa2",
     "showTitle": false,
     "title": ""
    }
   },
   "outputs": [],
   "source": [
    "%sql\n",
    "select\n",
    "  *\n",
    "from\n",
    "  (select \n",
    "    modelo_carro,\n",
    "    count(modelo_carro) as contador\n",
    "  from carros\n",
    "    group by\n",
    "      modelo_carro) \n",
    "\n",
    "\n"
   ]
  },
  {
   "cell_type": "code",
   "execution_count": 0,
   "metadata": {
    "application/vnd.databricks.v1+cell": {
     "cellMetadata": {
      "byteLimit": 2048000,
      "rowLimit": 10000
     },
     "inputWidgets": {},
     "nuid": "10d6a854-32c7-423e-8d62-865992db979c",
     "showTitle": false,
     "title": ""
    }
   },
   "outputs": [
    {
     "output_type": "stream",
     "name": "stdout",
     "output_type": "stream",
     "text": [
      "+--------+------------+-----+\n|id_carro|modelo_carro|count|\n+--------+------------+-----+\n|      33|     Mustang|    1|\n|     733|         MR2|    1|\n|     126|      Taurus|    1|\n|     439|       Capri|    1|\n|     674|         300|    1|\n+--------+------------+-----+\nonly showing top 5 rows\n\n"
     ]
    }
   ],
   "source": [
    "\n",
    "value_count = df_carros.groupBy([(\"id_carro\"),(\"modelo_carro\")]).count()\n",
    "value_count.show(5)"
   ]
  },
  {
   "cell_type": "code",
   "execution_count": 0,
   "metadata": {
    "application/vnd.databricks.v1+cell": {
     "cellMetadata": {
      "byteLimit": 2048000,
      "rowLimit": 10000
     },
     "inputWidgets": {},
     "nuid": "94c2890d-7f87-43ae-b412-89dec3c61cd7",
     "showTitle": false,
     "title": ""
    }
   },
   "outputs": [
    {
     "output_type": "display_data",
     "data": {
      "text/html": [
       "<style scoped>\n",
       "  .table-result-container {\n",
       "    max-height: 300px;\n",
       "    overflow: auto;\n",
       "  }\n",
       "  table, th, td {\n",
       "    border: 1px solid black;\n",
       "    border-collapse: collapse;\n",
       "  }\n",
       "  th, td {\n",
       "    padding: 5px;\n",
       "  }\n",
       "  th {\n",
       "    text-align: left;\n",
       "  }\n",
       "</style><div class='table-result-container'><table class='table-result'><thead style='background-color: white'><tr><th>modelo_carro</th><th>count</th></tr></thead><tbody><tr><td>S80</td><td>8</td></tr></tbody></table></div>"
      ]
     },
     "metadata": {
      "application/vnd.databricks.v1+output": {
       "addedWidgets": {},
       "aggData": [],
       "aggError": "",
       "aggOverflow": false,
       "aggSchema": [],
       "aggSeriesLimitReached": false,
       "aggType": "",
       "arguments": {},
       "columnCustomDisplayInfos": {},
       "data": [
        [
         "S80",
         8
        ]
       ],
       "datasetInfos": [],
       "dbfsResultPath": null,
       "isJsonSchema": true,
       "metadata": {},
       "overflow": false,
       "plotOptions": {
        "customPlotOptions": {},
        "displayType": "table",
        "pivotAggregation": null,
        "pivotColumns": null,
        "xColumns": null,
        "yColumns": null
       },
       "removedWidgets": [],
       "schema": [
        {
         "metadata": "{}",
         "name": "modelo_carro",
         "type": "\"string\""
        },
        {
         "metadata": "{}",
         "name": "count",
         "type": "\"long\""
        }
       ],
       "type": "table"
      }
     },
     "output_type": "display_data"
    }
   ],
   "source": [
    "max_value_count = value_count.orderBy(col(\"count\").desc()).limit(1)\n",
    "display(max_value_count)"
   ]
  }
 ],
 "metadata": {
  "application/vnd.databricks.v1+notebook": {
   "dashboards": [],
   "environmentMetadata": null,
   "language": "python",
   "notebookMetadata": {
    "mostRecentlyExecutedCommandWithImplicitDF": {
     "commandId": 428331049376285,
     "dataframes": [
      "_sqldf"
     ]
    },
    "pythonIndentUnit": 4
   },
   "notebookName": "03-Realizando Select com SQL e Pyspark",
   "widgets": {}
  }
 },
 "nbformat": 4,
 "nbformat_minor": 0
}
