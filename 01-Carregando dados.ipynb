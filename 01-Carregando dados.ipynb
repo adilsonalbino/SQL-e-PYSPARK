{
 "cells": [
  {
   "cell_type": "markdown",
   "metadata": {
    "application/vnd.databricks.v1+cell": {
     "cellMetadata": {},
     "inputWidgets": {},
     "nuid": "0cc69135-53a5-4f44-a309-854e06d85556",
     "showTitle": false,
     "title": ""
    }
   },
   "source": [
    "#01-Carregando dados\n",
    "by Adilson Albino"
   ]
  },
  {
   "cell_type": "code",
   "execution_count": 0,
   "metadata": {
    "application/vnd.databricks.v1+cell": {
     "cellMetadata": {
      "byteLimit": 2048000,
      "rowLimit": 10000
     },
     "inputWidgets": {},
     "nuid": "232d934a-76ca-4664-a69f-0f91a78464a5",
     "showTitle": false,
     "title": ""
    }
   },
   "outputs": [],
   "source": [
    "#Carregando datasets\n",
    "df1 = spark.read.format(\"csv\").option(\"header\", \"True\").load(\"dbfs:/FileStore/shared_uploads/adilsonalbin22@gmail.com/marca_carro.csv\")\n",
    "df2 = spark.read.format(\"csv\").option(\"header\", \"True\").load(\"dbfs:/FileStore/shared_uploads/adilsonalbin22@gmail.com/marcas_duplicadas.csv\")\n",
    "df3 = spark.read.format(\"csv\").option(\"header\", \"True\").load(\"dbfs:/FileStore/shared_uploads/adilsonalbin22@gmail.com/modelo_carro.csv\")"
   ]
  },
  {
   "cell_type": "code",
   "execution_count": 0,
   "metadata": {
    "application/vnd.databricks.v1+cell": {
     "cellMetadata": {
      "byteLimit": 2048000,
      "rowLimit": 10000
     },
     "inputWidgets": {},
     "nuid": "adbae03b-0ef5-4733-9e9f-34bdf5ffd274",
     "showTitle": false,
     "title": ""
    }
   },
   "outputs": [
    {
     "output_type": "stream",
     "name": "stdout",
     "output_type": "stream",
     "text": [
      "56\n1000\n1000\n"
     ]
    }
   ],
   "source": [
    "print(df1.count())\n",
    "print(df2.count())\n",
    "print(df3.count())"
   ]
  },
  {
   "cell_type": "code",
   "execution_count": 0,
   "metadata": {
    "application/vnd.databricks.v1+cell": {
     "cellMetadata": {
      "byteLimit": 2048000,
      "rowLimit": 10000
     },
     "inputWidgets": {},
     "nuid": "c04dafba-93cf-4d78-afb0-dc43595b2fe9",
     "showTitle": false,
     "title": ""
    }
   },
   "outputs": [
    {
     "output_type": "stream",
     "name": "stdout",
     "output_type": "stream",
     "text": [
      "+------------+---------+\n| marca_carro|cod_marca|\n+------------+---------+\n|       Acura|        1|\n|Aston Martin|        2|\n|        Audi|        3|\n|      Austin|        4|\n|         BMW|        5|\n|     Bentley|        6|\n|     Bugatti|        7|\n|       Buick|        8|\n|    Cadillac|        9|\n|   Chevrolet|       10|\n+------------+---------+\nonly showing top 10 rows\n\n+------------+\n| marca_carro|\n+------------+\n|      Toyota|\n|       Acura|\n|  Volkswagen|\n|    Infiniti|\n|        Ford|\n|        Ford|\n|    Plymouth|\n|       Honda|\n|  Land Rover|\n|Aston Martin|\n+------------+\nonly showing top 10 rows\n\n+--------+------------+---------+---------+\n|id_carro|modelo_carro|    preco|cod_marca|\n+--------+------------+---------+---------+\n|       1|      Avalon|$78401.95|       54|\n|       2|         RDX|$95987.38|        1|\n|       3|        Golf|$61274.55|       55|\n|       4|          EX|$84981.12|       23|\n|       5|      Escort|$77466.89|       17|\n|       6|  Expedition|$84698.71|       17|\n|       7|     Voyager|$95567.75|       42|\n|       8|       Civic|$84749.22|       20|\n|       9|    Defender|$98600.79|       29|\n|      10|V8 Vantage S|$94791.61|        2|\n+--------+------------+---------+---------+\nonly showing top 10 rows\n\n"
     ]
    }
   ],
   "source": [
    "#Visualizando os dados carregados nos dataframes\n",
    "df1.show(10)\n",
    "df2.show(10)\n",
    "df3.show(10)"
   ]
  },
  {
   "cell_type": "code",
   "execution_count": 0,
   "metadata": {
    "application/vnd.databricks.v1+cell": {
     "cellMetadata": {
      "byteLimit": 2048000,
      "rowLimit": 10000
     },
     "inputWidgets": {},
     "nuid": "645a5093-2ed8-4f24-aa3d-7acb889d72e4",
     "showTitle": false,
     "title": ""
    }
   },
   "outputs": [],
   "source": [
    "#Caso o arquivo já exista, poder ser usado o comando MODE() com o parâmetro \"overwrite\" para sobrescrever os dados do arquivo atual\n",
    "df1.write.format(\"csv\").options(header=\"true\").mode(\"overwrite\").save(\"/aprendizado/marca_carro\") \n",
    "df2.write.format(\"csv\").options(header=\"true\").mode(\"overwrite\").save(\"/aprendizado/marcas_duplicadas\") \n",
    "df3.write.format(\"csv\").options(header=\"true\").mode(\"overwrite\").save(\"/aprendizado/modelo_carro\") "
   ]
  },
  {
   "cell_type": "code",
   "execution_count": 0,
   "metadata": {
    "application/vnd.databricks.v1+cell": {
     "cellMetadata": {},
     "inputWidgets": {},
     "nuid": "1604f284-3b87-4fa4-a0d2-38eb8fe8aecd",
     "showTitle": false,
     "title": ""
    }
   },
   "outputs": [],
   "source": [
    "#Podemos também utilizar o parâmetro \"append\" para adicionar novas linha no mesmo arquivo.\n",
    "df1.write.format(\"csv\").mode(\"append\").save(\"/aprendizado/marca_carro\") "
   ]
  },
  {
   "cell_type": "code",
   "execution_count": 0,
   "metadata": {
    "application/vnd.databricks.v1+cell": {
     "cellMetadata": {
      "byteLimit": 2048000,
      "rowLimit": 10000
     },
     "inputWidgets": {},
     "nuid": "588cb5af-7ffc-47b6-bb2d-e6d4ab11e8e9",
     "showTitle": false,
     "title": ""
    }
   },
   "outputs": [
    {
     "output_type": "stream",
     "name": "stdout",
     "output_type": "stream",
     "text": [
      "+--------+------------+---------+---------+\n|id_carro|modelo_carro|    preco|cod_marca|\n+--------+------------+---------+---------+\n|       1|      Avalon|$78401.95|       54|\n|       2|         RDX|$95987.38|        1|\n|       3|        Golf|$61274.55|       55|\n|       4|          EX|$84981.12|       23|\n|       5|      Escort|$77466.89|       17|\n+--------+------------+---------+---------+\nonly showing top 5 rows\n\n"
     ]
    }
   ],
   "source": [
    "#Carregando o arquivo salvo no dbfs\n",
    "df_carro = spark.read.format(\"csv\").options(header=\"true\").load(\"/aprendizado/modelo_carro\")\n",
    "df_carro.show(5)"
   ]
  }
 ],
 "metadata": {
  "application/vnd.databricks.v1+notebook": {
   "dashboards": [],
   "environmentMetadata": null,
   "language": "python",
   "notebookMetadata": {
    "pythonIndentUnit": 4
   },
   "notebookName": "01-Carregando dados",
   "widgets": {}
  }
 },
 "nbformat": 4,
 "nbformat_minor": 0
}
