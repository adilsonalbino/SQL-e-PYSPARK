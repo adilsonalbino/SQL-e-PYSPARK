{
  "nbformat": 4,
  "nbformat_minor": 0,
  "metadata": {
    "colab": {
      "provenance": [],
      "authorship_tag": "ABX9TyNcRjzQIa7G3B7nsCvgiWKu",
      "include_colab_link": true
    },
    "kernelspec": {
      "name": "python3",
      "display_name": "Python 3"
    },
    "language_info": {
      "name": "python"
    }
  },
  "cells": [
    {
      "cell_type": "markdown",
      "metadata": {
        "id": "view-in-github",
        "colab_type": "text"
      },
      "source": [
        "<a href=\"https://colab.research.google.com/github/adilsonalbino/SQL-e-PySpark/blob/main/08_Substring%2C_right%2C_left_com_SQL_e_PySpark.ipynb\" target=\"_parent\"><img src=\"https://colab.research.google.com/assets/colab-badge.svg\" alt=\"Open In Colab\"/></a>"
      ]
    },
    {
      "cell_type": "markdown",
      "source": [
        "#08-Substring, right, left com SQL e PySpark\n",
        "\n",
        "by Adilson Albino"
      ],
      "metadata": {
        "id": "IFYW8vzokMvk"
      }
    },
    {
      "cell_type": "code",
      "source": [
        "!pip install pyspark"
      ],
      "metadata": {
        "id": "6_Od7OI8DYd1",
        "collapsed": true
      },
      "execution_count": null,
      "outputs": []
    },
    {
      "cell_type": "code",
      "source": [
        "from pyspark.sql import SparkSession\n",
        "from pyspark.sql.functions import *\n",
        "\n",
        "#Cria uma sparksession\n",
        "spark = SparkSession.builder\\\n",
        ".appName(\"spark\")\\\n",
        ".getOrCreate()"
      ],
      "metadata": {
        "id": "rY0xLe_sDvl9"
      },
      "execution_count": null,
      "outputs": []
    },
    {
      "cell_type": "code",
      "source": [
        "df_carros = spark\\\n",
        ".read.format(\"csv\") \\\n",
        ".option('header', True) \\\n",
        ".load(\"/content/modelo_carro.csv\")"
      ],
      "metadata": {
        "id": "xsgMwTJ6LxDj"
      },
      "execution_count": null,
      "outputs": []
    },
    {
      "cell_type": "markdown",
      "source": [
        "#Utilizando SQL"
      ],
      "metadata": {
        "id": "BW5YTHUoXan1"
      }
    },
    {
      "cell_type": "code",
      "source": [
        "#Criando uma tabela SQL\n",
        "df_carros.createOrReplaceTempView(\"carros\")\n",
        "\n",
        "#Executando as funções substring, right e left com SQL\n",
        "df_carros_sql = spark.sql(\"\"\"\n",
        "  SELECT\n",
        "    MODELO_CARRO,\n",
        "    SUBSTRING(MODELO_CARRO, 2, 4) AS SUBSTRING_COLUNA,\n",
        "    RIGHT(MODELO_CARRO, 2) AS RIGHT_COLUNA,\n",
        "    LEFT(MODELO_CARRO, 2) AS LEFT_COLUNA\n",
        "  FROM carros\n",
        "\"\"\")\n",
        "df_carros_sql.show()\n",
        "\n"
      ],
      "metadata": {
        "id": "iMXuUspdNPVs",
        "colab": {
          "base_uri": "https://localhost:8080/"
        },
        "outputId": "24ba2f94-c8ae-414b-9900-463ebdbf8674"
      },
      "execution_count": null,
      "outputs": [
        {
          "output_type": "stream",
          "name": "stdout",
          "text": [
            "+-------------+----------------+------------+-----------+\n",
            "| MODELO_CARRO|SUBSTRING_COLUNA|RIGHT_COLUNA|LEFT_COLUNA|\n",
            "+-------------+----------------+------------+-----------+\n",
            "|       Avalon|            valo|          on|         Av|\n",
            "|          RDX|              DX|          DX|         RD|\n",
            "|         Golf|             olf|          lf|         Go|\n",
            "|           EX|               X|          EX|         EX|\n",
            "|       Escort|            scor|          rt|         Es|\n",
            "|   Expedition|            xped|          on|         Ex|\n",
            "|      Voyager|            oyag|          er|         Vo|\n",
            "|        Civic|            ivic|          ic|         Ci|\n",
            "|     Defender|            efen|          er|         De|\n",
            "| V8 Vantage S|            8 Va|           S|         V8|\n",
            "|          C70|              70|          70|         C7|\n",
            "|G-Series 1500|            -Ser|          00|         G-|\n",
            "|       Legacy|            egac|          cy|         Le|\n",
            "|          DB9|              B9|          B9|         DB|\n",
            "|     Mulsanne|            ulsa|          ne|         Mu|\n",
            "|           RX|               X|          RX|         RX|\n",
            "|       Rabbit|            abbi|          it|         Ra|\n",
            "|            Q|                |           Q|          Q|\n",
            "|          S60|              60|          60|         S6|\n",
            "|        Envoy|            nvoy|          oy|         En|\n",
            "+-------------+----------------+------------+-----------+\n",
            "only showing top 20 rows\n",
            "\n"
          ]
        }
      ]
    },
    {
      "cell_type": "markdown",
      "source": [
        "#Utilizando PYSPARK"
      ],
      "metadata": {
        "id": "DdC0M7Z4Xfm0"
      }
    },
    {
      "cell_type": "code",
      "source": [
        "#Executando as funções substring, right e left com PYSPARK\n",
        "df_carros_spark = df_carros\n",
        "df_carros_spark = df_carros_spark \\\n",
        ".withColumn(\"SUBSTRING_COLUNA\", substring(\"MODELO_CARRO\", 2, 4)) \\\n",
        ".withColumn(\"RIGHT_COLUNA\", expr(\"RIGHT(MODELO_CARRO, 2)\")) \\\n",
        ".withColumn(\"LEFT_COLUNA\", expr(\"LEFT(MODELO_CARRO, 2)\"))\n",
        "df_carros_spark.show()"
      ],
      "metadata": {
        "colab": {
          "base_uri": "https://localhost:8080/"
        },
        "id": "ikmCfwc8yBdq",
        "outputId": "756a5dba-21ba-4f47-fcb8-75635986d4dc"
      },
      "execution_count": null,
      "outputs": [
        {
          "output_type": "stream",
          "name": "stdout",
          "text": [
            "+--------+-------------+---------+---------+----------------+------------+-----------+\n",
            "|id_carro| modelo_carro|    preco|cod_marca|SUBSTRING_COLUNA|RIGHT_COLUNA|LEFT_COLUNA|\n",
            "+--------+-------------+---------+---------+----------------+------------+-----------+\n",
            "|       1|       Avalon|$78401.95|       54|            valo|          on|         Av|\n",
            "|       2|          RDX|$95987.38|        1|              DX|          DX|         RD|\n",
            "|       3|         Golf|$61274.55|       55|             olf|          lf|         Go|\n",
            "|       4|           EX|$84981.12|       23|               X|          EX|         EX|\n",
            "|       5|       Escort|$77466.89|       17|            scor|          rt|         Es|\n",
            "|       6|   Expedition|$84698.71|       17|            xped|          on|         Ex|\n",
            "|       7|      Voyager|$95567.75|       42|            oyag|          er|         Vo|\n",
            "|       8|        Civic|$84749.22|       20|            ivic|          ic|         Ci|\n",
            "|       9|     Defender|$98600.79|       29|            efen|          er|         De|\n",
            "|      10| V8 Vantage S|$94791.61|        2|            8 Va|           S|         V8|\n",
            "|      11|          C70|$97874.76|       56|              70|          70|         C7|\n",
            "|      12|G-Series 1500|$71638.24|       10|            -Ser|          00|         G-|\n",
            "|      13|       Legacy|$95850.12|       52|            egac|          cy|         Le|\n",
            "|      14|          DB9|$86707.30|        2|              B9|          B9|         DB|\n",
            "|      15|     Mulsanne|$70453.70|        6|            ulsa|          ne|         Mu|\n",
            "|      16|           RX|$46752.60|       30|               X|          RX|         RX|\n",
            "|      17|       Rabbit|$78048.08|       55|            abbi|          it|         Ra|\n",
            "|      18|            Q|$65193.95|       23|                |           Q|          Q|\n",
            "|      19|          S60|$65396.98|       56|              60|          60|         S6|\n",
            "|      20|        Envoy|$68994.97|       18|            nvoy|          oy|         En|\n",
            "+--------+-------------+---------+---------+----------------+------------+-----------+\n",
            "only showing top 20 rows\n",
            "\n"
          ]
        }
      ]
    }
  ]
}