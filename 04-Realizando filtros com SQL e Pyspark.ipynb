{
 "cells": [
  {
   "cell_type": "markdown",
   "metadata": {
    "application/vnd.databricks.v1+cell": {
     "cellMetadata": {},
     "inputWidgets": {},
     "nuid": "f3aa7896-b5cd-4975-8c66-1dd37e850701",
     "showTitle": false,
     "title": ""
    }
   },
   "source": [
    "#04-Realizando filtros com SQL e Pyspark\n",
    "by Adilson Albino"
   ]
  },
  {
   "cell_type": "code",
   "execution_count": 0,
   "metadata": {
    "application/vnd.databricks.v1+cell": {
     "cellMetadata": {
      "byteLimit": 2048000,
      "rowLimit": 10000
     },
     "inputWidgets": {},
     "nuid": "92babaea-3054-4666-a1e9-7dc5f3d41069",
     "showTitle": false,
     "title": ""
    }
   },
   "outputs": [
    {
     "output_type": "stream",
     "name": "stdout",
     "output_type": "stream",
     "text": [
      "+--------+------------+---------+---------+\n|id_carro|modelo_carro|    preco|cod_marca|\n+--------+------------+---------+---------+\n|       1|      Avalon|$78401.95|       54|\n|       2|         RDX|$95987.38|        1|\n|       3|        Golf|$61274.55|       55|\n|       4|          EX|$84981.12|       23|\n|       5|      Escort|$77466.89|       17|\n|       6|  Expedition|$84698.71|       17|\n|       7|     Voyager|$95567.75|       42|\n|       8|       Civic|$84749.22|       20|\n|       9|    Defender|$98600.79|       29|\n|      10|V8 Vantage S|$94791.61|        2|\n+--------+------------+---------+---------+\nonly showing top 10 rows\n\n"
     ]
    }
   ],
   "source": [
    "#Carregando dados no dataframe\n",
    "df_carros = spark\\\n",
    ".read.format(\"csv\")\\\n",
    ".option(\"header\", True)\\\n",
    ".load(\"/aprendizado/modelo_carro\")\n",
    "df_carros.show(10)"
   ]
  },
  {
   "cell_type": "markdown",
   "metadata": {
    "application/vnd.databricks.v1+cell": {
     "cellMetadata": {},
     "inputWidgets": {},
     "nuid": "bb8a1aff-1c0a-4f1d-a984-6436740acab8",
     "showTitle": false,
     "title": ""
    }
   },
   "source": [
    "#Realizando filtros com SQL"
   ]
  },
  {
   "cell_type": "code",
   "execution_count": 0,
   "metadata": {
    "application/vnd.databricks.v1+cell": {
     "cellMetadata": {
      "byteLimit": 2048000,
      "rowLimit": 10000
     },
     "inputWidgets": {},
     "nuid": "f37dc817-232d-49ca-bf61-e98c1b8fe929",
     "showTitle": false,
     "title": ""
    }
   },
   "outputs": [],
   "source": [
    "#para isso vamos criar uma tabela temporária\n",
    "df_carros.createOrReplaceTempView(\"TabelaCarros\")"
   ]
  },
  {
   "cell_type": "code",
   "execution_count": 0,
   "metadata": {
    "application/vnd.databricks.v1+cell": {
     "cellMetadata": {
      "byteLimit": 2048000,
      "implicitDf": true,
      "rowLimit": 10000
     },
     "inputWidgets": {},
     "nuid": "3c403450-8fc1-4998-8b3b-f96026ec690c",
     "showTitle": false,
     "title": ""
    }
   },
   "outputs": [
    {
     "output_type": "display_data",
     "data": {
      "text/html": [
       "<style scoped>\n",
       "  .table-result-container {\n",
       "    max-height: 300px;\n",
       "    overflow: auto;\n",
       "  }\n",
       "  table, th, td {\n",
       "    border: 1px solid black;\n",
       "    border-collapse: collapse;\n",
       "  }\n",
       "  th, td {\n",
       "    padding: 5px;\n",
       "  }\n",
       "  th {\n",
       "    text-align: left;\n",
       "  }\n",
       "</style><div class='table-result-container'><table class='table-result'><thead style='background-color: white'><tr><th>id_carro</th><th>modelo_carro</th><th>preco</th><th>cod_marca</th></tr></thead><tbody><tr><td>1</td><td>Avalon</td><td>$78401.95</td><td>54</td></tr></tbody></table></div>"
      ]
     },
     "metadata": {
      "application/vnd.databricks.v1+output": {
       "addedWidgets": {},
       "aggData": [],
       "aggError": "",
       "aggOverflow": false,
       "aggSchema": [],
       "aggSeriesLimitReached": false,
       "aggType": "",
       "arguments": {},
       "columnCustomDisplayInfos": {},
       "data": [
        [
         "1",
         "Avalon",
         "$78401.95",
         "54"
        ]
       ],
       "datasetInfos": [],
       "dbfsResultPath": null,
       "isJsonSchema": true,
       "metadata": {},
       "overflow": false,
       "plotOptions": {
        "customPlotOptions": {},
        "displayType": "table",
        "pivotAggregation": null,
        "pivotColumns": null,
        "xColumns": null,
        "yColumns": null
       },
       "removedWidgets": [],
       "schema": [
        {
         "metadata": "{}",
         "name": "id_carro",
         "type": "\"string\""
        },
        {
         "metadata": "{}",
         "name": "modelo_carro",
         "type": "\"string\""
        },
        {
         "metadata": "{}",
         "name": "preco",
         "type": "\"string\""
        },
        {
         "metadata": "{}",
         "name": "cod_marca",
         "type": "\"string\""
        }
       ],
       "type": "table"
      }
     },
     "output_type": "display_data"
    }
   ],
   "source": [
    "%sql\n",
    "SELECT\n",
    "  *\n",
    "FROM\n",
    "  TabelaCarros\n",
    "where id_carro = 1"
   ]
  },
  {
   "cell_type": "code",
   "execution_count": 0,
   "metadata": {
    "application/vnd.databricks.v1+cell": {
     "cellMetadata": {
      "byteLimit": 2048000,
      "implicitDf": true,
      "rowLimit": 10000
     },
     "inputWidgets": {},
     "nuid": "82ed8249-f5d1-431c-a60d-24cc9981ee8d",
     "showTitle": false,
     "title": ""
    }
   },
   "outputs": [
    {
     "output_type": "display_data",
     "data": {
      "text/html": [
       "<style scoped>\n",
       "  .table-result-container {\n",
       "    max-height: 300px;\n",
       "    overflow: auto;\n",
       "  }\n",
       "  table, th, td {\n",
       "    border: 1px solid black;\n",
       "    border-collapse: collapse;\n",
       "  }\n",
       "  th, td {\n",
       "    padding: 5px;\n",
       "  }\n",
       "  th {\n",
       "    text-align: left;\n",
       "  }\n",
       "</style><div class='table-result-container'><table class='table-result'><thead style='background-color: white'><tr><th>id_carro</th><th>modelo_carro</th><th>preco</th><th>cod_marca</th></tr></thead><tbody><tr><td>16</td><td>RX</td><td>$46752.60</td><td>30</td></tr><tr><td>110</td><td>RX</td><td>$83780.35</td><td>30</td></tr><tr><td>164</td><td>RX</td><td>$69993.41</td><td>30</td></tr><tr><td>175</td><td>RX</td><td>$68733.55</td><td>30</td></tr><tr><td>419</td><td>RX</td><td>$60724.95</td><td>30</td></tr><tr><td>581</td><td>RX</td><td>$77221.42</td><td>30</td></tr><tr><td>903</td><td>RX</td><td>$73487.77</td><td>30</td></tr></tbody></table></div>"
      ]
     },
     "metadata": {
      "application/vnd.databricks.v1+output": {
       "addedWidgets": {},
       "aggData": [],
       "aggError": "",
       "aggOverflow": false,
       "aggSchema": [],
       "aggSeriesLimitReached": false,
       "aggType": "",
       "arguments": {},
       "columnCustomDisplayInfos": {},
       "data": [
        [
         "16",
         "RX",
         "$46752.60",
         "30"
        ],
        [
         "110",
         "RX",
         "$83780.35",
         "30"
        ],
        [
         "164",
         "RX",
         "$69993.41",
         "30"
        ],
        [
         "175",
         "RX",
         "$68733.55",
         "30"
        ],
        [
         "419",
         "RX",
         "$60724.95",
         "30"
        ],
        [
         "581",
         "RX",
         "$77221.42",
         "30"
        ],
        [
         "903",
         "RX",
         "$73487.77",
         "30"
        ]
       ],
       "datasetInfos": [],
       "dbfsResultPath": null,
       "isJsonSchema": true,
       "metadata": {},
       "overflow": false,
       "plotOptions": {
        "customPlotOptions": {},
        "displayType": "table",
        "pivotAggregation": null,
        "pivotColumns": null,
        "xColumns": null,
        "yColumns": null
       },
       "removedWidgets": [],
       "schema": [
        {
         "metadata": "{}",
         "name": "id_carro",
         "type": "\"string\""
        },
        {
         "metadata": "{}",
         "name": "modelo_carro",
         "type": "\"string\""
        },
        {
         "metadata": "{}",
         "name": "preco",
         "type": "\"string\""
        },
        {
         "metadata": "{}",
         "name": "cod_marca",
         "type": "\"string\""
        }
       ],
       "type": "table"
      }
     },
     "output_type": "display_data"
    }
   ],
   "source": [
    "%sql\n",
    "SELECT\n",
    "  *\n",
    "FROM\n",
    "  TabelaCarros\n",
    "--where id_carro = 1\n",
    "where modelo_carro LIKE \"RX\""
   ]
  },
  {
   "cell_type": "code",
   "execution_count": 0,
   "metadata": {
    "application/vnd.databricks.v1+cell": {
     "cellMetadata": {
      "byteLimit": 2048000,
      "implicitDf": true,
      "rowLimit": 10000
     },
     "inputWidgets": {},
     "nuid": "daf30faf-7bbd-4c11-bea3-2be9139c1a28",
     "showTitle": false,
     "title": ""
    }
   },
   "outputs": [
    {
     "output_type": "display_data",
     "data": {
      "text/html": [
       "<style scoped>\n",
       "  .table-result-container {\n",
       "    max-height: 300px;\n",
       "    overflow: auto;\n",
       "  }\n",
       "  table, th, td {\n",
       "    border: 1px solid black;\n",
       "    border-collapse: collapse;\n",
       "  }\n",
       "  th, td {\n",
       "    padding: 5px;\n",
       "  }\n",
       "  th {\n",
       "    text-align: left;\n",
       "  }\n",
       "</style><div class='table-result-container'><table class='table-result'><thead style='background-color: white'><tr><th>id_carro</th><th>modelo_carro</th><th>preco</th><th>cod_marca</th></tr></thead><tbody><tr><td>1</td><td>Avalon</td><td>$78401.95</td><td>54</td></tr><tr><td>16</td><td>RX</td><td>$46752.60</td><td>30</td></tr><tr><td>110</td><td>RX</td><td>$83780.35</td><td>30</td></tr><tr><td>164</td><td>RX</td><td>$69993.41</td><td>30</td></tr><tr><td>175</td><td>RX</td><td>$68733.55</td><td>30</td></tr><tr><td>419</td><td>RX</td><td>$60724.95</td><td>30</td></tr><tr><td>581</td><td>RX</td><td>$77221.42</td><td>30</td></tr><tr><td>903</td><td>RX</td><td>$73487.77</td><td>30</td></tr></tbody></table></div>"
      ]
     },
     "metadata": {
      "application/vnd.databricks.v1+output": {
       "addedWidgets": {},
       "aggData": [],
       "aggError": "",
       "aggOverflow": false,
       "aggSchema": [],
       "aggSeriesLimitReached": false,
       "aggType": "",
       "arguments": {},
       "columnCustomDisplayInfos": {},
       "data": [
        [
         "1",
         "Avalon",
         "$78401.95",
         "54"
        ],
        [
         "16",
         "RX",
         "$46752.60",
         "30"
        ],
        [
         "110",
         "RX",
         "$83780.35",
         "30"
        ],
        [
         "164",
         "RX",
         "$69993.41",
         "30"
        ],
        [
         "175",
         "RX",
         "$68733.55",
         "30"
        ],
        [
         "419",
         "RX",
         "$60724.95",
         "30"
        ],
        [
         "581",
         "RX",
         "$77221.42",
         "30"
        ],
        [
         "903",
         "RX",
         "$73487.77",
         "30"
        ]
       ],
       "datasetInfos": [],
       "dbfsResultPath": null,
       "isJsonSchema": true,
       "metadata": {},
       "overflow": false,
       "plotOptions": {
        "customPlotOptions": {},
        "displayType": "table",
        "pivotAggregation": null,
        "pivotColumns": null,
        "xColumns": null,
        "yColumns": null
       },
       "removedWidgets": [],
       "schema": [
        {
         "metadata": "{}",
         "name": "id_carro",
         "type": "\"string\""
        },
        {
         "metadata": "{}",
         "name": "modelo_carro",
         "type": "\"string\""
        },
        {
         "metadata": "{}",
         "name": "preco",
         "type": "\"string\""
        },
        {
         "metadata": "{}",
         "name": "cod_marca",
         "type": "\"string\""
        }
       ],
       "type": "table"
      }
     },
     "output_type": "display_data"
    }
   ],
   "source": [
    "%sql\n",
    "SELECT\n",
    "  *\n",
    "FROM\n",
    "  TabelaCarros\n",
    "where id_carro = 1\n",
    "or modelo_carro LIKE \"RX\""
   ]
  },
  {
   "cell_type": "code",
   "execution_count": 0,
   "metadata": {
    "application/vnd.databricks.v1+cell": {
     "cellMetadata": {
      "byteLimit": 2048000,
      "rowLimit": 10000
     },
     "inputWidgets": {},
     "nuid": "cfa4d146-6a16-4cc5-a3ba-d641ccb154a7",
     "showTitle": false,
     "title": ""
    }
   },
   "outputs": [
    {
     "output_type": "display_data",
     "data": {
      "text/html": [
       "<style scoped>\n",
       "  .table-result-container {\n",
       "    max-height: 300px;\n",
       "    overflow: auto;\n",
       "  }\n",
       "  table, th, td {\n",
       "    border: 1px solid black;\n",
       "    border-collapse: collapse;\n",
       "  }\n",
       "  th, td {\n",
       "    padding: 5px;\n",
       "  }\n",
       "  th {\n",
       "    text-align: left;\n",
       "  }\n",
       "</style><div class='table-result-container'><table class='table-result'><thead style='background-color: white'><tr><th>id_carro</th><th>modelo_carro</th><th>preco</th><th>cod_marca</th></tr></thead><tbody><tr><td>1</td><td>Avalon</td><td>$78401.95</td><td>54</td></tr><tr><td>16</td><td>RX</td><td>$46752.60</td><td>30</td></tr><tr><td>110</td><td>RX</td><td>$83780.35</td><td>30</td></tr><tr><td>164</td><td>RX</td><td>$69993.41</td><td>30</td></tr><tr><td>175</td><td>RX</td><td>$68733.55</td><td>30</td></tr><tr><td>419</td><td>RX</td><td>$60724.95</td><td>30</td></tr><tr><td>581</td><td>RX</td><td>$77221.42</td><td>30</td></tr><tr><td>903</td><td>RX</td><td>$73487.77</td><td>30</td></tr></tbody></table></div>"
      ]
     },
     "metadata": {
      "application/vnd.databricks.v1+output": {
       "addedWidgets": {},
       "aggData": [],
       "aggError": "",
       "aggOverflow": false,
       "aggSchema": [],
       "aggSeriesLimitReached": false,
       "aggType": "",
       "arguments": {},
       "columnCustomDisplayInfos": {},
       "data": [
        [
         "1",
         "Avalon",
         "$78401.95",
         "54"
        ],
        [
         "16",
         "RX",
         "$46752.60",
         "30"
        ],
        [
         "110",
         "RX",
         "$83780.35",
         "30"
        ],
        [
         "164",
         "RX",
         "$69993.41",
         "30"
        ],
        [
         "175",
         "RX",
         "$68733.55",
         "30"
        ],
        [
         "419",
         "RX",
         "$60724.95",
         "30"
        ],
        [
         "581",
         "RX",
         "$77221.42",
         "30"
        ],
        [
         "903",
         "RX",
         "$73487.77",
         "30"
        ]
       ],
       "datasetInfos": [],
       "dbfsResultPath": null,
       "isJsonSchema": true,
       "metadata": {},
       "overflow": false,
       "plotOptions": {
        "customPlotOptions": {},
        "displayType": "table",
        "pivotAggregation": null,
        "pivotColumns": null,
        "xColumns": null,
        "yColumns": null
       },
       "removedWidgets": [],
       "schema": [
        {
         "metadata": "{}",
         "name": "id_carro",
         "type": "\"string\""
        },
        {
         "metadata": "{}",
         "name": "modelo_carro",
         "type": "\"string\""
        },
        {
         "metadata": "{}",
         "name": "preco",
         "type": "\"string\""
        },
        {
         "metadata": "{}",
         "name": "cod_marca",
         "type": "\"string\""
        }
       ],
       "type": "table"
      }
     },
     "output_type": "display_data"
    }
   ],
   "source": [
    "#Salvar os dado do sql em um df\n",
    "df_carros_sql =spark\\\n",
    ".sql(\"\"\"\n",
    "SELECT\n",
    "    *\n",
    "    FROM\n",
    "    TabelaCarros\n",
    "    where id_carro = 1\n",
    "    or modelo_carro LIKE \"RX\"      \n",
    "\"\"\")\n",
    "display(df_carros_sql)"
   ]
  },
  {
   "cell_type": "markdown",
   "metadata": {
    "application/vnd.databricks.v1+cell": {
     "cellMetadata": {},
     "inputWidgets": {},
     "nuid": "265364a3-db28-46e0-bebd-4d67c67de3ec",
     "showTitle": false,
     "title": ""
    }
   },
   "source": [
    "##Realizando filtro utilizando pyspark"
   ]
  },
  {
   "cell_type": "code",
   "execution_count": 0,
   "metadata": {
    "application/vnd.databricks.v1+cell": {
     "cellMetadata": {
      "byteLimit": 2048000,
      "rowLimit": 10000
     },
     "inputWidgets": {},
     "nuid": "f7479b24-98db-48e0-adca-babc04bda28d",
     "showTitle": false,
     "title": ""
    }
   },
   "outputs": [
    {
     "output_type": "display_data",
     "data": {
      "text/html": [
       "<style scoped>\n",
       "  .table-result-container {\n",
       "    max-height: 300px;\n",
       "    overflow: auto;\n",
       "  }\n",
       "  table, th, td {\n",
       "    border: 1px solid black;\n",
       "    border-collapse: collapse;\n",
       "  }\n",
       "  th, td {\n",
       "    padding: 5px;\n",
       "  }\n",
       "  th {\n",
       "    text-align: left;\n",
       "  }\n",
       "</style><div class='table-result-container'><table class='table-result'><thead style='background-color: white'><tr><th>id_carro</th><th>modelo_carro</th><th>preco</th><th>cod_marca</th></tr></thead><tbody><tr><td>1</td><td>Avalon</td><td>$78401.95</td><td>54</td></tr></tbody></table></div>"
      ]
     },
     "metadata": {
      "application/vnd.databricks.v1+output": {
       "addedWidgets": {},
       "aggData": [],
       "aggError": "",
       "aggOverflow": false,
       "aggSchema": [],
       "aggSeriesLimitReached": false,
       "aggType": "",
       "arguments": {},
       "columnCustomDisplayInfos": {},
       "data": [
        [
         "1",
         "Avalon",
         "$78401.95",
         "54"
        ]
       ],
       "datasetInfos": [],
       "dbfsResultPath": null,
       "isJsonSchema": true,
       "metadata": {},
       "overflow": false,
       "plotOptions": {
        "customPlotOptions": {},
        "displayType": "table",
        "pivotAggregation": null,
        "pivotColumns": null,
        "xColumns": null,
        "yColumns": null
       },
       "removedWidgets": [],
       "schema": [
        {
         "metadata": "{}",
         "name": "id_carro",
         "type": "\"string\""
        },
        {
         "metadata": "{}",
         "name": "modelo_carro",
         "type": "\"string\""
        },
        {
         "metadata": "{}",
         "name": "preco",
         "type": "\"string\""
        },
        {
         "metadata": "{}",
         "name": "cod_marca",
         "type": "\"string\""
        }
       ],
       "type": "table"
      }
     },
     "output_type": "display_data"
    }
   ],
   "source": [
    "display(\n",
    "    df_carros.where(\"id_carro = '1'\")\n",
    ")"
   ]
  },
  {
   "cell_type": "code",
   "execution_count": 0,
   "metadata": {
    "application/vnd.databricks.v1+cell": {
     "cellMetadata": {
      "byteLimit": 2048000,
      "rowLimit": 10000
     },
     "inputWidgets": {},
     "nuid": "e8e7411b-a478-4ade-b73b-7f1be111eccc",
     "showTitle": false,
     "title": ""
    }
   },
   "outputs": [
    {
     "output_type": "display_data",
     "data": {
      "text/html": [
       "<style scoped>\n",
       "  .table-result-container {\n",
       "    max-height: 300px;\n",
       "    overflow: auto;\n",
       "  }\n",
       "  table, th, td {\n",
       "    border: 1px solid black;\n",
       "    border-collapse: collapse;\n",
       "  }\n",
       "  th, td {\n",
       "    padding: 5px;\n",
       "  }\n",
       "  th {\n",
       "    text-align: left;\n",
       "  }\n",
       "</style><div class='table-result-container'><table class='table-result'><thead style='background-color: white'><tr><th>id_carro</th><th>modelo_carro</th><th>preco</th><th>cod_marca</th></tr></thead><tbody><tr><td>1</td><td>Avalon</td><td>$78401.95</td><td>54</td></tr></tbody></table></div>"
      ]
     },
     "metadata": {
      "application/vnd.databricks.v1+output": {
       "addedWidgets": {},
       "aggData": [],
       "aggError": "",
       "aggOverflow": false,
       "aggSchema": [],
       "aggSeriesLimitReached": false,
       "aggType": "",
       "arguments": {},
       "columnCustomDisplayInfos": {},
       "data": [
        [
         "1",
         "Avalon",
         "$78401.95",
         "54"
        ]
       ],
       "datasetInfos": [],
       "dbfsResultPath": null,
       "isJsonSchema": true,
       "metadata": {},
       "overflow": false,
       "plotOptions": {
        "customPlotOptions": {},
        "displayType": "table",
        "pivotAggregation": null,
        "pivotColumns": null,
        "xColumns": null,
        "yColumns": null
       },
       "removedWidgets": [],
       "schema": [
        {
         "metadata": "{}",
         "name": "id_carro",
         "type": "\"string\""
        },
        {
         "metadata": "{}",
         "name": "modelo_carro",
         "type": "\"string\""
        },
        {
         "metadata": "{}",
         "name": "preco",
         "type": "\"string\""
        },
        {
         "metadata": "{}",
         "name": "cod_marca",
         "type": "\"string\""
        }
       ],
       "type": "table"
      }
     },
     "output_type": "display_data"
    }
   ],
   "source": [
    "#Podemos tambem utilizar o \"filter\"\n",
    "display(\n",
    "    df_carros.filter(\"id_carro = '1'\")\n",
    ")"
   ]
  },
  {
   "cell_type": "code",
   "execution_count": 0,
   "metadata": {
    "application/vnd.databricks.v1+cell": {
     "cellMetadata": {
      "byteLimit": 2048000,
      "rowLimit": 10000
     },
     "inputWidgets": {},
     "nuid": "f06282f0-f335-4997-a692-4f99e30310fb",
     "showTitle": false,
     "title": ""
    }
   },
   "outputs": [
    {
     "output_type": "display_data",
     "data": {
      "text/html": [
       "<style scoped>\n",
       "  .table-result-container {\n",
       "    max-height: 300px;\n",
       "    overflow: auto;\n",
       "  }\n",
       "  table, th, td {\n",
       "    border: 1px solid black;\n",
       "    border-collapse: collapse;\n",
       "  }\n",
       "  th, td {\n",
       "    padding: 5px;\n",
       "  }\n",
       "  th {\n",
       "    text-align: left;\n",
       "  }\n",
       "</style><div class='table-result-container'><table class='table-result'><thead style='background-color: white'><tr><th>id_carro</th><th>modelo_carro</th><th>preco</th><th>cod_marca</th></tr></thead><tbody><tr><td>1</td><td>Avalon</td><td>$78401.95</td><td>54</td></tr></tbody></table></div>"
      ]
     },
     "metadata": {
      "application/vnd.databricks.v1+output": {
       "addedWidgets": {},
       "aggData": [],
       "aggError": "",
       "aggOverflow": false,
       "aggSchema": [],
       "aggSeriesLimitReached": false,
       "aggType": "",
       "arguments": {},
       "columnCustomDisplayInfos": {},
       "data": [
        [
         "1",
         "Avalon",
         "$78401.95",
         "54"
        ]
       ],
       "datasetInfos": [],
       "dbfsResultPath": null,
       "isJsonSchema": true,
       "metadata": {},
       "overflow": false,
       "plotOptions": {
        "customPlotOptions": {},
        "displayType": "table",
        "pivotAggregation": null,
        "pivotColumns": null,
        "xColumns": null,
        "yColumns": null
       },
       "removedWidgets": [],
       "schema": [
        {
         "metadata": "{}",
         "name": "id_carro",
         "type": "\"string\""
        },
        {
         "metadata": "{}",
         "name": "modelo_carro",
         "type": "\"string\""
        },
        {
         "metadata": "{}",
         "name": "preco",
         "type": "\"string\""
        },
        {
         "metadata": "{}",
         "name": "cod_marca",
         "type": "\"string\""
        }
       ],
       "type": "table"
      }
     },
     "output_type": "display_data"
    }
   ],
   "source": [
    "#Realizar mais de um filtro com se fosse o AND no SQL\n",
    "#Será necessário importar algumas funções do pyspark\n",
    "from pyspark.sql.functions import *\n",
    "\n",
    "display(\n",
    "    df_carros.where(\n",
    "        (col(\"id_carro\") == \"1\") &\n",
    "        (col(\"modelo_Carro\") == \"Avalon\")\n",
    "    )\n",
    ")"
   ]
  },
  {
   "cell_type": "code",
   "execution_count": 0,
   "metadata": {
    "application/vnd.databricks.v1+cell": {
     "cellMetadata": {
      "byteLimit": 2048000,
      "rowLimit": 10000
     },
     "inputWidgets": {},
     "nuid": "bf08f24d-1947-4534-b2b4-e3c4cc8b78e8",
     "showTitle": false,
     "title": ""
    }
   },
   "outputs": [
    {
     "output_type": "display_data",
     "data": {
      "text/html": [
       "<style scoped>\n",
       "  .table-result-container {\n",
       "    max-height: 300px;\n",
       "    overflow: auto;\n",
       "  }\n",
       "  table, th, td {\n",
       "    border: 1px solid black;\n",
       "    border-collapse: collapse;\n",
       "  }\n",
       "  th, td {\n",
       "    padding: 5px;\n",
       "  }\n",
       "  th {\n",
       "    text-align: left;\n",
       "  }\n",
       "</style><div class='table-result-container'><table class='table-result'><thead style='background-color: white'><tr><th>id_carro</th><th>modelo_carro</th><th>preco</th><th>cod_marca</th></tr></thead><tbody><tr><td>1</td><td>Avalon</td><td>$78401.95</td><td>54</td></tr><tr><td>3</td><td>Golf</td><td>$61274.55</td><td>55</td></tr><tr><td>237</td><td>Golf</td><td>$66249.75</td><td>55</td></tr><tr><td>330</td><td>Golf</td><td>$82099.83</td><td>55</td></tr></tbody></table></div>"
      ]
     },
     "metadata": {
      "application/vnd.databricks.v1+output": {
       "addedWidgets": {},
       "aggData": [],
       "aggError": "",
       "aggOverflow": false,
       "aggSchema": [],
       "aggSeriesLimitReached": false,
       "aggType": "",
       "arguments": {},
       "columnCustomDisplayInfos": {},
       "data": [
        [
         "1",
         "Avalon",
         "$78401.95",
         "54"
        ],
        [
         "3",
         "Golf",
         "$61274.55",
         "55"
        ],
        [
         "237",
         "Golf",
         "$66249.75",
         "55"
        ],
        [
         "330",
         "Golf",
         "$82099.83",
         "55"
        ]
       ],
       "datasetInfos": [],
       "dbfsResultPath": null,
       "isJsonSchema": true,
       "metadata": {},
       "overflow": false,
       "plotOptions": {
        "customPlotOptions": {},
        "displayType": "table",
        "pivotAggregation": null,
        "pivotColumns": null,
        "xColumns": null,
        "yColumns": null
       },
       "removedWidgets": [],
       "schema": [
        {
         "metadata": "{}",
         "name": "id_carro",
         "type": "\"string\""
        },
        {
         "metadata": "{}",
         "name": "modelo_carro",
         "type": "\"string\""
        },
        {
         "metadata": "{}",
         "name": "preco",
         "type": "\"string\""
        },
        {
         "metadata": "{}",
         "name": "cod_marca",
         "type": "\"string\""
        }
       ],
       "type": "table"
      }
     },
     "output_type": "display_data"
    }
   ],
   "source": [
    "#Utilizando | pipe para ter o mesmo efeito do OR\n",
    "display(\n",
    "    df_carros.where(\n",
    "        (col(\"id_carro\") == \"1\") |\n",
    "        (col(\"modelo_Carro\") == \"Golf\")\n",
    "    )\n",
    ")"
   ]
  },
  {
   "cell_type": "code",
   "execution_count": 0,
   "metadata": {
    "application/vnd.databricks.v1+cell": {
     "cellMetadata": {
      "byteLimit": 2048000,
      "rowLimit": 10000
     },
     "inputWidgets": {},
     "nuid": "11d860fc-85d9-46da-ac4e-b6953ce4f411",
     "showTitle": false,
     "title": ""
    }
   },
   "outputs": [
    {
     "output_type": "display_data",
     "data": {
      "text/html": [
       "<style scoped>\n",
       "  .table-result-container {\n",
       "    max-height: 300px;\n",
       "    overflow: auto;\n",
       "  }\n",
       "  table, th, td {\n",
       "    border: 1px solid black;\n",
       "    border-collapse: collapse;\n",
       "  }\n",
       "  th, td {\n",
       "    padding: 5px;\n",
       "  }\n",
       "  th {\n",
       "    text-align: left;\n",
       "  }\n",
       "</style><div class='table-result-container'><table class='table-result'><thead style='background-color: white'><tr><th>id_carro</th><th>modelo_carro</th><th>preco</th><th>cod_marca</th></tr></thead><tbody><tr><td>1</td><td>Avalon</td><td>$78401.95</td><td>54</td></tr></tbody></table></div>"
      ]
     },
     "metadata": {
      "application/vnd.databricks.v1+output": {
       "addedWidgets": {},
       "aggData": [],
       "aggError": "",
       "aggOverflow": false,
       "aggSchema": [],
       "aggSeriesLimitReached": false,
       "aggType": "",
       "arguments": {},
       "columnCustomDisplayInfos": {},
       "data": [
        [
         "1",
         "Avalon",
         "$78401.95",
         "54"
        ]
       ],
       "datasetInfos": [],
       "dbfsResultPath": null,
       "isJsonSchema": true,
       "metadata": {},
       "overflow": false,
       "plotOptions": {
        "customPlotOptions": {},
        "displayType": "table",
        "pivotAggregation": null,
        "pivotColumns": null,
        "xColumns": null,
        "yColumns": null
       },
       "removedWidgets": [],
       "schema": [
        {
         "metadata": "{}",
         "name": "id_carro",
         "type": "\"string\""
        },
        {
         "metadata": "{}",
         "name": "modelo_carro",
         "type": "\"string\""
        },
        {
         "metadata": "{}",
         "name": "preco",
         "type": "\"string\""
        },
        {
         "metadata": "{}",
         "name": "cod_marca",
         "type": "\"string\""
        }
       ],
       "type": "table"
      }
     },
     "output_type": "display_data"
    }
   ],
   "source": [
    "#Mais opções de filtros\n",
    "display(\n",
    "    df_carros.where(\n",
    "        df_carros.id_carro == \"1\"\n",
    "    )\n",
    ")"
   ]
  },
  {
   "cell_type": "code",
   "execution_count": 0,
   "metadata": {
    "application/vnd.databricks.v1+cell": {
     "cellMetadata": {},
     "inputWidgets": {},
     "nuid": "1c721082-6e5a-4172-8252-2764a0a76071",
     "showTitle": false,
     "title": ""
    }
   },
   "outputs": [],
   "source": [
    "#Mais opções de filtros\n",
    "display(\n",
    "    df_carros.where(\n",
    "        df_carros.id_carro == \"1\"\n",
    "    )\n",
    ")"
   ]
  },
  {
   "cell_type": "code",
   "execution_count": 0,
   "metadata": {
    "application/vnd.databricks.v1+cell": {
     "cellMetadata": {
      "byteLimit": 2048000,
      "rowLimit": 10000
     },
     "inputWidgets": {},
     "nuid": "02f9a401-acdc-4a99-907e-ed59c851c60f",
     "showTitle": false,
     "title": ""
    }
   },
   "outputs": [
    {
     "output_type": "display_data",
     "data": {
      "text/html": [
       "<style scoped>\n",
       "  .table-result-container {\n",
       "    max-height: 300px;\n",
       "    overflow: auto;\n",
       "  }\n",
       "  table, th, td {\n",
       "    border: 1px solid black;\n",
       "    border-collapse: collapse;\n",
       "  }\n",
       "  th, td {\n",
       "    padding: 5px;\n",
       "  }\n",
       "  th {\n",
       "    text-align: left;\n",
       "  }\n",
       "</style><div class='table-result-container'><table class='table-result'><thead style='background-color: white'><tr><th>id_carro</th><th>modelo_carro</th><th>preco</th><th>cod_marca</th></tr></thead><tbody><tr><td>1</td><td>Avalon</td><td>$78401.95</td><td>54</td></tr></tbody></table></div>"
      ]
     },
     "metadata": {
      "application/vnd.databricks.v1+output": {
       "addedWidgets": {},
       "aggData": [],
       "aggError": "",
       "aggOverflow": false,
       "aggSchema": [],
       "aggSeriesLimitReached": false,
       "aggType": "",
       "arguments": {},
       "columnCustomDisplayInfos": {},
       "data": [
        [
         "1",
         "Avalon",
         "$78401.95",
         "54"
        ]
       ],
       "datasetInfos": [],
       "dbfsResultPath": null,
       "isJsonSchema": true,
       "metadata": {},
       "overflow": false,
       "plotOptions": {
        "customPlotOptions": {},
        "displayType": "table",
        "pivotAggregation": null,
        "pivotColumns": null,
        "xColumns": null,
        "yColumns": null
       },
       "removedWidgets": [],
       "schema": [
        {
         "metadata": "{}",
         "name": "id_carro",
         "type": "\"string\""
        },
        {
         "metadata": "{}",
         "name": "modelo_carro",
         "type": "\"string\""
        },
        {
         "metadata": "{}",
         "name": "preco",
         "type": "\"string\""
        },
        {
         "metadata": "{}",
         "name": "cod_marca",
         "type": "\"string\""
        }
       ],
       "type": "table"
      }
     },
     "output_type": "display_data"
    }
   ],
   "source": [
    "#Mais opções de filtros usando colchetes []\n",
    "display(\n",
    "    df_carros.where(\n",
    "        df_carros[\"id_carro\"] == \"1\"\n",
    "    )\n",
    ")"
   ]
  },
  {
   "cell_type": "code",
   "execution_count": 0,
   "metadata": {
    "application/vnd.databricks.v1+cell": {
     "cellMetadata": {
      "byteLimit": 2048000,
      "rowLimit": 10000
     },
     "inputWidgets": {},
     "nuid": "70b8f234-6fe2-4725-b898-0fdc110b069c",
     "showTitle": false,
     "title": ""
    }
   },
   "outputs": [
    {
     "output_type": "display_data",
     "data": {
      "text/html": [
       "<style scoped>\n",
       "  .table-result-container {\n",
       "    max-height: 300px;\n",
       "    overflow: auto;\n",
       "  }\n",
       "  table, th, td {\n",
       "    border: 1px solid black;\n",
       "    border-collapse: collapse;\n",
       "  }\n",
       "  th, td {\n",
       "    padding: 5px;\n",
       "  }\n",
       "  th {\n",
       "    text-align: left;\n",
       "  }\n",
       "</style><div class='table-result-container'><table class='table-result'><thead style='background-color: white'><tr><th>id_carro</th><th>modelo_carro</th><th>preco</th><th>cod_marca</th></tr></thead><tbody><tr><td>1</td><td>Avalon</td><td>$78401.95</td><td>54</td></tr></tbody></table></div>"
      ]
     },
     "metadata": {
      "application/vnd.databricks.v1+output": {
       "addedWidgets": {},
       "aggData": [],
       "aggError": "",
       "aggOverflow": false,
       "aggSchema": [],
       "aggSeriesLimitReached": false,
       "aggType": "",
       "arguments": {},
       "columnCustomDisplayInfos": {},
       "data": [
        [
         "1",
         "Avalon",
         "$78401.95",
         "54"
        ]
       ],
       "datasetInfos": [],
       "dbfsResultPath": null,
       "isJsonSchema": true,
       "metadata": {},
       "overflow": false,
       "plotOptions": {
        "customPlotOptions": {},
        "displayType": "table",
        "pivotAggregation": null,
        "pivotColumns": null,
        "xColumns": null,
        "yColumns": null
       },
       "removedWidgets": [],
       "schema": [
        {
         "metadata": "{}",
         "name": "id_carro",
         "type": "\"string\""
        },
        {
         "metadata": "{}",
         "name": "modelo_carro",
         "type": "\"string\""
        },
        {
         "metadata": "{}",
         "name": "preco",
         "type": "\"string\""
        },
        {
         "metadata": "{}",
         "name": "cod_marca",
         "type": "\"string\""
        }
       ],
       "type": "table"
      }
     },
     "output_type": "display_data"
    }
   ],
   "source": [
    "#Salvando os dados em um df\n",
    "df_carros_pyspark = df_carros.where(\n",
    "        df_carros[\"id_carro\"] == \"1\"\n",
    "    )\n",
    "\n",
    "display(df_carros_pyspark)"
   ]
  }
 ],
 "metadata": {
  "application/vnd.databricks.v1+notebook": {
   "dashboards": [],
   "environmentMetadata": null,
   "language": "python",
   "notebookMetadata": {
    "mostRecentlyExecutedCommandWithImplicitDF": {
     "commandId": 428331049376273,
     "dataframes": [
      "_sqldf"
     ]
    },
    "pythonIndentUnit": 4
   },
   "notebookName": "04-Realizando filtros com SQL e Pyspark",
   "widgets": {}
  }
 },
 "nbformat": 4,
 "nbformat_minor": 0
}
