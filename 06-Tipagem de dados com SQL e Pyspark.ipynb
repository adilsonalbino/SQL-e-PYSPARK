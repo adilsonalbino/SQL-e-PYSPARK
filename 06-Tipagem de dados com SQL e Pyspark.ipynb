{
 "cells": [
  {
   "cell_type": "markdown",
   "metadata": {
    "application/vnd.databricks.v1+cell": {
     "cellMetadata": {
      "byteLimit": 2048000,
      "rowLimit": 10000
     },
     "inputWidgets": {},
     "nuid": "9cb9c7cf-1c4d-44e9-b095-01130cbf5fe0",
     "showTitle": false,
     "title": ""
    }
   },
   "source": [
    "#06-Tipagem de dados com SQL e Pyspark\n",
    "by Adilson Albino"
   ]
  },
  {
   "cell_type": "code",
   "execution_count": 0,
   "metadata": {
    "application/vnd.databricks.v1+cell": {
     "cellMetadata": {
      "byteLimit": 2048000,
      "rowLimit": 10000
     },
     "inputWidgets": {},
     "nuid": "da036bc6-ee34-454c-b986-a6f3f0ae0a90",
     "showTitle": false,
     "title": ""
    }
   },
   "outputs": [],
   "source": [
    "#Importando funções sql\n",
    "from pyspark.sql.functions import *"
   ]
  },
  {
   "cell_type": "code",
   "execution_count": 0,
   "metadata": {
    "application/vnd.databricks.v1+cell": {
     "cellMetadata": {
      "byteLimit": 2048000,
      "rowLimit": 10000
     },
     "inputWidgets": {},
     "nuid": "2b05dfcc-40af-469e-98c2-db1697211c27",
     "showTitle": false,
     "title": ""
    }
   },
   "outputs": [
    {
     "output_type": "stream",
     "name": "stdout",
     "output_type": "stream",
     "text": [
      "+--------+------------+---------+---------+\n|id_carro|modelo_carro|    preco|cod_marca|\n+--------+------------+---------+---------+\n|       1|      Avalon|$78401.95|       54|\n|       2|         RDX|$95987.38|        1|\n|       3|        Golf|$61274.55|       55|\n|       4|          EX|$84981.12|       23|\n|       5|      Escort|$77466.89|       17|\n|       6|  Expedition|$84698.71|       17|\n|       7|     Voyager|$95567.75|       42|\n|       8|       Civic|$84749.22|       20|\n|       9|    Defender|$98600.79|       29|\n|      10|V8 Vantage S|$94791.61|        2|\n+--------+------------+---------+---------+\nonly showing top 10 rows\n\n"
     ]
    }
   ],
   "source": [
    "df_carros = spark\\\n",
    ".read.format('csv')\\\n",
    ".option('header', True)\\\n",
    ".load('/aprendizado/modelo_carro')\n",
    "\n",
    "df_carros.show(10)"
   ]
  },
  {
   "cell_type": "code",
   "execution_count": 0,
   "metadata": {
    "application/vnd.databricks.v1+cell": {
     "cellMetadata": {
      "byteLimit": 2048000,
      "rowLimit": 10000
     },
     "inputWidgets": {},
     "nuid": "474dc4e9-a78e-4be3-acea-ce5bae259900",
     "showTitle": false,
     "title": ""
    }
   },
   "outputs": [
    {
     "output_type": "stream",
     "name": "stdout",
     "output_type": "stream",
     "text": [
      "+--------+------------+--------+---------+\n|id_carro|modelo_carro|   preco|cod_marca|\n+--------+------------+--------+---------+\n|       1|      Avalon|78401.95|       54|\n|       2|         RDX|95987.38|        1|\n|       3|        Golf|61274.55|       55|\n|       4|          EX|84981.12|       23|\n|       5|      Escort|77466.89|       17|\n|       6|  Expedition|84698.71|       17|\n|       7|     Voyager|95567.75|       42|\n|       8|       Civic|84749.22|       20|\n|       9|    Defender|98600.79|       29|\n|      10|V8 Vantage S|94791.61|        2|\n+--------+------------+--------+---------+\nonly showing top 10 rows\n\n"
     ]
    }
   ],
   "source": [
    "#substituindo $ por nada.\n",
    "df_carros = df_carros.withColumn(\"preco\", regexp_replace(col(\"preco\"),\"\\$\", \"\"))\n",
    "df_carros.show(10)"
   ]
  },
  {
   "cell_type": "code",
   "execution_count": 0,
   "metadata": {
    "application/vnd.databricks.v1+cell": {
     "cellMetadata": {
      "byteLimit": 2048000,
      "rowLimit": 10000
     },
     "inputWidgets": {},
     "nuid": "a65bac55-78ec-4f2e-819f-bf36e6bc3de2",
     "showTitle": false,
     "title": ""
    }
   },
   "outputs": [],
   "source": [
    "#Vamos usar o camando CAST para alterar a tipagem das colunas do dataframe\n",
    "#Os dados da tabela estão em string as colunas\n",
    "#_sqldf:pyspark.sql.dataframe.DataFrame\n",
    "#id_carro:string\n",
    "#modelo_carro:string\n",
    "#preco:string\n",
    "#cod_marca:string\n",
    "\n",
    "#Com o comando CAST podemos alterar essa essa tipagem."
   ]
  },
  {
   "cell_type": "markdown",
   "metadata": {
    "application/vnd.databricks.v1+cell": {
     "cellMetadata": {
      "byteLimit": 2048000,
      "rowLimit": 10000
     },
     "inputWidgets": {},
     "nuid": "3e62d725-393d-4001-8fec-28bb361c9b9e",
     "showTitle": false,
     "title": ""
    }
   },
   "source": [
    "#Utilizando SQL"
   ]
  },
  {
   "cell_type": "code",
   "execution_count": 0,
   "metadata": {
    "application/vnd.databricks.v1+cell": {
     "cellMetadata": {
      "byteLimit": 2048000,
      "rowLimit": 10000
     },
     "inputWidgets": {},
     "nuid": "5c9113b3-c9ab-4c4e-8789-5f183e2d7621",
     "showTitle": false,
     "title": ""
    }
   },
   "outputs": [
    {
     "output_type": "stream",
     "name": "stdout",
     "output_type": "stream",
     "text": [
      "+--------+------------+--------+---------+\n|id_carro|modelo_carro|   preco|cod_marca|\n+--------+------------+--------+---------+\n|       1|      Avalon|78401.95|       54|\n|       2|         RDX|95987.38|        1|\n|       3|        Golf|61274.55|       55|\n|       4|          EX|84981.12|       23|\n|       5|      Escort|77466.89|       17|\n|       6|  Expedition|84698.71|       17|\n|       7|     Voyager|95567.75|       42|\n|       8|       Civic|84749.22|       20|\n|       9|    Defender|98600.79|       29|\n|      10|V8 Vantage S|94791.61|        2|\n+--------+------------+--------+---------+\nonly showing top 10 rows\n\n"
     ]
    }
   ],
   "source": [
    "#Criando uma tabela temporária para consultas sql\n",
    "df_carros.createOrReplaceTempView(\"carros\")\n",
    "\n",
    "#criando dataframe para armazenar dados de retorno do comando sql\n",
    "df_carros_sql = spark.sql(\"\"\"\n",
    " select\n",
    "cast(id_carro as int),\n",
    "modelo_carro,\n",
    "cast(preco as double),\n",
    "cast(cod_marca as long)\n",
    "from carros                         \n",
    "                          \n",
    "\"\"\")\n",
    "\n",
    "df_carros_sql.show(10)"
   ]
  },
  {
   "cell_type": "code",
   "execution_count": 0,
   "metadata": {
    "application/vnd.databricks.v1+cell": {
     "cellMetadata": {
      "byteLimit": 2048000,
      "rowLimit": 10000
     },
     "inputWidgets": {},
     "nuid": "65ed26d6-56b5-42ff-866c-b4263dafea08",
     "showTitle": false,
     "title": ""
    }
   },
   "outputs": [
    {
     "output_type": "stream",
     "name": "stdout",
     "output_type": "stream",
     "text": [
      "root\n |-- id_carro: integer (nullable = true)\n |-- modelo_carro: string (nullable = true)\n |-- preco: double (nullable = true)\n |-- cod_marca: long (nullable = true)\n\n"
     ]
    }
   ],
   "source": [
    "#Como checar de outra forma os tipos de dados?\n",
    "#No pyspark podemos utiliza o \"printSchema\"\n",
    "\n",
    "df_carros_sql.printSchema()"
   ]
  },
  {
   "cell_type": "markdown",
   "metadata": {
    "application/vnd.databricks.v1+cell": {
     "cellMetadata": {
      "byteLimit": 2048000,
      "rowLimit": 10000
     },
     "inputWidgets": {},
     "nuid": "1b0de9b0-bc0e-4b6b-9ff0-bf2fc5abca33",
     "showTitle": false,
     "title": ""
    }
   },
   "source": [
    "#Utilizando PYSPARK"
   ]
  },
  {
   "cell_type": "code",
   "execution_count": 0,
   "metadata": {
    "application/vnd.databricks.v1+cell": {
     "cellMetadata": {
      "byteLimit": 2048000,
      "rowLimit": 10000
     },
     "inputWidgets": {},
     "nuid": "2b98e529-76d9-40c2-a6d2-31ebd5bb89be",
     "showTitle": false,
     "title": ""
    }
   },
   "outputs": [
    {
     "output_type": "stream",
     "name": "stdout",
     "output_type": "stream",
     "text": [
      "root\n |-- id_carro: string (nullable = true)\n |-- modelo_carro: string (nullable = true)\n |-- preco: string (nullable = true)\n |-- cod_marca: string (nullable = true)\n\n"
     ]
    }
   ],
   "source": [
    "df_carros_spark = df_carros\n",
    "df_carros_spark.printSchema()"
   ]
  },
  {
   "cell_type": "code",
   "execution_count": 0,
   "metadata": {
    "application/vnd.databricks.v1+cell": {
     "cellMetadata": {
      "byteLimit": 2048000,
      "rowLimit": 10000
     },
     "inputWidgets": {},
     "nuid": "f8655a83-0dab-44ab-ae6f-6b522e7739d2",
     "showTitle": false,
     "title": ""
    }
   },
   "outputs": [
    {
     "output_type": "stream",
     "name": "stdout",
     "output_type": "stream",
     "text": [
      "root\n |-- id_carro: integer (nullable = true)\n |-- modelo_carro: string (nullable = true)\n |-- preco: double (nullable = true)\n |-- cod_marca: long (nullable = true)\n\n"
     ]
    }
   ],
   "source": [
    "df_carros_spark = df_carros_spark.withColumn(\n",
    "    \"id_carro\",\n",
    "    col(\"id_carro\").cast(\"int\")\n",
    ").withColumn(\n",
    "    \"preco\",\n",
    "    col(\"preco\").cast(\"double\")\n",
    ").withColumn(\n",
    "    \"cod_marca\",\n",
    "   col(\"cod_marca\").cast(\"long\")\n",
    ")\n",
    "df_carros_spark.printSchema()"
   ]
  },
  {
   "cell_type": "code",
   "execution_count": 0,
   "metadata": {
    "application/vnd.databricks.v1+cell": {
     "cellMetadata": {
      "byteLimit": 2048000,
      "rowLimit": 10000
     },
     "inputWidgets": {},
     "nuid": "300d2dd6-8842-4659-936a-da60c769dd71",
     "showTitle": false,
     "title": ""
    }
   },
   "outputs": [
    {
     "output_type": "stream",
     "name": "stdout",
     "output_type": "stream",
     "text": [
      "root\n |-- id_carro: integer (nullable = true)\n |-- preco: double (nullable = true)\n |-- cod_marca: long (nullable = true)\n |-- modelo_carro: string (nullable = true)\n\n+--------+--------+---------+------------+\n|id_carro|   preco|cod_marca|modelo_carro|\n+--------+--------+---------+------------+\n|       1|78401.95|       54|      Avalon|\n|       2|95987.38|        1|         RDX|\n|       3|61274.55|       55|        Golf|\n|       4|84981.12|       23|          EX|\n|       5|77466.89|       17|      Escort|\n|       6|84698.71|       17|  Expedition|\n|       7|95567.75|       42|     Voyager|\n|       8|84749.22|       20|       Civic|\n|       9|98600.79|       29|    Defender|\n|      10|94791.61|        2|V8 Vantage S|\n+--------+--------+---------+------------+\nonly showing top 10 rows\n\n"
     ]
    }
   ],
   "source": [
    "#Uma segunda forma de se fazer com o pyspark é usando o .SELECT\n",
    "\n",
    "df_carros_spark2 = df_carros\n",
    "df_carros_spark2 = df_carros_spark2.select(\n",
    "    col(\"id_carro\").cast(\"int\"),\n",
    "    col(\"preco\").cast(\"double\"),\n",
    "    col(\"cod_marca\").cast(\"long\"),\n",
    "    \"modelo_carro\"\n",
    ")\n",
    "df_carros_spark2.printSchema()\n",
    "df_carros_spark2.show(10)"
   ]
  },
  {
   "cell_type": "code",
   "execution_count": 0,
   "metadata": {
    "application/vnd.databricks.v1+cell": {
     "cellMetadata": {
      "byteLimit": 2048000,
      "rowLimit": 10000
     },
     "inputWidgets": {},
     "nuid": "47d2aa51-cc9e-4942-bcee-b66456c99a6c",
     "showTitle": false,
     "title": ""
    }
   },
   "outputs": [
    {
     "output_type": "stream",
     "name": "stdout",
     "output_type": "stream",
     "text": [
      "root\n |-- id_carro: integer (nullable = true)\n |-- preco: double (nullable = true)\n |-- cod_marca: long (nullable = true)\n |-- modelo_carro: string (nullable = true)\n\n+--------+--------+---------+------------+\n|id_carro|   preco|cod_marca|modelo_carro|\n+--------+--------+---------+------------+\n|       1|78401.95|       54|      Avalon|\n|       2|95987.38|        1|         RDX|\n|       3|61274.55|       55|        Golf|\n|       4|84981.12|       23|          EX|\n|       5|77466.89|       17|      Escort|\n|       6|84698.71|       17|  Expedition|\n|       7|95567.75|       42|     Voyager|\n|       8|84749.22|       20|       Civic|\n|       9|98600.79|       29|    Defender|\n|      10|94791.61|        2|V8 Vantage S|\n+--------+--------+---------+------------+\nonly showing top 10 rows\n\n"
     ]
    }
   ],
   "source": [
    "#Uma terceira forma de se fazer com o pyspark é usando funções de tipagem dentro do CAST\n",
    "\n",
    "from pyspark.sql.types import *\n",
    "\n",
    "df_carros_spark2 = df_carros\n",
    "df_carros_spark2 = df_carros_spark2.select(\n",
    "    col(\"id_carro\").cast(IntegerType()),\n",
    "    col(\"preco\").cast(DoubleType()),\n",
    "    col(\"cod_marca\").cast(LongType()),\n",
    "    \"modelo_carro\"\n",
    ")\n",
    "df_carros_spark2.printSchema()\n",
    "df_carros_spark2.show(10)"
   ]
  }
 ],
 "metadata": {
  "application/vnd.databricks.v1+notebook": {
   "dashboards": [],
   "environmentMetadata": null,
   "language": "python",
   "notebookMetadata": {
    "mostRecentlyExecutedCommandWithImplicitDF": {
     "commandId": 4281805665650667,
     "dataframes": [
      "_sqldf"
     ]
    },
    "pythonIndentUnit": 4
   },
   "notebookName": "06-Tipagem de dados com SQL e Pyspark",
   "widgets": {}
  }
 },
 "nbformat": 4,
 "nbformat_minor": 0
}
