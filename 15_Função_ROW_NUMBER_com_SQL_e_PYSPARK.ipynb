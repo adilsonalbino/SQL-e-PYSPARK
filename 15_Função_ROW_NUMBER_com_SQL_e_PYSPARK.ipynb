{
  "nbformat": 4,
  "nbformat_minor": 0,
  "metadata": {
    "colab": {
      "provenance": [],
      "mount_file_id": "1jBqnRAH8u8mD0YyqLEF77vjNkwBOQvGV",
      "authorship_tag": "ABX9TyM+WyobtppXw2mMN85TIR7Z",
      "include_colab_link": true
    },
    "kernelspec": {
      "name": "python3",
      "display_name": "Python 3"
    },
    "language_info": {
      "name": "python"
    }
  },
  "cells": [
    {
      "cell_type": "markdown",
      "metadata": {
        "id": "view-in-github",
        "colab_type": "text"
      },
      "source": [
        "<a href=\"https://colab.research.google.com/github/adilsonalbino/SQL-e-PYSPARK/blob/main/15_Fun%C3%A7%C3%A3o_ROW_NUMBER_com_SQL_e_PYSPARK.ipynb\" target=\"_parent\"><img src=\"https://colab.research.google.com/assets/colab-badge.svg\" alt=\"Open In Colab\"/></a>"
      ]
    },
    {
      "cell_type": "markdown",
      "source": [
        "\n",
        "#15-Função ROWNUMBER com SQL e PYSPARK\n",
        "\n",
        "by Adilson Albino"
      ],
      "metadata": {
        "id": "E1QNlMN4bQma"
      }
    },
    {
      "cell_type": "code",
      "execution_count": 4,
      "metadata": {
        "id": "MKQieHT0PEJc"
      },
      "outputs": [],
      "source": [
        "#instalando pyspark\n",
        "!pip install pyspark\n",
        "\n",
        "#importando bibliotecas\n",
        "from pyspark.sql import SparkSession\n",
        "from pyspark.sql.functions import *\n",
        "from pyspark.sql.types import *\n",
        "\n",
        "#Criando app spark\n",
        "spark = SparkSession.builder \\\n",
        ".appName(\"Spark\")\\\n",
        ".getOrCreate()"
      ]
    },
    {
      "cell_type": "code",
      "source": [
        "#Variavel com a informação do caminho do dataset\n",
        "file_path_carros = \"/content/drive/MyDrive/Colab Notebooks/PySpark_SQL/DATASET_CARROS/modelo_carro.csv\""
      ],
      "metadata": {
        "id": "OXVAd5e0PatE"
      },
      "execution_count": 3,
      "outputs": []
    },
    {
      "cell_type": "code",
      "source": [
        "#Carregando o dataset\n",
        "df_carros = spark\\\n",
        ".read.format(\"csv\")\\\n",
        ".option(\"header\", True)\\\n",
        ".load(file_path_carros)\\\n",
        "\n",
        "df_carros = df_carros.withColumn(\n",
        "    \"preco\",\n",
        "    regexp_replace(\"preco\", \"\\$\", \"\")\n",
        "    .cast(DoubleType())\n",
        ")\n",
        "\n",
        "\n",
        "df_carros.show(10)"
      ],
      "metadata": {
        "id": "BQW-Ri7nPeLF",
        "colab": {
          "base_uri": "https://localhost:8080/"
        },
        "outputId": "585be316-af6b-420f-91d9-e7a2e0e02b11"
      },
      "execution_count": 6,
      "outputs": [
        {
          "output_type": "stream",
          "name": "stdout",
          "text": [
            "+--------+------------+--------+---------+\n",
            "|id_carro|modelo_carro|   preco|cod_marca|\n",
            "+--------+------------+--------+---------+\n",
            "|       1|      Avalon|78401.95|       54|\n",
            "|       2|         RDX|95987.38|        1|\n",
            "|       3|        Golf|61274.55|       55|\n",
            "|       4|          EX|84981.12|       23|\n",
            "|       5|      Escort|77466.89|       17|\n",
            "|       6|  Expedition|84698.71|       17|\n",
            "|       7|     Voyager|95567.75|       42|\n",
            "|       8|       Civic|84749.22|       20|\n",
            "|       9|    Defender|98600.79|       29|\n",
            "|      10|V8 Vantage S|94791.61|        2|\n",
            "+--------+------------+--------+---------+\n",
            "only showing top 10 rows\n",
            "\n"
          ]
        }
      ]
    },
    {
      "cell_type": "markdown",
      "source": [
        "#Utilizando SQL"
      ],
      "metadata": {
        "id": "tkFEuLEkb5b6"
      }
    },
    {
      "cell_type": "code",
      "source": [
        "#Criando tabela temporária\n",
        "df_carros.createOrReplaceTempView(\"carros\")"
      ],
      "metadata": {
        "id": "KCY9t3R2b4rR"
      },
      "execution_count": 7,
      "outputs": []
    },
    {
      "cell_type": "code",
      "source": [
        "df_carros_sql = spark.sql(\"\"\"\n",
        "    SELECT\n",
        "      *,\n",
        "      ROW_NUMBER() OVER (PARTITION BY modelo_carro ORDER BY preco DESC) AS RowNumber\n",
        "    FROM carros\n",
        "\n",
        "\"\"\")\n",
        "\n",
        "df_carros_sql.show(10)"
      ],
      "metadata": {
        "colab": {
          "base_uri": "https://localhost:8080/"
        },
        "id": "VSJB7nrndSp6",
        "outputId": "a78f7977-3f22-4f95-bf71-1adf96f43fe1"
      },
      "execution_count": 9,
      "outputs": [
        {
          "output_type": "stream",
          "name": "stdout",
          "text": [
            "+--------+---------------+--------+---------+---------+\n",
            "|id_carro|   modelo_carro|   preco|cod_marca|RowNumber|\n",
            "+--------+---------------+--------+---------+---------+\n",
            "|     117|            100|55023.26|        3|        1|\n",
            "|      71|           1000|82354.14|       43|        1|\n",
            "|      57|           1500|70293.96|       10|        1|\n",
            "|     634|           1500|45539.22|       18|        2|\n",
            "|     882|1500 Club Coupe|73878.68|       18|        1|\n",
            "|     690|          200SX|76179.86|       40|        1|\n",
            "|     171|            240|52885.44|       56|        1|\n",
            "|     283|          240SX|94383.87|       40|        1|\n",
            "|     136|          240SX|87853.77|       40|        2|\n",
            "|     891|          240SX|74588.41|       40|        3|\n",
            "+--------+---------------+--------+---------+---------+\n",
            "only showing top 10 rows\n",
            "\n"
          ]
        }
      ]
    },
    {
      "cell_type": "markdown",
      "source": [
        "#Utilizando pyspark\n"
      ],
      "metadata": {
        "id": "sxcfykPrb605"
      }
    },
    {
      "cell_type": "code",
      "source": [
        "#importando o windows\n",
        "from pyspark.sql.window import Window"
      ],
      "metadata": {
        "id": "A-eBEK1-eVZp"
      },
      "execution_count": 11,
      "outputs": []
    },
    {
      "cell_type": "code",
      "source": [
        "\n",
        "df_carros_spark = df_carros.withColumn(\n",
        "    \"RowNumber\",\n",
        "    row_number()\n",
        "    .over(Window\n",
        "    .partitionBy(\"modelo_carro\")\n",
        "    .orderBy(desc(\"preco\"))\n",
        "    )\n",
        ")\n",
        "\n",
        "df_carros_spark.show(10)"
      ],
      "metadata": {
        "colab": {
          "base_uri": "https://localhost:8080/"
        },
        "id": "CbI-JxlZb_Ep",
        "outputId": "149dae77-1413-4223-f664-592ab67fb209"
      },
      "execution_count": 13,
      "outputs": [
        {
          "output_type": "stream",
          "name": "stdout",
          "text": [
            "+--------+---------------+--------+---------+---------+\n",
            "|id_carro|   modelo_carro|   preco|cod_marca|RowNumber|\n",
            "+--------+---------------+--------+---------+---------+\n",
            "|     117|            100|55023.26|        3|        1|\n",
            "|      71|           1000|82354.14|       43|        1|\n",
            "|      57|           1500|70293.96|       10|        1|\n",
            "|     634|           1500|45539.22|       18|        2|\n",
            "|     882|1500 Club Coupe|73878.68|       18|        1|\n",
            "|     690|          200SX|76179.86|       40|        1|\n",
            "|     171|            240|52885.44|       56|        1|\n",
            "|     283|          240SX|94383.87|       40|        1|\n",
            "|     136|          240SX|87853.77|       40|        2|\n",
            "|     891|          240SX|74588.41|       40|        3|\n",
            "+--------+---------------+--------+---------+---------+\n",
            "only showing top 10 rows\n",
            "\n"
          ]
        }
      ]
    }
  ]
}