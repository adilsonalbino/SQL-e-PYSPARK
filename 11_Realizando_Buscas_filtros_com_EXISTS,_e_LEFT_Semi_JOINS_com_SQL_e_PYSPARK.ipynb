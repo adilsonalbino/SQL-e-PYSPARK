{
  "nbformat": 4,
  "nbformat_minor": 0,
  "metadata": {
    "colab": {
      "provenance": [],
      "mount_file_id": "1pgOZV9ZBZmLHRQU9hkdoVZLEfdZ9KkbV",
      "authorship_tag": "ABX9TyP9Gg6QXYNQ032BqC1/ajf0",
      "include_colab_link": true
    },
    "kernelspec": {
      "name": "python3",
      "display_name": "Python 3"
    },
    "language_info": {
      "name": "python"
    }
  },
  "cells": [
    {
      "cell_type": "markdown",
      "metadata": {
        "id": "view-in-github",
        "colab_type": "text"
      },
      "source": [
        "<a href=\"https://colab.research.google.com/github/adilsonalbino/SQL-e-PYSPARK/blob/main/11_Realizando_Buscas_filtros_com_EXISTS%2C_e_LEFT_Semi_JOINS_com_SQL_e_PYSPARK.ipynb\" target=\"_parent\"><img src=\"https://colab.research.google.com/assets/colab-badge.svg\" alt=\"Open In Colab\"/></a>"
      ]
    },
    {
      "cell_type": "markdown",
      "source": [
        "#11-Realizando Buscas/filtros com EXISTS, e LEFT Semi JOINS com SQL e PYSPARK\n",
        "\n",
        "\n",
        "*   A ideia é filtrar dados de uma tabela somente se esses dados existir na tabela principal.\n",
        "\n"
      ],
      "metadata": {
        "id": "6-jN5YbLjjEm"
      }
    },
    {
      "cell_type": "code",
      "source": [
        "#instalando pyspark\n",
        "!pip install pyspark\n",
        "\n",
        "#importando bibliotecas\n",
        "from pyspark.sql import SparkSession\n",
        "from pyspark.sql.functions import *\n",
        "\n",
        "#Criando app spark\n",
        "spark = SparkSession.builder \\\n",
        ".appName(\"Spark\")\\\n",
        ".getOrCreate()"
      ],
      "metadata": {
        "colab": {
          "base_uri": "https://localhost:8080/"
        },
        "id": "Dc9rFshwkTmC",
        "outputId": "afce3aaa-183f-424b-9957-50018cf8f946"
      },
      "execution_count": 5,
      "outputs": [
        {
          "output_type": "stream",
          "name": "stdout",
          "text": [
            "Requirement already satisfied: pyspark in /usr/local/lib/python3.10/dist-packages (3.5.1)\n",
            "Requirement already satisfied: py4j==0.10.9.7 in /usr/local/lib/python3.10/dist-packages (from pyspark) (0.10.9.7)\n"
          ]
        }
      ]
    },
    {
      "cell_type": "code",
      "source": [
        "file_path_carros = \"/content/drive/MyDrive/Colab Notebooks/PySpark_SQL/DATASET_CARROS/modelo_carro.csv\"\n"
      ],
      "metadata": {
        "id": "7aGMnFP_lLss"
      },
      "execution_count": 33,
      "outputs": []
    },
    {
      "cell_type": "code",
      "source": [
        "df_carros = spark\\\n",
        ".read.format(\"csv\")\\\n",
        ".option(\"header\", True)\\\n",
        ".load(file_path_carros)\\\n",
        "\n",
        "df_carros.show(5)"
      ],
      "metadata": {
        "colab": {
          "base_uri": "https://localhost:8080/"
        },
        "id": "jZR4BNN7mQi2",
        "outputId": "f11363c6-7d25-42b9-a0a1-ea5f3161f73a"
      },
      "execution_count": 41,
      "outputs": [
        {
          "output_type": "stream",
          "name": "stdout",
          "text": [
            "+--------+------------+---------+---------+\n",
            "|id_carro|modelo_carro|    preco|cod_marca|\n",
            "+--------+------------+---------+---------+\n",
            "|       1|      Avalon|$78401.95|       54|\n",
            "|       2|         RDX|$95987.38|        1|\n",
            "|       3|        Golf|$61274.55|       55|\n",
            "|       4|          EX|$84981.12|       23|\n",
            "|       5|      Escort|$77466.89|       17|\n",
            "+--------+------------+---------+---------+\n",
            "only showing top 5 rows\n",
            "\n"
          ]
        }
      ]
    },
    {
      "cell_type": "code",
      "source": [
        "#Criando dois dataframes fitrados com where()\n",
        "\n",
        "df_carros_inicio = df_carros.where(\n",
        "    (col(\"id_carro\") == '1') |\n",
        "    (col(\"id_Carro\") == '2') |\n",
        "    (col(\"id_carro\") == '3')\n",
        ")\n",
        "\n",
        "df_carros_fim = df_carros.where(\n",
        "    (col(\"id_carro\") == '1') |\n",
        "    (col(\"id_Carro\") == '2') |\n",
        "    (col(\"id_carro\") == '3') |\n",
        "    (col(\"id_carro\") == '4')\n",
        "\n",
        ")\n",
        "\n",
        "df_carros_inicio.show()\n",
        "df_carros_fim.show()"
      ],
      "metadata": {
        "colab": {
          "base_uri": "https://localhost:8080/"
        },
        "id": "TUKECuGvpC8M",
        "outputId": "f56c6901-5313-4a35-cc87-7e3b71d583a2"
      },
      "execution_count": 51,
      "outputs": [
        {
          "output_type": "stream",
          "name": "stdout",
          "text": [
            "+--------+------------+---------+---------+\n",
            "|id_carro|modelo_carro|    preco|cod_marca|\n",
            "+--------+------------+---------+---------+\n",
            "|       1|      Avalon|$78401.95|       54|\n",
            "|       2|         RDX|$95987.38|        1|\n",
            "|       3|        Golf|$61274.55|       55|\n",
            "+--------+------------+---------+---------+\n",
            "\n",
            "+--------+------------+---------+---------+\n",
            "|id_carro|modelo_carro|    preco|cod_marca|\n",
            "+--------+------------+---------+---------+\n",
            "|       1|      Avalon|$78401.95|       54|\n",
            "|       2|         RDX|$95987.38|        1|\n",
            "|       3|        Golf|$61274.55|       55|\n",
            "|       4|          EX|$84981.12|       23|\n",
            "+--------+------------+---------+---------+\n",
            "\n"
          ]
        }
      ]
    },
    {
      "cell_type": "markdown",
      "source": [
        "#Utilizando SQL"
      ],
      "metadata": {
        "id": "QVMk93hotS4V"
      }
    },
    {
      "cell_type": "code",
      "source": [
        "#Criando tabelas teporárias com os dfs\n",
        "df_carros_inicio.createOrReplaceTempView(\"carros_inicio\")\n",
        "df_carros_fim.createOrReplaceTempView(\"carros_fim\")"
      ],
      "metadata": {
        "id": "0STQxpT8sxex"
      },
      "execution_count": 54,
      "outputs": []
    },
    {
      "cell_type": "code",
      "source": [
        "#Utilizando EXISTS\n",
        "#A função permite retornar apenas os dados existente que bater com o ID na outra tabela\n",
        "df_carros_fim_sql = spark.sql(\"\"\"\n",
        "SELECT\n",
        "  *\n",
        "FROM carros_fim a\n",
        "WHERE EXISTS (SELECT * FROM carros_inicio b WHERE a.id_carro = b.id_carro)\n",
        "\"\"\")\n",
        "\n",
        "df_carros_fim_sql.show()"
      ],
      "metadata": {
        "colab": {
          "base_uri": "https://localhost:8080/"
        },
        "id": "nLaQ8Ooltmn5",
        "outputId": "6b80ef57-eb4d-467f-c500-fd58007a50b4"
      },
      "execution_count": 56,
      "outputs": [
        {
          "output_type": "stream",
          "name": "stdout",
          "text": [
            "+--------+------------+---------+---------+\n",
            "|id_carro|modelo_carro|    preco|cod_marca|\n",
            "+--------+------------+---------+---------+\n",
            "|       1|      Avalon|$78401.95|       54|\n",
            "|       2|         RDX|$95987.38|        1|\n",
            "|       3|        Golf|$61274.55|       55|\n",
            "+--------+------------+---------+---------+\n",
            "\n"
          ]
        }
      ]
    },
    {
      "cell_type": "markdown",
      "source": [
        "#Utilizando PYSPARK\n",
        "Obs: até o momento a função EXISTS não é aplicável diretamente para operações de DataFrames no PySpark. Em vez disso, você deve usar a operação de junção (join) passando no finalo argumento \"leftsemi\""
      ],
      "metadata": {
        "id": "sfwrwIdSvauP"
      }
    },
    {
      "cell_type": "code",
      "source": [
        "#Utilizando o LEFTSEMI para trazer o mesmo efeito do EXISTS\n",
        "\n",
        "df_carros_spark = df_carros_fim.join(\n",
        "    df_carros_inicio,\n",
        "    df_carros_fim.id_carro == df_carros_inicio.id_carro,\n",
        "    \"leftsemi\"\n",
        "    ).show()"
      ],
      "metadata": {
        "colab": {
          "base_uri": "https://localhost:8080/"
        },
        "id": "0GzXNNlbvtQD",
        "outputId": "577e4a55-30b7-457d-bc66-4d172950430f"
      },
      "execution_count": 66,
      "outputs": [
        {
          "output_type": "stream",
          "name": "stdout",
          "text": [
            "+--------+------------+---------+---------+\n",
            "|id_carro|modelo_carro|    preco|cod_marca|\n",
            "+--------+------------+---------+---------+\n",
            "|       1|      Avalon|$78401.95|       54|\n",
            "|       2|         RDX|$95987.38|        1|\n",
            "|       3|        Golf|$61274.55|       55|\n",
            "+--------+------------+---------+---------+\n",
            "\n"
          ]
        }
      ]
    }
  ]
}