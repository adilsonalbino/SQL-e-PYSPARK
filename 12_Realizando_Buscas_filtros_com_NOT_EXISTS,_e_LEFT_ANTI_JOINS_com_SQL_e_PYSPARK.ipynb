{
  "nbformat": 4,
  "nbformat_minor": 0,
  "metadata": {
    "colab": {
      "provenance": [],
      "mount_file_id": "17T7JsN6yoBHvjfb8Vfwt6CTqaJyqXUfW",
      "authorship_tag": "ABX9TyPvwyAqhq9MhZ0OE6OXOoHd",
      "include_colab_link": true
    },
    "kernelspec": {
      "name": "python3",
      "display_name": "Python 3"
    },
    "language_info": {
      "name": "python"
    }
  },
  "cells": [
    {
      "cell_type": "markdown",
      "metadata": {
        "id": "view-in-github",
        "colab_type": "text"
      },
      "source": [
        "<a href=\"https://colab.research.google.com/github/adilsonalbino/SQL-e-PYSPARK/blob/main/12_Realizando_Buscas_filtros_com_NOT_EXISTS%2C_e_LEFT_ANTI_JOINS_com_SQL_e_PYSPARK.ipynb\" target=\"_parent\"><img src=\"https://colab.research.google.com/assets/colab-badge.svg\" alt=\"Open In Colab\"/></a>"
      ]
    },
    {
      "cell_type": "markdown",
      "source": [
        "#12-Realizando Buscas/filtros com NOT EXISTS, e LEFT ANTI JOINS com SQL e PYSPARK.ipynb\n",
        "\n",
        "\n",
        "*   A ideia é filtrar dados de uma tabela somente se esses dados NÃO existir na tabela principal.\n",
        "\n"
      ],
      "metadata": {
        "id": "nUOvE-GF2Scz"
      }
    },
    {
      "cell_type": "code",
      "execution_count": 1,
      "metadata": {
        "colab": {
          "base_uri": "https://localhost:8080/"
        },
        "id": "mraZL22L16I4",
        "outputId": "8fa0620f-257a-4818-cc12-3058fe6ce755"
      },
      "outputs": [
        {
          "output_type": "stream",
          "name": "stdout",
          "text": [
            "Collecting pyspark\n",
            "  Downloading pyspark-3.5.1.tar.gz (317.0 MB)\n",
            "\u001b[2K     \u001b[90m━━━━━━━━━━━━━━━━━━━━━━━━━━━━━━━━━━━━━━━━\u001b[0m \u001b[32m317.0/317.0 MB\u001b[0m \u001b[31m2.1 MB/s\u001b[0m eta \u001b[36m0:00:00\u001b[0m\n",
            "\u001b[?25h  Preparing metadata (setup.py) ... \u001b[?25l\u001b[?25hdone\n",
            "Requirement already satisfied: py4j==0.10.9.7 in /usr/local/lib/python3.10/dist-packages (from pyspark) (0.10.9.7)\n",
            "Building wheels for collected packages: pyspark\n",
            "  Building wheel for pyspark (setup.py) ... \u001b[?25l\u001b[?25hdone\n",
            "  Created wheel for pyspark: filename=pyspark-3.5.1-py2.py3-none-any.whl size=317488491 sha256=f98450eafeeeaa3dc02bb801cec7944aa7b53d21568c563a5f571769d2f8decc\n",
            "  Stored in directory: /root/.cache/pip/wheels/80/1d/60/2c256ed38dddce2fdd93be545214a63e02fbd8d74fb0b7f3a6\n",
            "Successfully built pyspark\n",
            "Installing collected packages: pyspark\n",
            "Successfully installed pyspark-3.5.1\n"
          ]
        }
      ],
      "source": [
        "#instalando pyspark\n",
        "!pip install pyspark\n",
        "\n",
        "#importando bibliotecas\n",
        "from pyspark.sql import SparkSession\n",
        "from pyspark.sql.functions import *\n",
        "\n",
        "#Criando app spark\n",
        "spark = SparkSession.builder \\\n",
        ".appName(\"Spark\")\\\n",
        ".getOrCreate()"
      ]
    },
    {
      "cell_type": "code",
      "source": [
        "file_path_carros = \"/content/drive/MyDrive/Colab Notebooks/PySpark_SQL/DATASET_CARROS/modelo_carro.csv\""
      ],
      "metadata": {
        "id": "zJPHSNbU2BG2"
      },
      "execution_count": 2,
      "outputs": []
    },
    {
      "cell_type": "code",
      "source": [
        "df_carros = spark\\\n",
        ".read.format(\"csv\")\\\n",
        ".option(\"header\", True)\\\n",
        ".load(file_path_carros)\\\n",
        "\n",
        "df_carros.show(5)"
      ],
      "metadata": {
        "colab": {
          "base_uri": "https://localhost:8080/"
        },
        "id": "eV4IEnrE2kpg",
        "outputId": "eb6c4099-47ff-4eab-bef0-248b594ff6dc"
      },
      "execution_count": 3,
      "outputs": [
        {
          "output_type": "stream",
          "name": "stdout",
          "text": [
            "+--------+------------+---------+---------+\n",
            "|id_carro|modelo_carro|    preco|cod_marca|\n",
            "+--------+------------+---------+---------+\n",
            "|       1|      Avalon|$78401.95|       54|\n",
            "|       2|         RDX|$95987.38|        1|\n",
            "|       3|        Golf|$61274.55|       55|\n",
            "|       4|          EX|$84981.12|       23|\n",
            "|       5|      Escort|$77466.89|       17|\n",
            "+--------+------------+---------+---------+\n",
            "only showing top 5 rows\n",
            "\n"
          ]
        }
      ]
    },
    {
      "cell_type": "code",
      "source": [
        "#Criando dois dataframes fitrados com where()\n",
        "\n",
        "df_carros_inicio = df_carros.where(\n",
        "    (col(\"id_carro\") == '1') |\n",
        "    (col(\"id_Carro\") == '2') |\n",
        "    (col(\"id_carro\") == '3')\n",
        ")\n",
        "\n",
        "df_carros_fim = df_carros.where(\n",
        "    (col(\"id_carro\") == '1') |\n",
        "    (col(\"id_Carro\") == '2') |\n",
        "    (col(\"id_carro\") == '3') |\n",
        "    (col(\"id_carro\") == '4')\n",
        "\n",
        ")\n",
        "\n",
        "df_carros_inicio.show()\n",
        "df_carros_fim.show()"
      ],
      "metadata": {
        "colab": {
          "base_uri": "https://localhost:8080/"
        },
        "id": "YNkDnKan2qBf",
        "outputId": "70b203b0-88d7-4501-ef31-8bcadb4297e8"
      },
      "execution_count": 4,
      "outputs": [
        {
          "output_type": "stream",
          "name": "stdout",
          "text": [
            "+--------+------------+---------+---------+\n",
            "|id_carro|modelo_carro|    preco|cod_marca|\n",
            "+--------+------------+---------+---------+\n",
            "|       1|      Avalon|$78401.95|       54|\n",
            "|       2|         RDX|$95987.38|        1|\n",
            "|       3|        Golf|$61274.55|       55|\n",
            "+--------+------------+---------+---------+\n",
            "\n",
            "+--------+------------+---------+---------+\n",
            "|id_carro|modelo_carro|    preco|cod_marca|\n",
            "+--------+------------+---------+---------+\n",
            "|       1|      Avalon|$78401.95|       54|\n",
            "|       2|         RDX|$95987.38|        1|\n",
            "|       3|        Golf|$61274.55|       55|\n",
            "|       4|          EX|$84981.12|       23|\n",
            "+--------+------------+---------+---------+\n",
            "\n"
          ]
        }
      ]
    },
    {
      "cell_type": "markdown",
      "source": [
        "#Utilizando SQL"
      ],
      "metadata": {
        "id": "jKOZA9Oz2sPr"
      }
    },
    {
      "cell_type": "code",
      "source": [
        "#Criando tabelas teporárias com os dfs\n",
        "df_carros_inicio.createOrReplaceTempView(\"carros_inicio\")\n",
        "df_carros_fim.createOrReplaceTempView(\"carros_fim\")"
      ],
      "metadata": {
        "id": "PzC2msdl2rfd"
      },
      "execution_count": 5,
      "outputs": []
    },
    {
      "cell_type": "code",
      "source": [
        "#Utilizando NOT EXISTS\n",
        "#A função permite retornar apenas os dados existente que bater com o ID na outra tabela\n",
        "df_carros_fim_sql = spark.sql(\"\"\"\n",
        "SELECT\n",
        "  *\n",
        "FROM carros_fim a\n",
        "WHERE NOT EXISTS (SELECT 1 FROM carros_inicio b WHERE a.id_carro = b.id_carro)\n",
        "\"\"\")\n",
        "\n",
        "df_carros_fim_sql.show()"
      ],
      "metadata": {
        "colab": {
          "base_uri": "https://localhost:8080/"
        },
        "id": "t8jm7uyd21Lj",
        "outputId": "fa8b7479-2480-41e7-8962-c4f2a6689564"
      },
      "execution_count": 20,
      "outputs": [
        {
          "output_type": "stream",
          "name": "stdout",
          "text": [
            "+--------+------------+---------+---------+\n",
            "|id_carro|modelo_carro|    preco|cod_marca|\n",
            "+--------+------------+---------+---------+\n",
            "|       4|          EX|$84981.12|       23|\n",
            "+--------+------------+---------+---------+\n",
            "\n"
          ]
        }
      ]
    },
    {
      "cell_type": "markdown",
      "source": [
        "#Utilizando PYSPARK\n",
        "\n",
        "Obs: até o momento a função NOT EXISTS não é aplicável diretamente para operações de DataFrames no PySpark. Em vez disso, você deve usar a operação de junção (join) passando no finalo argumento \"leftanti\"\n"
      ],
      "metadata": {
        "id": "7RMFVotA26Aj"
      }
    },
    {
      "cell_type": "code",
      "source": [
        "#Utilizando o LEFTSEMI para trazer o mesmo efeito do EXISTS\n",
        "\n",
        "df_carros_spark = df_carros_fim.join(\n",
        "    df_carros_inicio,\n",
        "    df_carros_fim.id_carro == df_carros_inicio.id_carro,\n",
        "    \"leftanti\"\n",
        "    ).show()"
      ],
      "metadata": {
        "colab": {
          "base_uri": "https://localhost:8080/"
        },
        "id": "p_HKhiJd26-m",
        "outputId": "5c286e6b-9a74-4e0c-ce14-6c93fc540391"
      },
      "execution_count": 19,
      "outputs": [
        {
          "output_type": "stream",
          "name": "stdout",
          "text": [
            "+--------+------------+---------+---------+\n",
            "|id_carro|modelo_carro|    preco|cod_marca|\n",
            "+--------+------------+---------+---------+\n",
            "|       4|          EX|$84981.12|       23|\n",
            "+--------+------------+---------+---------+\n",
            "\n"
          ]
        }
      ]
    }
  ]
}