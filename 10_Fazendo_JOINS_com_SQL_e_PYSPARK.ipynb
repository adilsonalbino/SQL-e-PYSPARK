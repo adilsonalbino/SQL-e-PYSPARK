{
  "nbformat": 4,
  "nbformat_minor": 0,
  "metadata": {
    "colab": {
      "provenance": [],
      "mount_file_id": "1XuzWGWO0vV9g3UIcYthvLK4v7tZ1Jmg_",
      "authorship_tag": "ABX9TyNNEOMNpoAws9HeVPeUfJYV",
      "include_colab_link": true
    },
    "kernelspec": {
      "name": "python3",
      "display_name": "Python 3"
    },
    "language_info": {
      "name": "python"
    }
  },
  "cells": [
    {
      "cell_type": "markdown",
      "metadata": {
        "id": "view-in-github",
        "colab_type": "text"
      },
      "source": [
        "<a href=\"https://colab.research.google.com/github/adilsonalbino/ferramentasetl/blob/main/10_Fazendo_JOINS_com_SQL_e_PYSPARK.ipynb\" target=\"_parent\"><img src=\"https://colab.research.google.com/assets/colab-badge.svg\" alt=\"Open In Colab\"/></a>"
      ]
    },
    {
      "cell_type": "markdown",
      "source": [
        "#10-Fazendo JOINS com SQL e PYSPARK\n",
        "\n",
        "by Adilson Albino\n",
        "\n",
        "---\n",
        "\n"
      ],
      "metadata": {
        "id": "7BdNJcK5Tkq1"
      }
    },
    {
      "cell_type": "code",
      "execution_count": null,
      "metadata": {
        "id": "rPxz-_rSTh1d"
      },
      "outputs": [],
      "source": [
        "#Instalando pyspark no ambiente\n",
        "!pip install pyspark\n",
        "\n",
        "#Importando as bibliotecas\n",
        "from pyspark.sql import SparkSession\n",
        "from pyspark.sql.functions import *\n",
        "\n",
        "#Criando uma sparksession\n",
        "spark = SparkSession.builder\\\n",
        ".appName(\"Spark Engine\")\\\n",
        ".getOrCreate()"
      ]
    },
    {
      "cell_type": "code",
      "source": [
        "file_path_modelo = \"/content/drive/MyDrive/Colab Notebooks/PySaprk e SQL/DATASET_CARROS/modelo_carro.csv\"\n",
        "file_path_marcas = \"/content/drive/MyDrive/Colab Notebooks/PySaprk e SQL/DATASET_CARROS/marca_carro.csv/\""
      ],
      "metadata": {
        "id": "ZwaEBjqJT-33"
      },
      "execution_count": 28,
      "outputs": []
    },
    {
      "cell_type": "code",
      "source": [
        "df_carros = spark.read.csv(file_path_modelo, header=True, inferSchema=True)\n",
        "df_marcas = spark.read.csv(file_path_marcas, header=True, inferSchema=True)\n",
        "\n",
        "df_carros.show(5)\n",
        "df_marcas.show(5)"
      ],
      "metadata": {
        "colab": {
          "base_uri": "https://localhost:8080/"
        },
        "id": "xvDyj8e0Uhow",
        "outputId": "62f1756d-4207-47f8-c596-d66c6cce09d6"
      },
      "execution_count": 46,
      "outputs": [
        {
          "output_type": "stream",
          "name": "stdout",
          "text": [
            "+--------+------------+---------+---------+\n",
            "|id_carro|modelo_carro|    preco|cod_marca|\n",
            "+--------+------------+---------+---------+\n",
            "|       1|      Avalon|$78401.95|       54|\n",
            "|       2|         RDX|$95987.38|        1|\n",
            "|       3|        Golf|$61274.55|       55|\n",
            "|       4|          EX|$84981.12|       23|\n",
            "|       5|      Escort|$77466.89|       17|\n",
            "+--------+------------+---------+---------+\n",
            "only showing top 5 rows\n",
            "\n",
            "+------------+---------+\n",
            "| marca_carro|cod_marca|\n",
            "+------------+---------+\n",
            "|       Acura|        1|\n",
            "|Aston Martin|        2|\n",
            "|        Audi|        3|\n",
            "|      Austin|        4|\n",
            "|         BMW|        5|\n",
            "+------------+---------+\n",
            "only showing top 5 rows\n",
            "\n"
          ]
        }
      ]
    },
    {
      "cell_type": "code",
      "source": [],
      "metadata": {
        "id": "wuphAOkbl-wT"
      },
      "execution_count": null,
      "outputs": []
    },
    {
      "cell_type": "markdown",
      "source": [
        "#Realizando JOINS com SQL"
      ],
      "metadata": {
        "id": "G15WnndGU6TE"
      }
    },
    {
      "cell_type": "code",
      "source": [
        "#Criando tabela temporária\n",
        "df_carros.createOrReplaceTempView(\"carros\")\n",
        "df_marcas.createOrReplaceTempView(\"marcas\")"
      ],
      "metadata": {
        "id": "tfm8m5FDU59e"
      },
      "execution_count": null,
      "outputs": []
    },
    {
      "cell_type": "code",
      "source": [
        "#Utilizando WHERE\n",
        "df_carros_marcas_sql = spark.sql(\"\"\"\n",
        "  SELECT\n",
        "    a.id_carro,\n",
        "    a.modelo_carro,\n",
        "    a.preco,\n",
        "    b.cod_marca,\n",
        "    b.marca_carro\n",
        "  FROM carros a, marcas b\n",
        "  WHERE a.cod_marca = b.cod_marca\n",
        "\"\"\")\n",
        "df_carros_marcas_sql.show(5)"
      ],
      "metadata": {
        "colab": {
          "base_uri": "https://localhost:8080/"
        },
        "id": "TGnmXgkOVFw3",
        "outputId": "455fad72-cbf8-4abe-fb64-82a110bb1602"
      },
      "execution_count": null,
      "outputs": [
        {
          "output_type": "stream",
          "name": "stdout",
          "text": [
            "+--------+------------+---------+---------+-----------+\n",
            "|id_carro|modelo_carro|    preco|cod_marca|marca_carro|\n",
            "+--------+------------+---------+---------+-----------+\n",
            "|       1|      Avalon|$78401.95|       54|     Toyota|\n",
            "|       2|         RDX|$95987.38|        1|      Acura|\n",
            "|       3|        Golf|$61274.55|       55| Volkswagen|\n",
            "|       4|          EX|$84981.12|       23|   Infiniti|\n",
            "|       5|      Escort|$77466.89|       17|       Ford|\n",
            "+--------+------------+---------+---------+-----------+\n",
            "only showing top 5 rows\n",
            "\n"
          ]
        }
      ]
    },
    {
      "cell_type": "code",
      "source": [
        "#Utilizando INNER\n",
        "df_carros_marcas_sql = spark.sql(\"\"\"\n",
        "  SELECT\n",
        "    a.id_carro,\n",
        "    a.modelo_carro,\n",
        "    a.preco,\n",
        "    b.cod_marca,\n",
        "    b.marca_carro\n",
        "  FROM carros a\n",
        "  INNER JOIN marcas b\n",
        "  ON a.cod_marca = b.cod_marca\n",
        "\"\"\")\n",
        "df_carros_marcas_sql.show(5)\n"
      ],
      "metadata": {
        "colab": {
          "base_uri": "https://localhost:8080/"
        },
        "id": "bgyfXaycXQ9O",
        "outputId": "0e6e4179-79f5-4fce-fe85-ba88c01cfbec"
      },
      "execution_count": null,
      "outputs": [
        {
          "output_type": "stream",
          "name": "stdout",
          "text": [
            "+--------+------------+---------+---------+-----------+\n",
            "|id_carro|modelo_carro|    preco|cod_marca|marca_carro|\n",
            "+--------+------------+---------+---------+-----------+\n",
            "|       1|      Avalon|$78401.95|       54|     Toyota|\n",
            "|       2|         RDX|$95987.38|        1|      Acura|\n",
            "|       3|        Golf|$61274.55|       55| Volkswagen|\n",
            "|       4|          EX|$84981.12|       23|   Infiniti|\n",
            "|       5|      Escort|$77466.89|       17|       Ford|\n",
            "+--------+------------+---------+---------+-----------+\n",
            "only showing top 5 rows\n",
            "\n"
          ]
        }
      ]
    },
    {
      "cell_type": "code",
      "source": [
        "#Trazendo todas as colunas da tabela carros e apenas 1 da tabela marca\n",
        "df_carros_marcas_sql = spark.sql(\"\"\"\n",
        "  SELECT\n",
        "    a.*,\n",
        "    b.marca_carro\n",
        "  FROM carros a\n",
        "  INNER JOIN marcas b\n",
        "  ON a.cod_marca = b.cod_marca\n",
        "\"\"\")\n",
        "df_carros_marcas_sql.show(5)"
      ],
      "metadata": {
        "colab": {
          "base_uri": "https://localhost:8080/"
        },
        "id": "Kxi1JyS3cUqQ",
        "outputId": "3b383ccf-c336-489c-e82b-0ef7d5d377a8"
      },
      "execution_count": null,
      "outputs": [
        {
          "output_type": "stream",
          "name": "stdout",
          "text": [
            "+--------+------------+---------+---------+-----------+\n",
            "|id_carro|modelo_carro|    preco|cod_marca|marca_carro|\n",
            "+--------+------------+---------+---------+-----------+\n",
            "|       1|      Avalon|$78401.95|       54|     Toyota|\n",
            "|       2|         RDX|$95987.38|        1|      Acura|\n",
            "|       3|        Golf|$61274.55|       55| Volkswagen|\n",
            "|       4|          EX|$84981.12|       23|   Infiniti|\n",
            "|       5|      Escort|$77466.89|       17|       Ford|\n",
            "+--------+------------+---------+---------+-----------+\n",
            "only showing top 5 rows\n",
            "\n"
          ]
        }
      ]
    },
    {
      "cell_type": "code",
      "source": [
        "#Utilizando RIGHT\n",
        "df_carros_marcas_sql = spark.sql(\"\"\"\n",
        "  SELECT\n",
        "    a.id_carro,\n",
        "    a.modelo_carro,\n",
        "    a.preco,\n",
        "    b.cod_marca,\n",
        "    b.marca_carro\n",
        "  FROM marcas b\n",
        "  RIGHT JOIN carros a\n",
        "  ON a.cod_marca = b.cod_marca\n",
        "\"\"\")\n",
        "df_carros_marcas_sql.show(5)"
      ],
      "metadata": {
        "colab": {
          "base_uri": "https://localhost:8080/"
        },
        "id": "wE3LuZ70X6eq",
        "outputId": "2d8f62d4-794f-48c5-9512-5ac4109ac8c6"
      },
      "execution_count": null,
      "outputs": [
        {
          "output_type": "stream",
          "name": "stdout",
          "text": [
            "+--------+------------+---------+---------+-----------+\n",
            "|id_carro|modelo_carro|    preco|cod_marca|marca_carro|\n",
            "+--------+------------+---------+---------+-----------+\n",
            "|       1|      Avalon|$78401.95|       54|     Toyota|\n",
            "|       2|         RDX|$95987.38|        1|      Acura|\n",
            "|       3|        Golf|$61274.55|       55| Volkswagen|\n",
            "|       4|          EX|$84981.12|       23|   Infiniti|\n",
            "|       5|      Escort|$77466.89|       17|       Ford|\n",
            "+--------+------------+---------+---------+-----------+\n",
            "only showing top 5 rows\n",
            "\n"
          ]
        }
      ]
    },
    {
      "cell_type": "code",
      "source": [
        "#Utilizando LEFT\n",
        "df_carros_marcas_sql = spark.sql(\"\"\"\n",
        "  SELECT\n",
        "    a.id_carro,\n",
        "    a.modelo_carro,\n",
        "    a.preco,\n",
        "    b.cod_marca,\n",
        "    b.marca_carro\n",
        "  FROM marcas b\n",
        "  LEFT JOIN carros a\n",
        "  ON a.cod_marca = b.cod_marca\n",
        "\"\"\")\n",
        "df_carros_marcas_sql.show(5)"
      ],
      "metadata": {
        "colab": {
          "base_uri": "https://localhost:8080/"
        },
        "id": "VI7wQRLiYFt-",
        "outputId": "62b97006-69e8-455d-a85f-9494ec908c8e"
      },
      "execution_count": null,
      "outputs": [
        {
          "output_type": "stream",
          "name": "stdout",
          "text": [
            "+--------+------------+---------+---------+-----------+\n",
            "|id_carro|modelo_carro|    preco|cod_marca|marca_carro|\n",
            "+--------+------------+---------+---------+-----------+\n",
            "|     997|          CL|$81133.01|        1|      Acura|\n",
            "|     852|     Integra|$54434.81|        1|      Acura|\n",
            "|     646|         SLX|$76518.37|        1|      Acura|\n",
            "|     638|      Legend|$47400.94|        1|      Acura|\n",
            "|     601|         NSX|$63519.05|        1|      Acura|\n",
            "+--------+------------+---------+---------+-----------+\n",
            "only showing top 5 rows\n",
            "\n"
          ]
        }
      ]
    },
    {
      "cell_type": "code",
      "source": [],
      "metadata": {
        "id": "4iPRdgLLcFr1"
      },
      "execution_count": null,
      "outputs": []
    },
    {
      "cell_type": "markdown",
      "source": [
        "#Realizando JOINS com PYSPARK"
      ],
      "metadata": {
        "id": "nAor64LuYi6D"
      }
    },
    {
      "cell_type": "code",
      "source": [
        "#Inner Join\n",
        "df_innerjoin_spark = df_carros.join(\n",
        "    df_marcas,\n",
        "    (df_carros.cod_marca == df_marcas.cod_marca),\n",
        "    \"inner\")\n",
        "df_innerjoin_spark.show(5)"
      ],
      "metadata": {
        "colab": {
          "base_uri": "https://localhost:8080/"
        },
        "id": "-dqZsSTiYinJ",
        "outputId": "9d9d18ba-986b-4a97-df82-caa69d751ce9"
      },
      "execution_count": null,
      "outputs": [
        {
          "output_type": "stream",
          "name": "stdout",
          "text": [
            "+--------+------------+---------+---------+-----------+---------+\n",
            "|id_carro|modelo_carro|    preco|cod_marca|marca_carro|cod_marca|\n",
            "+--------+------------+---------+---------+-----------+---------+\n",
            "|       1|      Avalon|$78401.95|       54|     Toyota|       54|\n",
            "|       2|         RDX|$95987.38|        1|      Acura|        1|\n",
            "|       3|        Golf|$61274.55|       55| Volkswagen|       55|\n",
            "|       4|          EX|$84981.12|       23|   Infiniti|       23|\n",
            "|       5|      Escort|$77466.89|       17|       Ford|       17|\n",
            "+--------+------------+---------+---------+-----------+---------+\n",
            "only showing top 5 rows\n",
            "\n"
          ]
        }
      ]
    },
    {
      "cell_type": "code",
      "source": [
        "#Inner Left\n",
        "df_Leftjoin_spark = df_carros.join(\n",
        "    df_marcas,\n",
        "    (df_carros.cod_marca == df_marcas.cod_marca),\n",
        "    \"left\")\n",
        "df_Leftjoin_spark.show(5)"
      ],
      "metadata": {
        "colab": {
          "base_uri": "https://localhost:8080/"
        },
        "id": "S-U_oyHpelkd",
        "outputId": "20af4da0-59f1-4ad2-a012-2cbcb99f025c"
      },
      "execution_count": null,
      "outputs": [
        {
          "output_type": "stream",
          "name": "stdout",
          "text": [
            "+--------+------------+---------+---------+-----------+---------+\n",
            "|id_carro|modelo_carro|    preco|cod_marca|marca_carro|cod_marca|\n",
            "+--------+------------+---------+---------+-----------+---------+\n",
            "|       1|      Avalon|$78401.95|       54|     Toyota|       54|\n",
            "|       2|         RDX|$95987.38|        1|      Acura|        1|\n",
            "|       3|        Golf|$61274.55|       55| Volkswagen|       55|\n",
            "|       4|          EX|$84981.12|       23|   Infiniti|       23|\n",
            "|       5|      Escort|$77466.89|       17|       Ford|       17|\n",
            "+--------+------------+---------+---------+-----------+---------+\n",
            "only showing top 5 rows\n",
            "\n"
          ]
        }
      ]
    },
    {
      "cell_type": "code",
      "source": [
        "#Inner right\n",
        "df_rightjoin_spark = df_carros.join(\n",
        "    df_marcas,\n",
        "    (df_carros.cod_marca == df_marcas.cod_marca),\n",
        "    \"right\")\n",
        "df_rightjoin_spark.show(5)"
      ],
      "metadata": {
        "colab": {
          "base_uri": "https://localhost:8080/"
        },
        "id": "hb_TOGW8gC4Y",
        "outputId": "974c5113-64ff-4701-df97-863328997388"
      },
      "execution_count": null,
      "outputs": [
        {
          "output_type": "stream",
          "name": "stdout",
          "text": [
            "+--------+------------+---------+---------+-----------+---------+\n",
            "|id_carro|modelo_carro|    preco|cod_marca|marca_carro|cod_marca|\n",
            "+--------+------------+---------+---------+-----------+---------+\n",
            "|     997|          CL|$81133.01|        1|      Acura|        1|\n",
            "|     852|     Integra|$54434.81|        1|      Acura|        1|\n",
            "|     646|         SLX|$76518.37|        1|      Acura|        1|\n",
            "|     638|      Legend|$47400.94|        1|      Acura|        1|\n",
            "|     601|         NSX|$63519.05|        1|      Acura|        1|\n",
            "+--------+------------+---------+---------+-----------+---------+\n",
            "only showing top 5 rows\n",
            "\n"
          ]
        }
      ]
    },
    {
      "cell_type": "code",
      "source": [
        "#Como trazer ou selecionar apenas algumas colunas de uma tabela?\n",
        "#Inner Join\n",
        "df_innerjoin_spark = df_carros.join(\n",
        "    df_marcas,\n",
        "    (df_carros.cod_marca == df_marcas.cod_marca),\n",
        "    \"inner\").select(\n",
        "        df_carros[\"*\"], #Traz todos as colunas da tabela carros\n",
        "        df_marcas.marca_carro # traz apenas a coluna marca_carro da tabela marca\n",
        "    )\n",
        "df_innerjoin_spark.show(5)"
      ],
      "metadata": {
        "colab": {
          "base_uri": "https://localhost:8080/"
        },
        "id": "uJUeAuMog5m-",
        "outputId": "18d1c62b-4299-413e-9634-fb2362d6617b"
      },
      "execution_count": null,
      "outputs": [
        {
          "output_type": "stream",
          "name": "stdout",
          "text": [
            "+--------+------------+---------+---------+-----------+\n",
            "|id_carro|modelo_carro|    preco|cod_marca|marca_carro|\n",
            "+--------+------------+---------+---------+-----------+\n",
            "|       1|      Avalon|$78401.95|       54|     Toyota|\n",
            "|       2|         RDX|$95987.38|        1|      Acura|\n",
            "|       3|        Golf|$61274.55|       55| Volkswagen|\n",
            "|       4|          EX|$84981.12|       23|   Infiniti|\n",
            "|       5|      Escort|$77466.89|       17|       Ford|\n",
            "+--------+------------+---------+---------+-----------+\n",
            "only showing top 5 rows\n",
            "\n"
          ]
        }
      ]
    }
  ]
}